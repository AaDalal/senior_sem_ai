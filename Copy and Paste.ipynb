{
 "cells": [
  {
   "cell_type": "markdown",
   "metadata": {},
   "source": [
    "# Copy and Paste"
   ]
  },
  {
   "cell_type": "markdown",
   "metadata": {},
   "source": [
    "<center>Resources</center>\n",
    "\n",
    "https://en.wikipedia.org/wiki/Additive_smoothing\n",
    "\n",
    "https://stats.stackexchange.com/questions/218492/how-does-naive-bayes-work-with-continuous-variables\n",
    "\n",
    "http://lib.stat.cmu.edu/datasets/boston"
   ]
  },
  {
   "cell_type": "markdown",
   "metadata": {},
   "source": [
    "### 1. Type of Data\n",
    "*\n",
    "\n",
    "### 2. Use Case\n",
    "*\n",
    "\n",
    "### 3. Application\n",
    "*\n",
    "\n",
    "### 4. Basic Concept\n",
    "*\n",
    "\n",
    "### 5. Assumptions\n",
    "*\n",
    "\n",
    "### 6. Existing solutions\n",
    "\n",
    "### 7. Strengths and Weaknesses\n",
    "#### Strengths\n",
    "*\n",
    "\n",
    "#### Weaknesses\n",
    "*"
   ]
  }
 ],
 "metadata": {
  "kernelspec": {
   "display_name": "Python 3.7.1 64-bit ('tf2': conda)",
   "language": "python",
   "name": "tf2"
  },
  "language_info": {
   "codemirror_mode": {
    "name": "ipython",
    "version": 3
   },
   "file_extension": ".py",
   "mimetype": "text/x-python",
   "name": "python",
   "nbconvert_exporter": "python",
   "pygments_lexer": "ipython3",
   "version": "3.7.1"
  }
 },
 "nbformat": 4,
 "nbformat_minor": 2
}
