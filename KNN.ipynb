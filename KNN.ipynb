{
 "cells": [
  {
   "cell_type": "markdown",
   "metadata": {},
   "source": [
    "# K-nearest Neighbor (KNN) Classification"
   ]
  },
  {
   "cell_type": "markdown",
   "metadata": {},
   "source": [
    "<center>Resources</center>\n",
    "\n",
    "https://sci2s.ugr.es/keel/pdf/algorithm/articulo/1985-IEEE_TSMC-Keller.pdf"
   ]
  },
  {
   "cell_type": "code",
   "execution_count": 1,
   "metadata": {},
   "outputs": [],
   "source": [
    "import numpy as np\n",
    "\n",
    "def knn(x, X, Y, k):\n",
    "    def euclidean(X, x):\n",
    "        return np.sqrt(np.sum((X - x)**2, axis = 1))\n",
    "    distances = euclidean(X, x)\n",
    "    \n",
    "    indices = np.argpartition(distances, k)[:k]\n",
    "    unique, counts = np.unique(Y[indices], return_counts = True)\n",
    "    \n",
    "    if np.count_nonzero(np.max(counts) == np.array(counts)) == 1:\n",
    "        return unique[np.argmax(counts)]\n",
    "    else:\n",
    "        return sY[np.argmin(distances[indices])]\n",
    "    \n",
    "    "
   ]
  },
  {
   "cell_type": "code",
   "execution_count": 40,
   "metadata": {},
   "outputs": [
    {
     "name": "stdout",
     "output_type": "stream",
     "text": [
      "(300, 2)\n",
      "(300,)\n"
     ]
    },
    {
     "data": {
      "image/png": "[encoded data removed]",
      "text/plain": [
       "<Figure size 432x288 with 1 Axes>"
      ]
     },
     "metadata": {
      "needs_background": "light"
     },
     "output_type": "display_data"
    }
   ],
   "source": [
    "import matplotlib.pyplot as plt\n",
    "\n",
    "from sklearn.datasets.samples_generator import make_blobs\n",
    "X, y = make_blobs(n_samples=300, centers=4, cluster_std=0.60, random_state=0)\n",
    "\n",
    "print(X.shape)\n",
    "\n",
    "rng = np.random.default_rng()\n",
    "def train_test_split(X,y,indices_or_sections,rng,):\n",
    "    ind = np.arange(len(X))\n",
    "    print(ind.shape)\n",
    "    np.random.shuffle(ind)\n",
    "    ind = np.split(ind, indices_or_sections = indices_or_sections, axis = 0)\n",
    "    \n",
    "    x_train = X[ind[0]]; y_train = y[ind[0]]\n",
    "    \n",
    "    x_test = X[ind[1]]; y_test = y[ind[1]]\n",
    "    \n",
    "    return (x_train, y_train), (x_test, y_test)\n",
    "(x_train, y_train), (x_test, y_test) = train_test_split(X,y,[20],rng)\n",
    "    \n",
    "plt.scatter(x_train[:, 0], x_train[:, 1])\n",
    "plt.title('Random Dataset from Sklearn make_blobs')\n",
    "plt.show()"
   ]
  },
  {
   "cell_type": "code",
   "execution_count": 44,
   "metadata": {},
   "outputs": [
    {
     "name": "stdout",
     "output_type": "stream",
     "text": [
      "accuracy is 99.64285714285714% with 20 training samples\n"
     ]
    }
   ],
   "source": [
    "preds = []\n",
    "for x in x_test:\n",
    "    preds.append(knn(x, x_train, y_train, 3))\n",
    "    \n",
    "acc = np.count_nonzero(np.array(preds) == y_test) / len(preds) * 100\n",
    "\n",
    "print(f'accuracy is {acc}% with {len(x_train)} training samples')"
   ]
  },
  {
   "cell_type": "code",
   "execution_count": 50,
   "metadata": {},
   "outputs": [
    {
     "name": "stdout",
     "output_type": "stream",
     "text": [
      "accuracy is 99.64285714285714% with 20 training samples\n"
     ]
    }
   ],
   "source": [
    "from sklearn.neighbors import KNeighborsClassifier\n",
    "\n",
    "model = KNeighborsClassifier(n_neighbors = 3,)\n",
    "model.fit(x_train, y_train)\n",
    "skl_preds = model.predict(x_test)\n",
    "\n",
    "acc = np.count_nonzero(np.array(skl_preds) == y_test) / len(skl_preds) * 100\n",
    "\n",
    "print(f'accuracy is {acc}% with {len(x_train)} training samples')"
   ]
  },
  {
   "cell_type": "markdown",
   "metadata": {},
   "source": [
    "### 1. Type of Data\n",
    "* Clusterable data\n",
    "\n",
    "### 2. Use Case\n",
    "* When you have pre-labeled data\n",
    "* When high accuracy is needed\n",
    "\n",
    "### 3. Application\n",
    "* Any clustering job as a starting point\n",
    "\n",
    "### 4. Basic Concept\n",
    "* The sample takes on the most prevalent class in the k points closest to it\n",
    "\n",
    "### 5. Assumptions\n",
    "* K can be well predicted\n",
    "* There are clusters\n",
    "\n",
    "### 6. Existing solutions\n",
    "* Sklearn KNeighborsClassifier\n",
    "\n",
    "### 7. Strengths and Weaknesses\n",
    "#### Strengths\n",
    "* Easy to use\n",
    "* Works well when samples are available\n",
    "\n",
    "#### Weaknesses\n",
    "* Struggles on data where clustering are less defined\n",
    "* Need labeled data\n",
    "* Slow on large datasets because distances must be computed for all points"
   ]
  }
 ],
 "metadata": {
  "kernelspec": {
   "display_name": "Python 3.7.1 64-bit ('tf2': conda)",
   "language": "python",
   "name": "tf2"
  },
  "language_info": {
   "codemirror_mode": {
    "name": "ipython",
    "version": 3
   },
   "file_extension": ".py",
   "mimetype": "text/x-python",
   "name": "python",
   "nbconvert_exporter": "python",
   "pygments_lexer": "ipython3",
   "version": "3.7.1"
  }
 },
 "nbformat": 4,
 "nbformat_minor": 2
}
