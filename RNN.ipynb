{
 "cells": [
  {
   "cell_type": "markdown",
   "metadata": {},
   "source": [
    "# Recurrent Neural Network\n",
    "\n",
    "### Vocabulary\n",
    "* Tokens: the units that you can break text into\n",
    "* One-hot encoding: converting integer values into a vector the size of the maximum value of the integer, where the value of the integer is encoded in the location of the 1. Typically 0 is unassigned.\n",
    "* Feature hashing: store hashes of the tokens in a sample. This is so that if later, additional tokens are added more columns dont have to be added to the data. To avoid hash collisions, the size of the hash can be increased.\n",
    "* Word embedding: associate each word with a floating point vector which can be much shorter than a one-hot encoded vector. The idea is to geometrically map the meanings of the words - the example Chollet gave was female being a geometric transformation of king that produces queen (2018, p. 185)\n",
    "* Feedforward: take the entire sample at once (no memory)\n",
    "* Recurrence: internal loop within the network\n",
    "  * Typically timeseries samples of shape (timesteps, input features)\n",
    "  * The previous output is the model is the data that is fed into the next\n",
    "* Vanishing gradient: when you use the sigmoid or tanh activations, which are by definition limited to max absolute value of 1, the gradient has many values < 1 multiplied together. This results in a tiny gradient that barely has any effect. This is especially prevalent in RNNs because they often have sigmoid or Tanh and are really extremely deep ANNs."
   ]
  },
  {
   "cell_type": "markdown",
   "metadata": {},
   "source": [
    "<center>Resources</center>\n",
    "\n",
    "Chollet, F. (2018). Deep learning with Python. Manning Publications Co\n",
    "\n",
    "http://www.wildml.com/2015/10/recurrent-neural-network-tutorial-part-4-implementing-a-grulstm-rnn-with-python-and-theano/\n",
    "\n",
    "https://colah.github.io/posts/2015-08-Understanding-LSTMs/"
   ]
  },
  {
   "cell_type": "code",
   "execution_count": 3,
   "metadata": {},
   "outputs": [],
   "source": [
    "# Simple\n",
    "# The for loop can be expanded so that the recurring part forms a longer neural network\n",
    "\n",
    "import numpy as np\n",
    "\n",
    "timesteps = 1000\n",
    "input_features = 32\n",
    "output_features = 64\n",
    "\n",
    "U = np.random.random((output_features, output_features))\n",
    "W = np.random.random((output_features, input_features))\n",
    "b = np.random.random((output_features,))\n",
    "\n",
    "inputs = np.random.random((timesteps, input_features))\n",
    "state = np.zeros(output_features,)\n",
    "\n",
    "all_outputs = []\n",
    "for input_ in inputs:\n",
    "    output = np.tanh(np.dot(W, input_), np.dot(U, state) + b)\n",
    "    state = output\n",
    "    all_outputs.append(output)"
   ]
  },
  {
   "cell_type": "code",
   "execution_count": null,
   "metadata": {},
   "outputs": [],
   "source": [
    "# Long-Short Term RNN / GRU RNN\n",
    "# Note: this implementation is psuedo-python. not to be run.\n",
    "\n",
    "import numpy as np\n",
    "import math\n",
    "def sigmoid(x):\n",
    "  return 1 / (1 + math.exp(-x))\n",
    "\n",
    "timesteps = 1000\n",
    "input_features = 32\n",
    "output_features = 64\n",
    "\n",
    "Uo = np.random.random((output_features, output_features))\n",
    "Wo = np.random.random((output_features, input_features))\n",
    "Vo = np.random.random((output_features, input_features))\n",
    "b = np.random.random((output_features,))\n",
    "\n",
    "inputs = np.random.random((timesteps, input_features))\n",
    "state_t = np.zeros(output_features,)\n",
    "\n",
    "# The addition is the carry value, which is meant to carry the long term memory\n",
    "# The use for this is to stop the vanishing gradient problem, where in the chain rule, due to the fact that many outputs are <1 (particularily from tanh and sigmoid activations), the gradient ends up being a very small fraction. Therefore there is little to go off of \n",
    "# VGP occurs with neural networks with many layers\n",
    "# This also applies to RNNs because they are just really deep neural networks!\n",
    "\n",
    "c_t = np.zeros(output_features,)\n",
    "\n",
    "all_outputs = []\n",
    "for input_t in inputs:\n",
    "    # how the c_t is inputted varies\n",
    "    # Sometimes: output_t = np.tanh(np.dot(Wo, input_t), np.dot(Uo, state_t) + bo)\n",
    "    # And the c_t value is integrated by: output_t*tanh(c_t)\n",
    "    output_t = np.tanh(np.dot(Wo, input_t), np.dot(Uo, state_t), np.dot(Vo, c_t) + b)\n",
    "    state_t = output_t\n",
    "    all_outputs.append(output_t)\n",
    "    \n",
    "    \n",
    "    f_t = sigmoid(np.dot(state_t, Uf) + np.dot(input_t, Wf) + bf) # Called the forgetting gate because it determines how much is remembered (f_t) and how much is forgotten (1-f_t)\n",
    "    i_t = sigmoid(np.dot(state_t, Ui) + np.dot(input_t, Wi) + bi) # Called the input gate because decides how much new info is injected\n",
    "    k_t = tanh(np.dot(state_t, Uk) + np.dot(input_t, Wk) + bk) # The new C_t candidate\n",
    "    c_t =  f_t*c_t + i_t*k_t\n",
    "    \n",
    "# Note: GRU is very similar to above, except it uses only 1 gate to decide how much of the old and new information are combined (the reset gate combines forget and input). Similar to LSTM, it uses another gate to decide how much of this carry is included in the data. "
   ]
  },
  {
   "cell_type": "code",
   "execution_count": 5,
   "metadata": {},
   "outputs": [],
   "source": [
    "from tensorflow.keras.datasets import imdb\n",
    "from tensorflow.keras.preprocessing import sequence\n",
    "\n",
    "max_features = 10000\n",
    "maxlen = 500\n",
    "batch_size = 32\n",
    "\n",
    "(x_train, y_train), (x_test, y_test) = imdb.load_data(num_words = max_features)\n",
    "\n",
    "x_train = sequence.pad_sequences(x_train, maxlen = maxlen)\n",
    "x_test = sequence.pad_sequences(x_test, maxlen = maxlen)"
   ]
  },
  {
   "cell_type": "code",
   "execution_count": 12,
   "metadata": {},
   "outputs": [
    {
     "name": "stdout",
     "output_type": "stream",
     "text": [
      "WARNING:tensorflow:From C:\\Users\\HP\\Anaconda3\\envs\\tf2\\lib\\site-packages\\tensorflow\\python\\ops\\nn_impl.py:180: add_dispatch_support.<locals>.wrapper (from tensorflow.python.ops.array_ops) is deprecated and will be removed in a future version.\n",
      "Instructions for updating:\n",
      "Use tf.where in 2.0, which has the same broadcast rule as np.where\n",
      "Train on 20000 samples, validate on 5000 samples\n",
      "Epoch 1/10\n",
      "20000/20000 [==============================] - 152s 8ms/sample - loss: 0.5156 - acc: 0.7506 - val_loss: 0.3446 - val_acc: 0.8656\n",
      "Epoch 2/10\n",
      "20000/20000 [==============================] - 150s 8ms/sample - loss: 0.2910 - acc: 0.8856 - val_loss: 0.3726 - val_acc: 0.8674\n",
      "Epoch 3/10\n",
      "20000/20000 [==============================] - 155s 8ms/sample - loss: 0.2334 - acc: 0.9109 - val_loss: 0.2730 - val_acc: 0.8906\n",
      "Epoch 4/10\n",
      "20000/20000 [==============================] - 156s 8ms/sample - loss: 0.2030 - acc: 0.9248 - val_loss: 0.2873 - val_acc: 0.8896\n",
      "Epoch 5/10\n",
      "20000/20000 [==============================] - 157s 8ms/sample - loss: 0.1730 - acc: 0.9377 - val_loss: 0.3019 - val_acc: 0.8772\n",
      "Epoch 6/10\n",
      "20000/20000 [==============================] - 156s 8ms/sample - loss: 0.1654 - acc: 0.9399 - val_loss: 0.3287 - val_acc: 0.8702\n",
      "Epoch 7/10\n",
      "20000/20000 [==============================] - 154s 8ms/sample - loss: 0.1495 - acc: 0.9479 - val_loss: 0.3078 - val_acc: 0.8810\n",
      "Epoch 8/10\n",
      "20000/20000 [==============================] - 156s 8ms/sample - loss: 0.1363 - acc: 0.9526 - val_loss: 0.4017 - val_acc: 0.8668\n",
      "Epoch 9/10\n",
      "20000/20000 [==============================] - 154s 8ms/sample - loss: 0.1264 - acc: 0.9581 - val_loss: 0.3470 - val_acc: 0.8688\n",
      "Epoch 10/10\n",
      "20000/20000 [==============================] - 157s 8ms/sample - loss: 0.1175 - acc: 0.9601 - val_loss: 0.3505 - val_acc: 0.8816\n"
     ]
    }
   ],
   "source": [
    "from tensorflow import keras\n",
    "from tensorflow.keras.models import Sequential\n",
    "from tensorflow.keras import layers \n",
    "from tensorflow.keras.optimizers import RMSprop\n",
    "\n",
    "model = Sequential()\n",
    "model.add(layers.Embedding(max_features, 32))\n",
    "model.add(layers.LSTM(32))\n",
    "model.add(layers.Dense(1, activation = 'sigmoid'))\n",
    "\n",
    "model.compile(optimizer = 'rmsprop',\n",
    "               loss = 'binary_crossentropy',\n",
    "               metrics = ['acc'],\n",
    "              )\n",
    "\n",
    "history = model.fit(x_train, y_train,\n",
    "                    epochs =  10,\n",
    "                    batch_size = 128,\n",
    "                    validation_split = .2,\n",
    "                   )"
   ]
  },
  {
   "cell_type": "code",
   "execution_count": 16,
   "metadata": {},
   "outputs": [
    {
     "data": {
      "image/png": "[encoded data removed]",
      "text/plain": [
       "<Figure size 432x288 with 1 Axes>"
      ]
     },
     "metadata": {
      "needs_background": "light"
     },
     "output_type": "display_data"
    },
    {
     "data": {
      "image/png": "[encoded data removed]",
      "text/plain": [
       "<Figure size 432x288 with 1 Axes>"
      ]
     },
     "metadata": {
      "needs_background": "light"
     },
     "output_type": "display_data"
    },
    {
     "name": "stdout",
     "output_type": "stream",
     "text": [
      "still overfitting, which is a problem that I will tackle next.\n"
     ]
    }
   ],
   "source": [
    "import matplotlib.pyplot as plt\n",
    "import numpy as np\n",
    "\n",
    "plt.plot(np.arange(10),history.history['loss'], 'bo', label  = 'Train loss')\n",
    "plt.plot(np.arange(10),history.history['val_loss'], 'b', label  = 'Validation loss')\n",
    "plt.title('Training and Validation Loss')\n",
    "plt.xlabel('Epoch')\n",
    "plt.legend()\n",
    "\n",
    "plt.show()\n",
    "\n",
    "plt.plot(np.arange(10),history.history['acc'], 'bo', label  = 'Train accuracy')\n",
    "plt.plot(np.arange(10), history.history['val_acc'], 'b', label  = 'Validation accuracy')\n",
    "plt.title('Training and Validation Accuracy')\n",
    "plt.xlabel('Epoch')\n",
    "plt.legend()\n",
    "\n",
    "plt.show()\n",
    "print('still overfitting, which is a problem that I will tackle next.')"
   ]
  },
  {
   "cell_type": "markdown",
   "metadata": {},
   "source": [
    "### 1. Type of Data\n",
    "* Timeseries or sequential data\n",
    "\n",
    "### 2. Use Case\n",
    "* When you have data you can seperate into a time series\n",
    "\n",
    "### 3. Application\n",
    "* NLP\n",
    "* Video Data, etc.\n",
    "\n",
    "### 4. Basic Concept\n",
    "* An RNN is simply an a neural network where the previous output is used as the next layers input. Often times the previous output is a raw version of the actual output of the recurrent layer, but the idea stands\n",
    "* Chollet (2018) summarizes a simple RNN as such: $activation(W\\cdot input + U\\cdot state + b)$, where $U$ and $W$ are kernel matrices, $input$ is the inputs from the current time, $state$ is the output of the previous time \n",
    " \n",
    "### 5. Assumptions\n",
    "* Previous layer has bearing on the next\n",
    "* (same as with any neural network)\n",
    "\n",
    "### 6. Existing solutions\n",
    "* Keras\n",
    "\n",
    "### 7. Strengths and Weaknesses\n",
    "#### Strengths\n",
    "* Great at using context to inform decisions\n",
    "\n",
    "#### Weaknesses\n",
    "* Can be vulnerable to short-term memory or vanishing gradient in some implementations\n",
    "* LSTM or GRU, which avoid the above, can be more resource intensibe"
   ]
  }
 ],
 "metadata": {
  "kernelspec": {
   "display_name": "Python 3.7.1 64-bit ('tf2': conda)",
   "language": "python",
   "name": "tf2"
  },
  "language_info": {
   "codemirror_mode": {
    "name": "ipython",
    "version": 3
   },
   "file_extension": ".py",
   "mimetype": "text/x-python",
   "name": "python",
   "nbconvert_exporter": "python",
   "pygments_lexer": "ipython3",
   "version": "3.7.1"
  }
 },
 "nbformat": 4,
 "nbformat_minor": 2
}
