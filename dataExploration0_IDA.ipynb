{
 "cells": [
  {
   "cell_type": "markdown",
   "metadata": {},
   "source": [
    "# Exploratory Data Analysis 0: Initial Data Analysis\n",
    "\n",
    "Initial data analysis is a subset of exploratory data analysis which focuses on making the data fit to be put into a model. This means dealing with non-existant values, normalizing as necescary, and completing other tasks as necescary by the final model to be used.\n",
    "\n",
    "Sources:\n",
    "https://reader.elsevier.com/reader/sd/pii/S0022522315017948?token=E85E57F81B03A15524B9F114673CAF3F3F0FF45188AA953EB7FDD8195887A04325990D11A24383AC4424F669BB95EDAE"
   ]
  },
  {
   "cell_type": "code",
   "execution_count": 2,
   "metadata": {},
   "outputs": [],
   "source": [
    "import pandas as pd \n",
    "import seaborn as sns\n",
    "import numpy as np \n",
    "import matplotlib.pyplot as plt\n",
    "import pathlib\n",
    "\n",
    "from IPython.core.interactiveshell import InteractiveShell\n",
    "InteractiveShell.ast_node_interactivity = \"all\""
   ]
  },
  {
   "cell_type": "code",
   "execution_count": 3,
   "metadata": {},
   "outputs": [],
   "source": [
    "# Initializing data\n",
    "vg_df = pd.read_csv(pathlib.Path('vgsales.csv'))"
   ]
  },
  {
   "cell_type": "code",
   "execution_count": 4,
   "metadata": {},
   "outputs": [
    {
     "output_type": "execute_result",
     "data": {
      "text/plain": "Rank              int64\nName             object\nPlatform         object\nYear            float64\nGenre            object\nPublisher        object\nNA_Sales        float64\nEU_Sales        float64\nJP_Sales        float64\nOther_Sales     float64\nGlobal_Sales    float64\ndtype: object"
     },
     "metadata": {},
     "execution_count": 4
    },
    {
     "output_type": "execute_result",
     "data": {
      "text/plain": "               Rank          Year      NA_Sales      EU_Sales      JP_Sales  \\\ncount  16598.000000  16327.000000  16598.000000  16598.000000  16598.000000   \nmean    8300.605254   2006.406443      0.264667      0.146652      0.077782   \nstd     4791.853933      5.828981      0.816683      0.505351      0.309291   \nmin        1.000000   1980.000000      0.000000      0.000000      0.000000   \n25%     4151.250000   2003.000000      0.000000      0.000000      0.000000   \n50%     8300.500000   2007.000000      0.080000      0.020000      0.000000   \n75%    12449.750000   2010.000000      0.240000      0.110000      0.040000   \nmax    16600.000000   2020.000000     41.490000     29.020000     10.220000   \n\n        Other_Sales  Global_Sales  \ncount  16598.000000  16598.000000  \nmean       0.048063      0.537441  \nstd        0.188588      1.555028  \nmin        0.000000      0.010000  \n25%        0.000000      0.060000  \n50%        0.010000      0.170000  \n75%        0.040000      0.470000  \nmax       10.570000     82.740000  ",
      "text/html": "<div>\n<style scoped>\n    .dataframe tbody tr th:only-of-type {\n        vertical-align: middle;\n    }\n\n    .dataframe tbody tr th {\n        vertical-align: top;\n    }\n\n    .dataframe thead th {\n        text-align: right;\n    }\n</style>\n<table border=\"1\" class=\"dataframe\">\n  <thead>\n    <tr style=\"text-align: right;\">\n      <th></th>\n      <th>Rank</th>\n      <th>Year</th>\n      <th>NA_Sales</th>\n      <th>EU_Sales</th>\n      <th>JP_Sales</th>\n      <th>Other_Sales</th>\n      <th>Global_Sales</th>\n    </tr>\n  </thead>\n  <tbody>\n    <tr>\n      <th>count</th>\n      <td>16598.000000</td>\n      <td>16327.000000</td>\n      <td>16598.000000</td>\n      <td>16598.000000</td>\n      <td>16598.000000</td>\n      <td>16598.000000</td>\n      <td>16598.000000</td>\n    </tr>\n    <tr>\n      <th>mean</th>\n      <td>8300.605254</td>\n      <td>2006.406443</td>\n      <td>0.264667</td>\n      <td>0.146652</td>\n      <td>0.077782</td>\n      <td>0.048063</td>\n      <td>0.537441</td>\n    </tr>\n    <tr>\n      <th>std</th>\n      <td>4791.853933</td>\n      <td>5.828981</td>\n      <td>0.816683</td>\n      <td>0.505351</td>\n      <td>0.309291</td>\n      <td>0.188588</td>\n      <td>1.555028</td>\n    </tr>\n    <tr>\n      <th>min</th>\n      <td>1.000000</td>\n      <td>1980.000000</td>\n      <td>0.000000</td>\n      <td>0.000000</td>\n      <td>0.000000</td>\n      <td>0.000000</td>\n      <td>0.010000</td>\n    </tr>\n    <tr>\n      <th>25%</th>\n      <td>4151.250000</td>\n      <td>2003.000000</td>\n      <td>0.000000</td>\n      <td>0.000000</td>\n      <td>0.000000</td>\n      <td>0.000000</td>\n      <td>0.060000</td>\n    </tr>\n    <tr>\n      <th>50%</th>\n      <td>8300.500000</td>\n      <td>2007.000000</td>\n      <td>0.080000</td>\n      <td>0.020000</td>\n      <td>0.000000</td>\n      <td>0.010000</td>\n      <td>0.170000</td>\n    </tr>\n    <tr>\n      <th>75%</th>\n      <td>12449.750000</td>\n      <td>2010.000000</td>\n      <td>0.240000</td>\n      <td>0.110000</td>\n      <td>0.040000</td>\n      <td>0.040000</td>\n      <td>0.470000</td>\n    </tr>\n    <tr>\n      <th>max</th>\n      <td>16600.000000</td>\n      <td>2020.000000</td>\n      <td>41.490000</td>\n      <td>29.020000</td>\n      <td>10.220000</td>\n      <td>10.570000</td>\n      <td>82.740000</td>\n    </tr>\n  </tbody>\n</table>\n</div>"
     },
     "metadata": {},
     "execution_count": 4
    }
   ],
   "source": [
    "\n",
    "vg_df.dtypes\n",
    "vg_df.describe()\n",
    "\n",
    "InteractiveShell.ast_node_interactivity = \"last_expr\""
   ]
  },
  {
   "cell_type": "markdown",
   "metadata": {},
   "source": [
    "### Check for duplicates"
   ]
  },
  {
   "cell_type": "code",
   "execution_count": 5,
   "metadata": {},
   "outputs": [
    {
     "output_type": "execute_result",
     "data": {
      "text/plain": "Series([], dtype: bool)"
     },
     "metadata": {},
     "execution_count": 5
    }
   ],
   "source": [
    "# Check for duplicates\n",
    "duplicate_bool_ser = vg_df.duplicated(keep = False)\n",
    "\n",
    "duplicate_bool_ser[duplicate_bool_ser == True]"
   ]
  },
  {
   "cell_type": "markdown",
   "metadata": {},
   "source": [
    "### Check for Nonexistant Values/Nones (grouped together as nulls) and other unknowns"
   ]
  },
  {
   "cell_type": "code",
   "execution_count": 6,
   "metadata": {
    "tags": []
   },
   "outputs": [
    {
     "output_type": "display_data",
     "data": {
      "text/plain": "<Figure size 432x288 with 1 Axes>",
      "image/svg+xml": "<?xml version=\"1.0\" encoding=\"utf-8\" standalone=\"no\"?>\r\n<!DOCTYPE svg PUBLIC \"-//W3C//DTD SVG 1.1//EN\"\r\n  \"http://www.w3.org/Graphics/SVG/1.1/DTD/svg11.dtd\">\r\n<!-- Created with matplotlib (https://matplotlib.org/) -->\r\n<svg height=\"263.63625pt\" version=\"1.1\" viewBox=\"0 0 372.103125 263.63625\" width=\"372.103125pt\" xmlns=\"http://www.w3.org/2000/svg\" xmlns:xlink=\"http://www.w3.org/1999/xlink\">\r\n <defs>\r\n  <style type=\"text/css\">\r\n*{stroke-linecap:butt;stroke-linejoin:round;}\r\n  </style>\r\n </defs>\r\n <g id=\"figure_1\">\r\n  <g id=\"patch_1\">\r\n   <path d=\"M 0 263.63625 \r\nL 372.103125 263.63625 \r\nL 372.103125 0 \r\nL 0 0 \r\nz\r\n\" style=\"fill:none;\"/>\r\n  </g>\r\n  <g id=\"axes_1\">\r\n   <g id=\"patch_2\">\r\n    <path d=\"M 30.103125 239.758125 \r\nL 364.903125 239.758125 \r\nL 364.903125 22.318125 \r\nL 30.103125 22.318125 \r\nz\r\n\" style=\"fill:#ffffff;\"/>\r\n   </g>\r\n   <g id=\"patch_3\">\r\n    <path clip-path=\"url(#pc2535de6a0)\" d=\"M 45.321307 239.758125 \r\nL 45.507076 239.758125 \r\nL 45.507076 32.672411 \r\nL 45.321307 32.672411 \r\nz\r\n\" style=\"fill:#1f77b4;\"/>\r\n   </g>\r\n   <g id=\"patch_4\">\r\n    <path clip-path=\"url(#pc2535de6a0)\" d=\"M 48.999529 239.758125 \r\nL 49.185298 239.758125 \r\nL 49.185298 32.672411 \r\nL 48.999529 32.672411 \r\nz\r\n\" style=\"fill:#1f77b4;\"/>\r\n   </g>\r\n   <g id=\"patch_5\">\r\n    <path clip-path=\"url(#pc2535de6a0)\" d=\"M 50.002681 239.758125 \r\nL 50.18845 239.758125 \r\nL 50.18845 32.672411 \r\nL 50.002681 32.672411 \r\nz\r\n\" style=\"fill:#1f77b4;\"/>\r\n   </g>\r\n   <g id=\"patch_6\">\r\n    <path clip-path=\"url(#pc2535de6a0)\" d=\"M 50.72718 239.758125 \r\nL 50.912948 239.758125 \r\nL 50.912948 32.672411 \r\nL 50.72718 32.672411 \r\nz\r\n\" style=\"fill:#1f77b4;\"/>\r\n   </g>\r\n   <g id=\"patch_7\">\r\n    <path clip-path=\"url(#pc2535de6a0)\" d=\"M 53.272212 239.758125 \r\nL 53.457981 239.758125 \r\nL 53.457981 32.672411 \r\nL 53.272212 32.672411 \r\nz\r\n\" style=\"fill:#1f77b4;\"/>\r\n   </g>\r\n   <g id=\"patch_8\">\r\n    <path clip-path=\"url(#pc2535de6a0)\" d=\"M 53.588019 239.758125 \r\nL 53.773788 239.758125 \r\nL 53.773788 32.672411 \r\nL 53.588019 32.672411 \r\nz\r\n\" style=\"fill:#1f77b4;\"/>\r\n   </g>\r\n   <g id=\"patch_9\">\r\n    <path clip-path=\"url(#pc2535de6a0)\" d=\"M 54.052441 239.758125 \r\nL 54.23821 239.758125 \r\nL 54.23821 32.672411 \r\nL 54.052441 32.672411 \r\nz\r\n\" style=\"fill:#1f77b4;\"/>\r\n   </g>\r\n   <g id=\"patch_10\">\r\n    <path clip-path=\"url(#pc2535de6a0)\" d=\"M 54.108172 239.758125 \r\nL 54.293941 239.758125 \r\nL 54.293941 32.672411 \r\nL 54.108172 32.672411 \r\nz\r\n\" style=\"fill:#1f77b4;\"/>\r\n   </g>\r\n   <g id=\"patch_11\">\r\n    <path clip-path=\"url(#pc2535de6a0)\" d=\"M 55.204208 239.758125 \r\nL 55.389977 239.758125 \r\nL 55.389977 32.672411 \r\nL 55.204208 32.672411 \r\nz\r\n\" style=\"fill:#1f77b4;\"/>\r\n   </g>\r\n   <g id=\"patch_12\">\r\n    <path clip-path=\"url(#pc2535de6a0)\" d=\"M 56.523167 239.758125 \r\nL 56.708936 239.758125 \r\nL 56.708936 32.672411 \r\nL 56.523167 32.672411 \r\nz\r\n\" style=\"fill:#1f77b4;\"/>\r\n   </g>\r\n   <g id=\"patch_13\">\r\n    <path clip-path=\"url(#pc2535de6a0)\" d=\"M 62.913614 239.758125 \r\nL 63.099383 239.758125 \r\nL 63.099383 32.672411 \r\nL 62.913614 32.672411 \r\nz\r\n\" style=\"fill:#1f77b4;\"/>\r\n   </g>\r\n   <g id=\"patch_14\">\r\n    <path clip-path=\"url(#pc2535de6a0)\" d=\"M 63.043652 239.758125 \r\nL 63.229421 239.758125 \r\nL 63.229421 32.672411 \r\nL 63.043652 32.672411 \r\nz\r\n\" style=\"fill:#1f77b4;\"/>\r\n   </g>\r\n   <g id=\"patch_15\">\r\n    <path clip-path=\"url(#pc2535de6a0)\" d=\"M 66.201722 239.758125 \r\nL 66.387491 239.758125 \r\nL 66.387491 32.672411 \r\nL 66.201722 32.672411 \r\nz\r\n\" style=\"fill:#1f77b4;\"/>\r\n   </g>\r\n   <g id=\"patch_16\">\r\n    <path clip-path=\"url(#pc2535de6a0)\" d=\"M 68.616717 239.758125 \r\nL 68.802486 239.758125 \r\nL 68.802486 32.672411 \r\nL 68.616717 32.672411 \r\nz\r\n\" style=\"fill:#1f77b4;\"/>\r\n   </g>\r\n   <g id=\"patch_17\">\r\n    <path clip-path=\"url(#pc2535de6a0)\" d=\"M 69.824214 239.758125 \r\nL 70.009983 239.758125 \r\nL 70.009983 32.672411 \r\nL 69.824214 32.672411 \r\nz\r\n\" style=\"fill:#1f77b4;\"/>\r\n   </g>\r\n   <g id=\"patch_18\">\r\n    <path clip-path=\"url(#pc2535de6a0)\" d=\"M 70.102868 239.758125 \r\nL 70.288636 239.758125 \r\nL 70.288636 32.672411 \r\nL 70.102868 32.672411 \r\nz\r\n\" style=\"fill:#1f77b4;\"/>\r\n   </g>\r\n   <g id=\"patch_19\">\r\n    <path clip-path=\"url(#pc2535de6a0)\" d=\"M 71.440403 239.758125 \r\nL 71.626172 239.758125 \r\nL 71.626172 32.672411 \r\nL 71.440403 32.672411 \r\nz\r\n\" style=\"fill:#1f77b4;\"/>\r\n   </g>\r\n   <g id=\"patch_20\">\r\n    <path clip-path=\"url(#pc2535de6a0)\" d=\"M 72.629324 239.758125 \r\nL 72.815092 239.758125 \r\nL 72.815092 32.672411 \r\nL 72.629324 32.672411 \r\nz\r\n\" style=\"fill:#1f77b4;\"/>\r\n   </g>\r\n   <g id=\"patch_21\">\r\n    <path clip-path=\"url(#pc2535de6a0)\" d=\"M 72.870823 239.758125 \r\nL 73.056592 239.758125 \r\nL 73.056592 32.672411 \r\nL 72.870823 32.672411 \r\nz\r\n\" style=\"fill:#1f77b4;\"/>\r\n   </g>\r\n   <g id=\"patch_22\">\r\n    <path clip-path=\"url(#pc2535de6a0)\" d=\"M 73.521014 239.758125 \r\nL 73.706783 239.758125 \r\nL 73.706783 32.672411 \r\nL 73.521014 32.672411 \r\nz\r\n\" style=\"fill:#1f77b4;\"/>\r\n   </g>\r\n   <g id=\"patch_23\">\r\n    <path clip-path=\"url(#pc2535de6a0)\" d=\"M 76.121777 239.758125 \r\nL 76.307546 239.758125 \r\nL 76.307546 32.672411 \r\nL 76.121777 32.672411 \r\nz\r\n\" style=\"fill:#1f77b4;\"/>\r\n   </g>\r\n   <g id=\"patch_24\">\r\n    <path clip-path=\"url(#pc2535de6a0)\" d=\"M 78.96404 239.758125 \r\nL 79.149809 239.758125 \r\nL 79.149809 32.672411 \r\nL 78.96404 32.672411 \r\nz\r\n\" style=\"fill:#1f77b4;\"/>\r\n   </g>\r\n   <g id=\"patch_25\">\r\n    <path clip-path=\"url(#pc2535de6a0)\" d=\"M 79.50277 239.758125 \r\nL 79.688539 239.758125 \r\nL 79.688539 32.672411 \r\nL 79.50277 32.672411 \r\nz\r\n\" style=\"fill:#1f77b4;\"/>\r\n   </g>\r\n   <g id=\"patch_26\">\r\n    <path clip-path=\"url(#pc2535de6a0)\" d=\"M 80.747421 239.758125 \r\nL 80.93319 239.758125 \r\nL 80.93319 32.672411 \r\nL 80.747421 32.672411 \r\nz\r\n\" style=\"fill:#1f77b4;\"/>\r\n   </g>\r\n   <g id=\"patch_27\">\r\n    <path clip-path=\"url(#pc2535de6a0)\" d=\"M 81.248997 239.758125 \r\nL 81.434766 239.758125 \r\nL 81.434766 32.672411 \r\nL 81.248997 32.672411 \r\nz\r\n\" style=\"fill:#1f77b4;\"/>\r\n   </g>\r\n   <g id=\"patch_28\">\r\n    <path clip-path=\"url(#pc2535de6a0)\" d=\"M 81.267574 239.758125 \r\nL 81.453343 239.758125 \r\nL 81.453343 32.672411 \r\nL 81.267574 32.672411 \r\nz\r\n\" style=\"fill:#1f77b4;\"/>\r\n   </g>\r\n   <g id=\"patch_29\">\r\n    <path clip-path=\"url(#pc2535de6a0)\" d=\"M 81.639111 239.758125 \r\nL 81.82488 239.758125 \r\nL 81.82488 32.672411 \r\nL 81.639111 32.672411 \r\nz\r\n\" style=\"fill:#1f77b4;\"/>\r\n   </g>\r\n   <g id=\"patch_30\">\r\n    <path clip-path=\"url(#pc2535de6a0)\" d=\"M 81.843457 239.758125 \r\nL 82.029226 239.758125 \r\nL 82.029226 32.672411 \r\nL 81.843457 32.672411 \r\nz\r\n\" style=\"fill:#1f77b4;\"/>\r\n   </g>\r\n   <g id=\"patch_31\">\r\n    <path clip-path=\"url(#pc2535de6a0)\" d=\"M 82.36361 239.758125 \r\nL 82.549379 239.758125 \r\nL 82.549379 32.672411 \r\nL 82.36361 32.672411 \r\nz\r\n\" style=\"fill:#1f77b4;\"/>\r\n   </g>\r\n   <g id=\"patch_32\">\r\n    <path clip-path=\"url(#pc2535de6a0)\" d=\"M 83.273877 239.758125 \r\nL 83.459646 239.758125 \r\nL 83.459646 32.672411 \r\nL 83.273877 32.672411 \r\nz\r\n\" style=\"fill:#1f77b4;\"/>\r\n   </g>\r\n   <g id=\"patch_33\">\r\n    <path clip-path=\"url(#pc2535de6a0)\" d=\"M 84.462797 239.758125 \r\nL 84.648566 239.758125 \r\nL 84.648566 32.672411 \r\nL 84.462797 32.672411 \r\nz\r\n\" style=\"fill:#1f77b4;\"/>\r\n   </g>\r\n   <g id=\"patch_34\">\r\n    <path clip-path=\"url(#pc2535de6a0)\" d=\"M 84.629989 239.758125 \r\nL 84.815758 239.758125 \r\nL 84.815758 32.672411 \r\nL 84.629989 32.672411 \r\nz\r\n\" style=\"fill:#1f77b4;\"/>\r\n   </g>\r\n   <g id=\"patch_35\">\r\n    <path clip-path=\"url(#pc2535de6a0)\" d=\"M 86.859215 239.758125 \r\nL 87.044984 239.758125 \r\nL 87.044984 32.672411 \r\nL 86.859215 32.672411 \r\nz\r\n\" style=\"fill:#1f77b4;\"/>\r\n   </g>\r\n   <g id=\"patch_36\">\r\n    <path clip-path=\"url(#pc2535de6a0)\" d=\"M 86.989253 239.758125 \r\nL 87.175022 239.758125 \r\nL 87.175022 32.672411 \r\nL 86.989253 32.672411 \r\nz\r\n\" style=\"fill:#1f77b4;\"/>\r\n   </g>\r\n   <g id=\"patch_37\">\r\n    <path clip-path=\"url(#pc2535de6a0)\" d=\"M 88.14102 239.758125 \r\nL 88.326789 239.758125 \r\nL 88.326789 32.672411 \r\nL 88.14102 32.672411 \r\nz\r\n\" style=\"fill:#1f77b4;\"/>\r\n   </g>\r\n   <g id=\"patch_38\">\r\n    <path clip-path=\"url(#pc2535de6a0)\" d=\"M 88.38252 239.758125 \r\nL 88.568288 239.758125 \r\nL 88.568288 32.672411 \r\nL 88.38252 32.672411 \r\nz\r\n\" style=\"fill:#1f77b4;\"/>\r\n   </g>\r\n   <g id=\"patch_39\">\r\n    <path clip-path=\"url(#pc2535de6a0)\" d=\"M 88.958403 239.758125 \r\nL 89.144172 239.758125 \r\nL 89.144172 32.672411 \r\nL 88.958403 32.672411 \r\nz\r\n\" style=\"fill:#1f77b4;\"/>\r\n   </g>\r\n   <g id=\"patch_40\">\r\n    <path clip-path=\"url(#pc2535de6a0)\" d=\"M 90.035862 239.758125 \r\nL 90.221631 239.758125 \r\nL 90.221631 32.672411 \r\nL 90.035862 32.672411 \r\nz\r\n\" style=\"fill:#1f77b4;\"/>\r\n   </g>\r\n   <g id=\"patch_41\">\r\n    <path clip-path=\"url(#pc2535de6a0)\" d=\"M 93.56547 239.758125 \r\nL 93.751238 239.758125 \r\nL 93.751238 32.672411 \r\nL 93.56547 32.672411 \r\nz\r\n\" style=\"fill:#1f77b4;\"/>\r\n   </g>\r\n   <g id=\"patch_42\">\r\n    <path clip-path=\"url(#pc2535de6a0)\" d=\"M 93.751238 239.758125 \r\nL 93.937007 239.758125 \r\nL 93.937007 32.672411 \r\nL 93.751238 32.672411 \r\nz\r\n\" style=\"fill:#1f77b4;\"/>\r\n   </g>\r\n   <g id=\"patch_43\">\r\n    <path clip-path=\"url(#pc2535de6a0)\" d=\"M 94.717236 239.758125 \r\nL 94.903005 239.758125 \r\nL 94.903005 32.672411 \r\nL 94.717236 32.672411 \r\nz\r\n\" style=\"fill:#1f77b4;\"/>\r\n   </g>\r\n   <g id=\"patch_44\">\r\n    <path clip-path=\"url(#pc2535de6a0)\" d=\"M 96.742116 239.758125 \r\nL 96.927885 239.758125 \r\nL 96.927885 32.672411 \r\nL 96.742116 32.672411 \r\nz\r\n\" style=\"fill:#1f77b4;\"/>\r\n   </g>\r\n   <g id=\"patch_45\">\r\n    <path clip-path=\"url(#pc2535de6a0)\" d=\"M 98.636958 239.758125 \r\nL 98.822727 239.758125 \r\nL 98.822727 32.672411 \r\nL 98.636958 32.672411 \r\nz\r\n\" style=\"fill:#1f77b4;\"/>\r\n   </g>\r\n   <g id=\"patch_46\">\r\n    <path clip-path=\"url(#pc2535de6a0)\" d=\"M 100.346032 239.758125 \r\nL 100.5318 239.758125 \r\nL 100.5318 32.672411 \r\nL 100.346032 32.672411 \r\nz\r\n\" style=\"fill:#1f77b4;\"/>\r\n   </g>\r\n   <g id=\"patch_47\">\r\n    <path clip-path=\"url(#pc2535de6a0)\" d=\"M 100.680415 239.758125 \r\nL 100.866184 239.758125 \r\nL 100.866184 32.672411 \r\nL 100.680415 32.672411 \r\nz\r\n\" style=\"fill:#1f77b4;\"/>\r\n   </g>\r\n   <g id=\"patch_48\">\r\n    <path clip-path=\"url(#pc2535de6a0)\" d=\"M 100.810454 239.758125 \r\nL 100.996222 239.758125 \r\nL 100.996222 32.672411 \r\nL 100.810454 32.672411 \r\nz\r\n\" style=\"fill:#1f77b4;\"/>\r\n   </g>\r\n   <g id=\"patch_49\">\r\n    <path clip-path=\"url(#pc2535de6a0)\" d=\"M 101.330606 239.758125 \r\nL 101.516375 239.758125 \r\nL 101.516375 32.672411 \r\nL 101.330606 32.672411 \r\nz\r\n\" style=\"fill:#1f77b4;\"/>\r\n   </g>\r\n   <g id=\"patch_50\">\r\n    <path clip-path=\"url(#pc2535de6a0)\" d=\"M 101.757875 239.758125 \r\nL 101.943643 239.758125 \r\nL 101.943643 32.672411 \r\nL 101.757875 32.672411 \r\nz\r\n\" style=\"fill:#1f77b4;\"/>\r\n   </g>\r\n   <g id=\"patch_51\">\r\n    <path clip-path=\"url(#pc2535de6a0)\" d=\"M 102.147989 239.758125 \r\nL 102.333758 239.758125 \r\nL 102.333758 32.672411 \r\nL 102.147989 32.672411 \r\nz\r\n\" style=\"fill:#1f77b4;\"/>\r\n   </g>\r\n   <g id=\"patch_52\">\r\n    <path clip-path=\"url(#pc2535de6a0)\" d=\"M 104.154292 239.758125 \r\nL 104.340061 239.758125 \r\nL 104.340061 32.672411 \r\nL 104.154292 32.672411 \r\nz\r\n\" style=\"fill:#1f77b4;\"/>\r\n   </g>\r\n   <g id=\"patch_53\">\r\n    <path clip-path=\"url(#pc2535de6a0)\" d=\"M 105.547559 239.758125 \r\nL 105.733327 239.758125 \r\nL 105.733327 32.672411 \r\nL 105.547559 32.672411 \r\nz\r\n\" style=\"fill:#1f77b4;\"/>\r\n   </g>\r\n   <g id=\"patch_54\">\r\n    <path clip-path=\"url(#pc2535de6a0)\" d=\"M 106.420672 239.758125 \r\nL 106.606441 239.758125 \r\nL 106.606441 32.672411 \r\nL 106.420672 32.672411 \r\nz\r\n\" style=\"fill:#1f77b4;\"/>\r\n   </g>\r\n   <g id=\"patch_55\">\r\n    <path clip-path=\"url(#pc2535de6a0)\" d=\"M 107.033709 239.758125 \r\nL 107.219478 239.758125 \r\nL 107.219478 32.672411 \r\nL 107.033709 32.672411 \r\nz\r\n\" style=\"fill:#1f77b4;\"/>\r\n   </g>\r\n   <g id=\"patch_56\">\r\n    <path clip-path=\"url(#pc2535de6a0)\" d=\"M 111.009162 239.758125 \r\nL 111.194931 239.758125 \r\nL 111.194931 32.672411 \r\nL 111.009162 32.672411 \r\nz\r\n\" style=\"fill:#1f77b4;\"/>\r\n   </g>\r\n   <g id=\"patch_57\">\r\n    <path clip-path=\"url(#pc2535de6a0)\" d=\"M 111.715083 239.758125 \r\nL 111.900852 239.758125 \r\nL 111.900852 32.672411 \r\nL 111.715083 32.672411 \r\nz\r\n\" style=\"fill:#1f77b4;\"/>\r\n   </g>\r\n   <g id=\"patch_58\">\r\n    <path clip-path=\"url(#pc2535de6a0)\" d=\"M 111.956583 239.758125 \r\nL 112.142352 239.758125 \r\nL 112.142352 32.672411 \r\nL 111.956583 32.672411 \r\nz\r\n\" style=\"fill:#1f77b4;\"/>\r\n   </g>\r\n   <g id=\"patch_59\">\r\n    <path clip-path=\"url(#pc2535de6a0)\" d=\"M 114.074347 239.758125 \r\nL 114.260116 239.758125 \r\nL 114.260116 32.672411 \r\nL 114.074347 32.672411 \r\nz\r\n\" style=\"fill:#1f77b4;\"/>\r\n   </g>\r\n   <g id=\"patch_60\">\r\n    <path clip-path=\"url(#pc2535de6a0)\" d=\"M 115.411883 239.758125 \r\nL 115.597652 239.758125 \r\nL 115.597652 32.672411 \r\nL 115.411883 32.672411 \r\nz\r\n\" style=\"fill:#1f77b4;\"/>\r\n   </g>\r\n   <g id=\"patch_61\">\r\n    <path clip-path=\"url(#pc2535de6a0)\" d=\"M 118.997221 239.758125 \r\nL 119.18299 239.758125 \r\nL 119.18299 32.672411 \r\nL 118.997221 32.672411 \r\nz\r\n\" style=\"fill:#1f77b4;\"/>\r\n   </g>\r\n   <g id=\"patch_62\">\r\n    <path clip-path=\"url(#pc2535de6a0)\" d=\"M 119.108683 239.758125 \r\nL 119.294451 239.758125 \r\nL 119.294451 32.672411 \r\nL 119.108683 32.672411 \r\nz\r\n\" style=\"fill:#1f77b4;\"/>\r\n   </g>\r\n   <g id=\"patch_63\">\r\n    <path clip-path=\"url(#pc2535de6a0)\" d=\"M 120.000373 239.758125 \r\nL 120.186142 239.758125 \r\nL 120.186142 32.672411 \r\nL 120.000373 32.672411 \r\nz\r\n\" style=\"fill:#1f77b4;\"/>\r\n   </g>\r\n   <g id=\"patch_64\">\r\n    <path clip-path=\"url(#pc2535de6a0)\" d=\"M 120.61341 239.758125 \r\nL 120.799179 239.758125 \r\nL 120.799179 32.672411 \r\nL 120.61341 32.672411 \r\nz\r\n\" style=\"fill:#1f77b4;\"/>\r\n   </g>\r\n   <g id=\"patch_65\">\r\n    <path clip-path=\"url(#pc2535de6a0)\" d=\"M 122.433944 239.758125 \r\nL 122.619713 239.758125 \r\nL 122.619713 32.672411 \r\nL 122.433944 32.672411 \r\nz\r\n\" style=\"fill:#1f77b4;\"/>\r\n   </g>\r\n   <g id=\"patch_66\">\r\n    <path clip-path=\"url(#pc2535de6a0)\" d=\"M 123.325635 239.758125 \r\nL 123.511404 239.758125 \r\nL 123.511404 32.672411 \r\nL 123.325635 32.672411 \r\nz\r\n\" style=\"fill:#1f77b4;\"/>\r\n   </g>\r\n   <g id=\"patch_67\">\r\n    <path clip-path=\"url(#pc2535de6a0)\" d=\"M 123.362789 239.758125 \r\nL 123.548557 239.758125 \r\nL 123.548557 32.672411 \r\nL 123.362789 32.672411 \r\nz\r\n\" style=\"fill:#1f77b4;\"/>\r\n   </g>\r\n   <g id=\"patch_68\">\r\n    <path clip-path=\"url(#pc2535de6a0)\" d=\"M 125.016131 239.758125 \r\nL 125.2019 239.758125 \r\nL 125.2019 32.672411 \r\nL 125.016131 32.672411 \r\nz\r\n\" style=\"fill:#1f77b4;\"/>\r\n   </g>\r\n   <g id=\"patch_69\">\r\n    <path clip-path=\"url(#pc2535de6a0)\" d=\"M 125.071862 239.758125 \r\nL 125.257631 239.758125 \r\nL 125.257631 32.672411 \r\nL 125.071862 32.672411 \r\nz\r\n\" style=\"fill:#1f77b4;\"/>\r\n   </g>\r\n   <g id=\"patch_70\">\r\n    <path clip-path=\"url(#pc2535de6a0)\" d=\"M 126.075013 239.758125 \r\nL 126.260782 239.758125 \r\nL 126.260782 32.672411 \r\nL 126.075013 32.672411 \r\nz\r\n\" style=\"fill:#1f77b4;\"/>\r\n   </g>\r\n   <g id=\"patch_71\">\r\n    <path clip-path=\"url(#pc2535de6a0)\" d=\"M 126.260782 239.758125 \r\nL 126.446551 239.758125 \r\nL 126.446551 32.672411 \r\nL 126.260782 32.672411 \r\nz\r\n\" style=\"fill:#1f77b4;\"/>\r\n   </g>\r\n   <g id=\"patch_72\">\r\n    <path clip-path=\"url(#pc2535de6a0)\" d=\"M 128.099893 239.758125 \r\nL 128.285662 239.758125 \r\nL 128.285662 32.672411 \r\nL 128.099893 32.672411 \r\nz\r\n\" style=\"fill:#1f77b4;\"/>\r\n   </g>\r\n   <g id=\"patch_73\">\r\n    <path clip-path=\"url(#pc2535de6a0)\" d=\"M 128.991584 239.758125 \r\nL 129.177353 239.758125 \r\nL 129.177353 32.672411 \r\nL 128.991584 32.672411 \r\nz\r\n\" style=\"fill:#1f77b4;\"/>\r\n   </g>\r\n   <g id=\"patch_74\">\r\n    <path clip-path=\"url(#pc2535de6a0)\" d=\"M 130.997887 239.758125 \r\nL 131.183656 239.758125 \r\nL 131.183656 32.672411 \r\nL 130.997887 32.672411 \r\nz\r\n\" style=\"fill:#1f77b4;\"/>\r\n   </g>\r\n   <g id=\"patch_75\">\r\n    <path clip-path=\"url(#pc2535de6a0)\" d=\"M 131.109348 239.758125 \r\nL 131.295117 239.758125 \r\nL 131.295117 32.672411 \r\nL 131.109348 32.672411 \r\nz\r\n\" style=\"fill:#1f77b4;\"/>\r\n   </g>\r\n   <g id=\"patch_76\">\r\n    <path clip-path=\"url(#pc2535de6a0)\" d=\"M 132.242538 239.758125 \r\nL 132.428307 239.758125 \r\nL 132.428307 32.672411 \r\nL 132.242538 32.672411 \r\nz\r\n\" style=\"fill:#1f77b4;\"/>\r\n   </g>\r\n   <g id=\"patch_77\">\r\n    <path clip-path=\"url(#pc2535de6a0)\" d=\"M 132.372576 239.758125 \r\nL 132.558345 239.758125 \r\nL 132.558345 32.672411 \r\nL 132.372576 32.672411 \r\nz\r\n\" style=\"fill:#1f77b4;\"/>\r\n   </g>\r\n   <g id=\"patch_78\">\r\n    <path clip-path=\"url(#pc2535de6a0)\" d=\"M 133.654381 239.758125 \r\nL 133.84015 239.758125 \r\nL 133.84015 32.672411 \r\nL 133.654381 32.672411 \r\nz\r\n\" style=\"fill:#1f77b4;\"/>\r\n   </g>\r\n   <g id=\"patch_79\">\r\n    <path clip-path=\"url(#pc2535de6a0)\" d=\"M 136.013645 239.758125 \r\nL 136.199414 239.758125 \r\nL 136.199414 32.672411 \r\nL 136.013645 32.672411 \r\nz\r\n\" style=\"fill:#1f77b4;\"/>\r\n   </g>\r\n   <g id=\"patch_80\">\r\n    <path clip-path=\"url(#pc2535de6a0)\" d=\"M 136.329452 239.758125 \r\nL 136.515221 239.758125 \r\nL 136.515221 32.672411 \r\nL 136.329452 32.672411 \r\nz\r\n\" style=\"fill:#1f77b4;\"/>\r\n   </g>\r\n   <g id=\"patch_81\">\r\n    <path clip-path=\"url(#pc2535de6a0)\" d=\"M 137.88991 239.758125 \r\nL 138.075679 239.758125 \r\nL 138.075679 32.672411 \r\nL 137.88991 32.672411 \r\nz\r\n\" style=\"fill:#1f77b4;\"/>\r\n   </g>\r\n   <g id=\"patch_82\">\r\n    <path clip-path=\"url(#pc2535de6a0)\" d=\"M 138.057102 239.758125 \r\nL 138.242871 239.758125 \r\nL 138.242871 32.672411 \r\nL 138.057102 32.672411 \r\nz\r\n\" style=\"fill:#1f77b4;\"/>\r\n   </g>\r\n   <g id=\"patch_83\">\r\n    <path clip-path=\"url(#pc2535de6a0)\" d=\"M 138.502947 239.758125 \r\nL 138.688716 239.758125 \r\nL 138.688716 32.672411 \r\nL 138.502947 32.672411 \r\nz\r\n\" style=\"fill:#1f77b4;\"/>\r\n   </g>\r\n   <g id=\"patch_84\">\r\n    <path clip-path=\"url(#pc2535de6a0)\" d=\"M 138.521524 239.758125 \r\nL 138.707293 239.758125 \r\nL 138.707293 32.672411 \r\nL 138.521524 32.672411 \r\nz\r\n\" style=\"fill:#1f77b4;\"/>\r\n   </g>\r\n   <g id=\"patch_85\">\r\n    <path clip-path=\"url(#pc2535de6a0)\" d=\"M 139.338907 239.758125 \r\nL 139.524676 239.758125 \r\nL 139.524676 32.672411 \r\nL 139.338907 32.672411 \r\nz\r\n\" style=\"fill:#1f77b4;\"/>\r\n   </g>\r\n   <g id=\"patch_86\">\r\n    <path clip-path=\"url(#pc2535de6a0)\" d=\"M 140.490674 239.758125 \r\nL 140.676443 239.758125 \r\nL 140.676443 32.672411 \r\nL 140.490674 32.672411 \r\nz\r\n\" style=\"fill:#1f77b4;\"/>\r\n   </g>\r\n   <g id=\"patch_87\">\r\n    <path clip-path=\"url(#pc2535de6a0)\" d=\"M 144.317512 239.758125 \r\nL 144.50328 239.758125 \r\nL 144.50328 32.672411 \r\nL 144.317512 32.672411 \r\nz\r\n\" style=\"fill:#1f77b4;\"/>\r\n   </g>\r\n   <g id=\"patch_88\">\r\n    <path clip-path=\"url(#pc2535de6a0)\" d=\"M 146.360969 239.758125 \r\nL 146.546737 239.758125 \r\nL 146.546737 32.672411 \r\nL 146.360969 32.672411 \r\nz\r\n\" style=\"fill:#1f77b4;\"/>\r\n   </g>\r\n   <g id=\"patch_89\">\r\n    <path clip-path=\"url(#pc2535de6a0)\" d=\"M 146.491007 239.758125 \r\nL 146.676776 239.758125 \r\nL 146.676776 32.672411 \r\nL 146.491007 32.672411 \r\nz\r\n\" style=\"fill:#1f77b4;\"/>\r\n   </g>\r\n   <g id=\"patch_90\">\r\n    <path clip-path=\"url(#pc2535de6a0)\" d=\"M 146.899698 239.758125 \r\nL 147.085467 239.758125 \r\nL 147.085467 32.672411 \r\nL 146.899698 32.672411 \r\nz\r\n\" style=\"fill:#1f77b4;\"/>\r\n   </g>\r\n   <g id=\"patch_91\">\r\n    <path clip-path=\"url(#pc2535de6a0)\" d=\"M 147.085467 239.758125 \r\nL 147.271236 239.758125 \r\nL 147.271236 32.672411 \r\nL 147.085467 32.672411 \r\nz\r\n\" style=\"fill:#1f77b4;\"/>\r\n   </g>\r\n   <g id=\"patch_92\">\r\n    <path clip-path=\"url(#pc2535de6a0)\" d=\"M 147.30839 239.758125 \r\nL 147.494158 239.758125 \r\nL 147.494158 32.672411 \r\nL 147.30839 32.672411 \r\nz\r\n\" style=\"fill:#1f77b4;\"/>\r\n   </g>\r\n   <g id=\"patch_93\">\r\n    <path clip-path=\"url(#pc2535de6a0)\" d=\"M 149.166078 239.758125 \r\nL 149.351847 239.758125 \r\nL 149.351847 32.672411 \r\nL 149.166078 32.672411 \r\nz\r\n\" style=\"fill:#1f77b4;\"/>\r\n   </g>\r\n   <g id=\"patch_94\">\r\n    <path clip-path=\"url(#pc2535de6a0)\" d=\"M 149.704807 239.758125 \r\nL 149.890576 239.758125 \r\nL 149.890576 32.672411 \r\nL 149.704807 32.672411 \r\nz\r\n\" style=\"fill:#1f77b4;\"/>\r\n   </g>\r\n   <g id=\"patch_95\">\r\n    <path clip-path=\"url(#pc2535de6a0)\" d=\"M 150.447883 239.758125 \r\nL 150.633651 239.758125 \r\nL 150.633651 32.672411 \r\nL 150.447883 32.672411 \r\nz\r\n\" style=\"fill:#1f77b4;\"/>\r\n   </g>\r\n   <g id=\"patch_96\">\r\n    <path clip-path=\"url(#pc2535de6a0)\" d=\"M 150.875151 239.758125 \r\nL 151.06092 239.758125 \r\nL 151.06092 32.672411 \r\nL 150.875151 32.672411 \r\nz\r\n\" style=\"fill:#1f77b4;\"/>\r\n   </g>\r\n   <g id=\"patch_97\">\r\n    <path clip-path=\"url(#pc2535de6a0)\" d=\"M 151.042343 239.758125 \r\nL 151.228112 239.758125 \r\nL 151.228112 32.672411 \r\nL 151.042343 32.672411 \r\nz\r\n\" style=\"fill:#1f77b4;\"/>\r\n   </g>\r\n   <g id=\"patch_98\">\r\n    <path clip-path=\"url(#pc2535de6a0)\" d=\"M 151.618226 239.758125 \r\nL 151.803995 239.758125 \r\nL 151.803995 32.672411 \r\nL 151.618226 32.672411 \r\nz\r\n\" style=\"fill:#1f77b4;\"/>\r\n   </g>\r\n   <g id=\"patch_99\">\r\n    <path clip-path=\"url(#pc2535de6a0)\" d=\"M 151.841149 239.758125 \r\nL 152.026918 239.758125 \r\nL 152.026918 32.672411 \r\nL 151.841149 32.672411 \r\nz\r\n\" style=\"fill:#1f77b4;\"/>\r\n   </g>\r\n   <g id=\"patch_100\">\r\n    <path clip-path=\"url(#pc2535de6a0)\" d=\"M 154.237567 239.758125 \r\nL 154.423335 239.758125 \r\nL 154.423335 32.672411 \r\nL 154.237567 32.672411 \r\nz\r\n\" style=\"fill:#1f77b4;\"/>\r\n   </g>\r\n   <g id=\"patch_101\">\r\n    <path clip-path=\"url(#pc2535de6a0)\" d=\"M 155.779448 239.758125 \r\nL 155.965217 239.758125 \r\nL 155.965217 32.672411 \r\nL 155.779448 32.672411 \r\nz\r\n\" style=\"fill:#1f77b4;\"/>\r\n   </g>\r\n   <g id=\"patch_102\">\r\n    <path clip-path=\"url(#pc2535de6a0)\" d=\"M 156.2996 239.758125 \r\nL 156.485369 239.758125 \r\nL 156.485369 32.672411 \r\nL 156.2996 32.672411 \r\nz\r\n\" style=\"fill:#1f77b4;\"/>\r\n   </g>\r\n   <g id=\"patch_103\">\r\n    <path clip-path=\"url(#pc2535de6a0)\" d=\"M 157.07983 239.758125 \r\nL 157.265598 239.758125 \r\nL 157.265598 32.672411 \r\nL 157.07983 32.672411 \r\nz\r\n\" style=\"fill:#1f77b4;\"/>\r\n   </g>\r\n   <g id=\"patch_104\">\r\n    <path clip-path=\"url(#pc2535de6a0)\" d=\"M 157.37706 239.758125 \r\nL 157.562828 239.758125 \r\nL 157.562828 32.672411 \r\nL 157.37706 32.672411 \r\nz\r\n\" style=\"fill:#1f77b4;\"/>\r\n   </g>\r\n   <g id=\"patch_105\">\r\n    <path clip-path=\"url(#pc2535de6a0)\" d=\"M 158.510249 239.758125 \r\nL 158.696018 239.758125 \r\nL 158.696018 32.672411 \r\nL 158.510249 32.672411 \r\nz\r\n\" style=\"fill:#1f77b4;\"/>\r\n   </g>\r\n   <g id=\"patch_106\">\r\n    <path clip-path=\"url(#pc2535de6a0)\" d=\"M 158.714595 239.758125 \r\nL 158.900364 239.758125 \r\nL 158.900364 32.672411 \r\nL 158.714595 32.672411 \r\nz\r\n\" style=\"fill:#1f77b4;\"/>\r\n   </g>\r\n   <g id=\"patch_107\">\r\n    <path clip-path=\"url(#pc2535de6a0)\" d=\"M 159.290479 239.758125 \r\nL 159.476247 239.758125 \r\nL 159.476247 32.672411 \r\nL 159.290479 32.672411 \r\nz\r\n\" style=\"fill:#1f77b4;\"/>\r\n   </g>\r\n   <g id=\"patch_108\">\r\n    <path clip-path=\"url(#pc2535de6a0)\" d=\"M 159.327632 239.758125 \r\nL 159.513401 239.758125 \r\nL 159.513401 32.672411 \r\nL 159.327632 32.672411 \r\nz\r\n\" style=\"fill:#1f77b4;\"/>\r\n   </g>\r\n   <g id=\"patch_109\">\r\n    <path clip-path=\"url(#pc2535de6a0)\" d=\"M 159.383363 239.758125 \r\nL 159.569132 239.758125 \r\nL 159.569132 32.672411 \r\nL 159.383363 32.672411 \r\nz\r\n\" style=\"fill:#1f77b4;\"/>\r\n   </g>\r\n   <g id=\"patch_110\">\r\n    <path clip-path=\"url(#pc2535de6a0)\" d=\"M 160.906667 239.758125 \r\nL 161.092436 239.758125 \r\nL 161.092436 32.672411 \r\nL 160.906667 32.672411 \r\nz\r\n\" style=\"fill:#1f77b4;\"/>\r\n   </g>\r\n   <g id=\"patch_111\">\r\n    <path clip-path=\"url(#pc2535de6a0)\" d=\"M 161.575435 239.758125 \r\nL 161.761204 239.758125 \r\nL 161.761204 32.672411 \r\nL 161.575435 32.672411 \r\nz\r\n\" style=\"fill:#1f77b4;\"/>\r\n   </g>\r\n   <g id=\"patch_112\">\r\n    <path clip-path=\"url(#pc2535de6a0)\" d=\"M 162.671471 239.758125 \r\nL 162.85724 239.758125 \r\nL 162.85724 32.672411 \r\nL 162.671471 32.672411 \r\nz\r\n\" style=\"fill:#1f77b4;\"/>\r\n   </g>\r\n   <g id=\"patch_113\">\r\n    <path clip-path=\"url(#pc2535de6a0)\" d=\"M 163.897545 239.758125 \r\nL 164.083314 239.758125 \r\nL 164.083314 32.672411 \r\nL 163.897545 32.672411 \r\nz\r\n\" style=\"fill:#1f77b4;\"/>\r\n   </g>\r\n   <g id=\"patch_114\">\r\n    <path clip-path=\"url(#pc2535de6a0)\" d=\"M 165.47658 239.758125 \r\nL 165.662349 239.758125 \r\nL 165.662349 32.672411 \r\nL 165.47658 32.672411 \r\nz\r\n\" style=\"fill:#1f77b4;\"/>\r\n   </g>\r\n   <g id=\"patch_115\">\r\n    <path clip-path=\"url(#pc2535de6a0)\" d=\"M 165.495157 239.758125 \r\nL 165.680926 239.758125 \r\nL 165.680926 32.672411 \r\nL 165.495157 32.672411 \r\nz\r\n\" style=\"fill:#1f77b4;\"/>\r\n   </g>\r\n   <g id=\"patch_116\">\r\n    <path clip-path=\"url(#pc2535de6a0)\" d=\"M 167.891575 239.758125 \r\nL 168.077344 239.758125 \r\nL 168.077344 32.672411 \r\nL 167.891575 32.672411 \r\nz\r\n\" style=\"fill:#1f77b4;\"/>\r\n   </g>\r\n   <g id=\"patch_117\">\r\n    <path clip-path=\"url(#pc2535de6a0)\" d=\"M 168.430305 239.758125 \r\nL 168.616073 239.758125 \r\nL 168.616073 32.672411 \r\nL 168.430305 32.672411 \r\nz\r\n\" style=\"fill:#1f77b4;\"/>\r\n   </g>\r\n   <g id=\"patch_118\">\r\n    <path clip-path=\"url(#pc2535de6a0)\" d=\"M 168.913303 239.758125 \r\nL 169.099072 239.758125 \r\nL 169.099072 32.672411 \r\nL 168.913303 32.672411 \r\nz\r\n\" style=\"fill:#1f77b4;\"/>\r\n   </g>\r\n   <g id=\"patch_119\">\r\n    <path clip-path=\"url(#pc2535de6a0)\" d=\"M 169.22911 239.758125 \r\nL 169.414879 239.758125 \r\nL 169.414879 32.672411 \r\nL 169.22911 32.672411 \r\nz\r\n\" style=\"fill:#1f77b4;\"/>\r\n   </g>\r\n   <g id=\"patch_120\">\r\n    <path clip-path=\"url(#pc2535de6a0)\" d=\"M 170.529492 239.758125 \r\nL 170.715261 239.758125 \r\nL 170.715261 32.672411 \r\nL 170.529492 32.672411 \r\nz\r\n\" style=\"fill:#1f77b4;\"/>\r\n   </g>\r\n   <g id=\"patch_121\">\r\n    <path clip-path=\"url(#pc2535de6a0)\" d=\"M 170.65953 239.758125 \r\nL 170.845299 239.758125 \r\nL 170.845299 32.672411 \r\nL 170.65953 32.672411 \r\nz\r\n\" style=\"fill:#1f77b4;\"/>\r\n   </g>\r\n   <g id=\"patch_122\">\r\n    <path clip-path=\"url(#pc2535de6a0)\" d=\"M 170.863876 239.758125 \r\nL 171.049645 239.758125 \r\nL 171.049645 32.672411 \r\nL 170.863876 32.672411 \r\nz\r\n\" style=\"fill:#1f77b4;\"/>\r\n   </g>\r\n   <g id=\"patch_123\">\r\n    <path clip-path=\"url(#pc2535de6a0)\" d=\"M 171.402606 239.758125 \r\nL 171.588374 239.758125 \r\nL 171.588374 32.672411 \r\nL 171.402606 32.672411 \r\nz\r\n\" style=\"fill:#1f77b4;\"/>\r\n   </g>\r\n   <g id=\"patch_124\">\r\n    <path clip-path=\"url(#pc2535de6a0)\" d=\"M 171.439759 239.758125 \r\nL 171.625528 239.758125 \r\nL 171.625528 32.672411 \r\nL 171.439759 32.672411 \r\nz\r\n\" style=\"fill:#1f77b4;\"/>\r\n   </g>\r\n   <g id=\"patch_125\">\r\n    <path clip-path=\"url(#pc2535de6a0)\" d=\"M 172.684411 239.758125 \r\nL 172.870179 239.758125 \r\nL 172.870179 32.672411 \r\nL 172.684411 32.672411 \r\nz\r\n\" style=\"fill:#1f77b4;\"/>\r\n   </g>\r\n   <g id=\"patch_126\">\r\n    <path clip-path=\"url(#pc2535de6a0)\" d=\"M 175.396635 239.758125 \r\nL 175.582404 239.758125 \r\nL 175.582404 32.672411 \r\nL 175.396635 32.672411 \r\nz\r\n\" style=\"fill:#1f77b4;\"/>\r\n   </g>\r\n   <g id=\"patch_127\">\r\n    <path clip-path=\"url(#pc2535de6a0)\" d=\"M 175.898211 239.758125 \r\nL 176.08398 239.758125 \r\nL 176.08398 32.672411 \r\nL 175.898211 32.672411 \r\nz\r\n\" style=\"fill:#1f77b4;\"/>\r\n   </g>\r\n   <g id=\"patch_128\">\r\n    <path clip-path=\"url(#pc2535de6a0)\" d=\"M 175.991096 239.758125 \r\nL 176.176864 239.758125 \r\nL 176.176864 32.672411 \r\nL 175.991096 32.672411 \r\nz\r\n\" style=\"fill:#1f77b4;\"/>\r\n   </g>\r\n   <g id=\"patch_129\">\r\n    <path clip-path=\"url(#pc2535de6a0)\" d=\"M 178.554705 239.758125 \r\nL 178.740474 239.758125 \r\nL 178.740474 32.672411 \r\nL 178.554705 32.672411 \r\nz\r\n\" style=\"fill:#1f77b4;\"/>\r\n   </g>\r\n   <g id=\"patch_130\">\r\n    <path clip-path=\"url(#pc2535de6a0)\" d=\"M 178.889089 239.758125 \r\nL 179.074858 239.758125 \r\nL 179.074858 32.672411 \r\nL 178.889089 32.672411 \r\nz\r\n\" style=\"fill:#1f77b4;\"/>\r\n   </g>\r\n   <g id=\"patch_131\">\r\n    <path clip-path=\"url(#pc2535de6a0)\" d=\"M 178.907666 239.758125 \r\nL 179.093435 239.758125 \r\nL 179.093435 32.672411 \r\nL 178.907666 32.672411 \r\nz\r\n\" style=\"fill:#1f77b4;\"/>\r\n   </g>\r\n   <g id=\"patch_132\">\r\n    <path clip-path=\"url(#pc2535de6a0)\" d=\"M 179.130589 239.758125 \r\nL 179.316357 239.758125 \r\nL 179.316357 32.672411 \r\nL 179.130589 32.672411 \r\nz\r\n\" style=\"fill:#1f77b4;\"/>\r\n   </g>\r\n   <g id=\"patch_133\">\r\n    <path clip-path=\"url(#pc2535de6a0)\" d=\"M 179.576434 239.758125 \r\nL 179.762203 239.758125 \r\nL 179.762203 32.672411 \r\nL 179.576434 32.672411 \r\nz\r\n\" style=\"fill:#1f77b4;\"/>\r\n   </g>\r\n   <g id=\"patch_134\">\r\n    <path clip-path=\"url(#pc2535de6a0)\" d=\"M 179.892241 239.758125 \r\nL 180.07801 239.758125 \r\nL 180.07801 32.672411 \r\nL 179.892241 32.672411 \r\nz\r\n\" style=\"fill:#1f77b4;\"/>\r\n   </g>\r\n   <g id=\"patch_135\">\r\n    <path clip-path=\"url(#pc2535de6a0)\" d=\"M 180.765354 239.758125 \r\nL 180.951123 239.758125 \r\nL 180.951123 32.672411 \r\nL 180.765354 32.672411 \r\nz\r\n\" style=\"fill:#1f77b4;\"/>\r\n   </g>\r\n   <g id=\"patch_136\">\r\n    <path clip-path=\"url(#pc2535de6a0)\" d=\"M 183.459002 239.758125 \r\nL 183.644771 239.758125 \r\nL 183.644771 32.672411 \r\nL 183.459002 32.672411 \r\nz\r\n\" style=\"fill:#1f77b4;\"/>\r\n   </g>\r\n   <g id=\"patch_137\">\r\n    <path clip-path=\"url(#pc2535de6a0)\" d=\"M 184.072039 239.758125 \r\nL 184.257808 239.758125 \r\nL 184.257808 32.672411 \r\nL 184.072039 32.672411 \r\nz\r\n\" style=\"fill:#1f77b4;\"/>\r\n   </g>\r\n   <g id=\"patch_138\">\r\n    <path clip-path=\"url(#pc2535de6a0)\" d=\"M 185.409575 239.758125 \r\nL 185.595344 239.758125 \r\nL 185.595344 32.672411 \r\nL 185.409575 32.672411 \r\nz\r\n\" style=\"fill:#1f77b4;\"/>\r\n   </g>\r\n   <g id=\"patch_139\">\r\n    <path clip-path=\"url(#pc2535de6a0)\" d=\"M 188.902029 239.758125 \r\nL 189.087797 239.758125 \r\nL 189.087797 32.672411 \r\nL 188.902029 32.672411 \r\nz\r\n\" style=\"fill:#1f77b4;\"/>\r\n   </g>\r\n   <g id=\"patch_140\">\r\n    <path clip-path=\"url(#pc2535de6a0)\" d=\"M 189.60795 239.758125 \r\nL 189.793719 239.758125 \r\nL 189.793719 32.672411 \r\nL 189.60795 32.672411 \r\nz\r\n\" style=\"fill:#1f77b4;\"/>\r\n   </g>\r\n   <g id=\"patch_141\">\r\n    <path clip-path=\"url(#pc2535de6a0)\" d=\"M 189.737988 239.758125 \r\nL 189.923757 239.758125 \r\nL 189.923757 32.672411 \r\nL 189.737988 32.672411 \r\nz\r\n\" style=\"fill:#1f77b4;\"/>\r\n   </g>\r\n   <g id=\"patch_142\">\r\n    <path clip-path=\"url(#pc2535de6a0)\" d=\"M 191.428485 239.758125 \r\nL 191.614253 239.758125 \r\nL 191.614253 32.672411 \r\nL 191.428485 32.672411 \r\nz\r\n\" style=\"fill:#1f77b4;\"/>\r\n   </g>\r\n   <g id=\"patch_143\">\r\n    <path clip-path=\"url(#pc2535de6a0)\" d=\"M 192.208714 239.758125 \r\nL 192.394482 239.758125 \r\nL 192.394482 32.672411 \r\nL 192.208714 32.672411 \r\nz\r\n\" style=\"fill:#1f77b4;\"/>\r\n   </g>\r\n   <g id=\"patch_144\">\r\n    <path clip-path=\"url(#pc2535de6a0)\" d=\"M 193.527672 239.758125 \r\nL 193.713441 239.758125 \r\nL 193.713441 32.672411 \r\nL 193.527672 32.672411 \r\nz\r\n\" style=\"fill:#1f77b4;\"/>\r\n   </g>\r\n   <g id=\"patch_145\">\r\n    <path clip-path=\"url(#pc2535de6a0)\" d=\"M 193.713441 239.758125 \r\nL 193.89921 239.758125 \r\nL 193.89921 32.672411 \r\nL 193.713441 32.672411 \r\nz\r\n\" style=\"fill:#1f77b4;\"/>\r\n   </g>\r\n   <g id=\"patch_146\">\r\n    <path clip-path=\"url(#pc2535de6a0)\" d=\"M 194.400786 239.758125 \r\nL 194.586555 239.758125 \r\nL 194.586555 32.672411 \r\nL 194.400786 32.672411 \r\nz\r\n\" style=\"fill:#1f77b4;\"/>\r\n   </g>\r\n   <g id=\"patch_147\">\r\n    <path clip-path=\"url(#pc2535de6a0)\" d=\"M 194.753746 239.758125 \r\nL 194.939515 239.758125 \r\nL 194.939515 32.672411 \r\nL 194.753746 32.672411 \r\nz\r\n\" style=\"fill:#1f77b4;\"/>\r\n   </g>\r\n   <g id=\"patch_148\">\r\n    <path clip-path=\"url(#pc2535de6a0)\" d=\"M 196.425666 239.758125 \r\nL 196.611435 239.758125 \r\nL 196.611435 32.672411 \r\nL 196.425666 32.672411 \r\nz\r\n\" style=\"fill:#1f77b4;\"/>\r\n   </g>\r\n   <g id=\"patch_149\">\r\n    <path clip-path=\"url(#pc2535de6a0)\" d=\"M 196.741473 239.758125 \r\nL 196.927242 239.758125 \r\nL 196.927242 32.672411 \r\nL 196.741473 32.672411 \r\nz\r\n\" style=\"fill:#1f77b4;\"/>\r\n   </g>\r\n   <g id=\"patch_150\">\r\n    <path clip-path=\"url(#pc2535de6a0)\" d=\"M 196.81578 239.758125 \r\nL 197.001549 239.758125 \r\nL 197.001549 32.672411 \r\nL 196.81578 32.672411 \r\nz\r\n\" style=\"fill:#1f77b4;\"/>\r\n   </g>\r\n   <g id=\"patch_151\">\r\n    <path clip-path=\"url(#pc2535de6a0)\" d=\"M 196.945819 239.758125 \r\nL 197.131587 239.758125 \r\nL 197.131587 32.672411 \r\nL 196.945819 32.672411 \r\nz\r\n\" style=\"fill:#1f77b4;\"/>\r\n   </g>\r\n   <g id=\"patch_152\">\r\n    <path clip-path=\"url(#pc2535de6a0)\" d=\"M 197.447394 239.758125 \r\nL 197.633163 239.758125 \r\nL 197.633163 32.672411 \r\nL 197.447394 32.672411 \r\nz\r\n\" style=\"fill:#1f77b4;\"/>\r\n   </g>\r\n   <g id=\"patch_153\">\r\n    <path clip-path=\"url(#pc2535de6a0)\" d=\"M 197.596009 239.758125 \r\nL 197.781778 239.758125 \r\nL 197.781778 32.672411 \r\nL 197.596009 32.672411 \r\nz\r\n\" style=\"fill:#1f77b4;\"/>\r\n   </g>\r\n   <g id=\"patch_154\">\r\n    <path clip-path=\"url(#pc2535de6a0)\" d=\"M 198.766353 239.758125 \r\nL 198.952122 239.758125 \r\nL 198.952122 32.672411 \r\nL 198.766353 32.672411 \r\nz\r\n\" style=\"fill:#1f77b4;\"/>\r\n   </g>\r\n   <g id=\"patch_155\">\r\n    <path clip-path=\"url(#pc2535de6a0)\" d=\"M 199.955273 239.758125 \r\nL 200.141042 239.758125 \r\nL 200.141042 32.672411 \r\nL 199.955273 32.672411 \r\nz\r\n\" style=\"fill:#1f77b4;\"/>\r\n   </g>\r\n   <g id=\"patch_156\">\r\n    <path clip-path=\"url(#pc2535de6a0)\" d=\"M 200.884118 239.758125 \r\nL 201.069886 239.758125 \r\nL 201.069886 32.672411 \r\nL 200.884118 32.672411 \r\nz\r\n\" style=\"fill:#1f77b4;\"/>\r\n   </g>\r\n   <g id=\"patch_157\">\r\n    <path clip-path=\"url(#pc2535de6a0)\" d=\"M 202.128769 239.758125 \r\nL 202.314537 239.758125 \r\nL 202.314537 32.672411 \r\nL 202.128769 32.672411 \r\nz\r\n\" style=\"fill:#1f77b4;\"/>\r\n   </g>\r\n   <g id=\"patch_158\">\r\n    <path clip-path=\"url(#pc2535de6a0)\" d=\"M 203.744957 239.758125 \r\nL 203.930726 239.758125 \r\nL 203.930726 32.672411 \r\nL 203.744957 32.672411 \r\nz\r\n\" style=\"fill:#1f77b4;\"/>\r\n   </g>\r\n   <g id=\"patch_159\">\r\n    <path clip-path=\"url(#pc2535de6a0)\" d=\"M 204.729532 239.758125 \r\nL 204.915301 239.758125 \r\nL 204.915301 32.672411 \r\nL 204.729532 32.672411 \r\nz\r\n\" style=\"fill:#1f77b4;\"/>\r\n   </g>\r\n   <g id=\"patch_160\">\r\n    <path clip-path=\"url(#pc2535de6a0)\" d=\"M 204.915301 239.758125 \r\nL 205.10107 239.758125 \r\nL 205.10107 32.672411 \r\nL 204.915301 32.672411 \r\nz\r\n\" style=\"fill:#1f77b4;\"/>\r\n   </g>\r\n   <g id=\"patch_161\">\r\n    <path clip-path=\"url(#pc2535de6a0)\" d=\"M 206.364298 239.758125 \r\nL 206.550067 239.758125 \r\nL 206.550067 32.672411 \r\nL 206.364298 32.672411 \r\nz\r\n\" style=\"fill:#1f77b4;\"/>\r\n   </g>\r\n   <g id=\"patch_162\">\r\n    <path clip-path=\"url(#pc2535de6a0)\" d=\"M 207.255988 239.758125 \r\nL 207.441757 239.758125 \r\nL 207.441757 32.672411 \r\nL 207.255988 32.672411 \r\nz\r\n\" style=\"fill:#1f77b4;\"/>\r\n   </g>\r\n   <g id=\"patch_163\">\r\n    <path clip-path=\"url(#pc2535de6a0)\" d=\"M 207.311719 239.758125 \r\nL 207.497488 239.758125 \r\nL 207.497488 32.672411 \r\nL 207.311719 32.672411 \r\nz\r\n\" style=\"fill:#1f77b4;\"/>\r\n   </g>\r\n   <g id=\"patch_164\">\r\n    <path clip-path=\"url(#pc2535de6a0)\" d=\"M 207.869025 239.758125 \r\nL 208.054794 239.758125 \r\nL 208.054794 32.672411 \r\nL 207.869025 32.672411 \r\nz\r\n\" style=\"fill:#1f77b4;\"/>\r\n   </g>\r\n   <g id=\"patch_165\">\r\n    <path clip-path=\"url(#pc2535de6a0)\" d=\"M 210.692711 239.758125 \r\nL 210.87848 239.758125 \r\nL 210.87848 32.672411 \r\nL 210.692711 32.672411 \r\nz\r\n\" style=\"fill:#1f77b4;\"/>\r\n   </g>\r\n   <g id=\"patch_166\">\r\n    <path clip-path=\"url(#pc2535de6a0)\" d=\"M 211.993093 239.758125 \r\nL 212.178862 239.758125 \r\nL 212.178862 32.672411 \r\nL 211.993093 32.672411 \r\nz\r\n\" style=\"fill:#1f77b4;\"/>\r\n   </g>\r\n   <g id=\"patch_167\">\r\n    <path clip-path=\"url(#pc2535de6a0)\" d=\"M 212.364631 239.758125 \r\nL 212.5504 239.758125 \r\nL 212.5504 32.672411 \r\nL 212.364631 32.672411 \r\nz\r\n\" style=\"fill:#1f77b4;\"/>\r\n   </g>\r\n   <g id=\"patch_168\">\r\n    <path clip-path=\"url(#pc2535de6a0)\" d=\"M 213.850781 239.758125 \r\nL 214.03655 239.758125 \r\nL 214.03655 32.672411 \r\nL 213.850781 32.672411 \r\nz\r\n\" style=\"fill:#1f77b4;\"/>\r\n   </g>\r\n   <g id=\"patch_169\">\r\n    <path clip-path=\"url(#pc2535de6a0)\" d=\"M 214.946817 239.758125 \r\nL 215.132586 239.758125 \r\nL 215.132586 32.672411 \r\nL 214.946817 32.672411 \r\nz\r\n\" style=\"fill:#1f77b4;\"/>\r\n   </g>\r\n   <g id=\"patch_170\">\r\n    <path clip-path=\"url(#pc2535de6a0)\" d=\"M 216.470122 239.758125 \r\nL 216.65589 239.758125 \r\nL 216.65589 32.672411 \r\nL 216.470122 32.672411 \r\nz\r\n\" style=\"fill:#1f77b4;\"/>\r\n   </g>\r\n   <g id=\"patch_171\">\r\n    <path clip-path=\"url(#pc2535de6a0)\" d=\"M 218.012003 239.758125 \r\nL 218.197772 239.758125 \r\nL 218.197772 32.672411 \r\nL 218.012003 32.672411 \r\nz\r\n\" style=\"fill:#1f77b4;\"/>\r\n   </g>\r\n   <g id=\"patch_172\">\r\n    <path clip-path=\"url(#pc2535de6a0)\" d=\"M 218.792232 239.758125 \r\nL 218.978001 239.758125 \r\nL 218.978001 32.672411 \r\nL 218.792232 32.672411 \r\nz\r\n\" style=\"fill:#1f77b4;\"/>\r\n   </g>\r\n   <g id=\"patch_173\">\r\n    <path clip-path=\"url(#pc2535de6a0)\" d=\"M 218.885116 239.758125 \r\nL 219.070885 239.758125 \r\nL 219.070885 32.672411 \r\nL 218.885116 32.672411 \r\nz\r\n\" style=\"fill:#1f77b4;\"/>\r\n   </g>\r\n   <g id=\"patch_174\">\r\n    <path clip-path=\"url(#pc2535de6a0)\" d=\"M 221.578764 239.758125 \r\nL 221.764533 239.758125 \r\nL 221.764533 32.672411 \r\nL 221.578764 32.672411 \r\nz\r\n\" style=\"fill:#1f77b4;\"/>\r\n   </g>\r\n   <g id=\"patch_175\">\r\n    <path clip-path=\"url(#pc2535de6a0)\" d=\"M 222.043186 239.758125 \r\nL 222.228955 239.758125 \r\nL 222.228955 32.672411 \r\nL 222.043186 32.672411 \r\nz\r\n\" style=\"fill:#1f77b4;\"/>\r\n   </g>\r\n   <g id=\"patch_176\">\r\n    <path clip-path=\"url(#pc2535de6a0)\" d=\"M 222.97203 239.758125 \r\nL 223.157799 239.758125 \r\nL 223.157799 32.672411 \r\nL 222.97203 32.672411 \r\nz\r\n\" style=\"fill:#1f77b4;\"/>\r\n   </g>\r\n   <g id=\"patch_177\">\r\n    <path clip-path=\"url(#pc2535de6a0)\" d=\"M 223.102069 239.758125 \r\nL 223.287837 239.758125 \r\nL 223.287837 32.672411 \r\nL 223.102069 32.672411 \r\nz\r\n\" style=\"fill:#1f77b4;\"/>\r\n   </g>\r\n   <g id=\"patch_178\">\r\n    <path clip-path=\"url(#pc2535de6a0)\" d=\"M 223.473606 239.758125 \r\nL 223.659375 239.758125 \r\nL 223.659375 32.672411 \r\nL 223.473606 32.672411 \r\nz\r\n\" style=\"fill:#1f77b4;\"/>\r\n   </g>\r\n   <g id=\"patch_179\">\r\n    <path clip-path=\"url(#pc2535de6a0)\" d=\"M 224.328143 239.758125 \r\nL 224.513912 239.758125 \r\nL 224.513912 32.672411 \r\nL 224.328143 32.672411 \r\nz\r\n\" style=\"fill:#1f77b4;\"/>\r\n   </g>\r\n   <g id=\"patch_180\">\r\n    <path clip-path=\"url(#pc2535de6a0)\" d=\"M 224.421027 239.758125 \r\nL 224.606796 239.758125 \r\nL 224.606796 32.672411 \r\nL 224.421027 32.672411 \r\nz\r\n\" style=\"fill:#1f77b4;\"/>\r\n   </g>\r\n   <g id=\"patch_181\">\r\n    <path clip-path=\"url(#pc2535de6a0)\" d=\"M 224.439604 239.758125 \r\nL 224.625373 239.758125 \r\nL 224.625373 32.672411 \r\nL 224.439604 32.672411 \r\nz\r\n\" style=\"fill:#1f77b4;\"/>\r\n   </g>\r\n   <g id=\"patch_182\">\r\n    <path clip-path=\"url(#pc2535de6a0)\" d=\"M 224.792565 239.758125 \r\nL 224.978334 239.758125 \r\nL 224.978334 32.672411 \r\nL 224.792565 32.672411 \r\nz\r\n\" style=\"fill:#1f77b4;\"/>\r\n   </g>\r\n   <g id=\"patch_183\">\r\n    <path clip-path=\"url(#pc2535de6a0)\" d=\"M 225.312718 239.758125 \r\nL 225.498486 239.758125 \r\nL 225.498486 32.672411 \r\nL 225.312718 32.672411 \r\nz\r\n\" style=\"fill:#1f77b4;\"/>\r\n   </g>\r\n   <g id=\"patch_184\">\r\n    <path clip-path=\"url(#pc2535de6a0)\" d=\"M 227.411905 239.758125 \r\nL 227.597674 239.758125 \r\nL 227.597674 32.672411 \r\nL 227.411905 32.672411 \r\nz\r\n\" style=\"fill:#1f77b4;\"/>\r\n   </g>\r\n   <g id=\"patch_185\">\r\n    <path clip-path=\"url(#pc2535de6a0)\" d=\"M 228.600826 239.758125 \r\nL 228.786594 239.758125 \r\nL 228.786594 32.672411 \r\nL 228.600826 32.672411 \r\nz\r\n\" style=\"fill:#1f77b4;\"/>\r\n   </g>\r\n   <g id=\"patch_186\">\r\n    <path clip-path=\"url(#pc2535de6a0)\" d=\"M 232.817778 239.758125 \r\nL 233.003547 239.758125 \r\nL 233.003547 32.672411 \r\nL 232.817778 32.672411 \r\nz\r\n\" style=\"fill:#1f77b4;\"/>\r\n   </g>\r\n   <g id=\"patch_187\">\r\n    <path clip-path=\"url(#pc2535de6a0)\" d=\"M 234.489697 239.758125 \r\nL 234.675466 239.758125 \r\nL 234.675466 32.672411 \r\nL 234.489697 32.672411 \r\nz\r\n\" style=\"fill:#1f77b4;\"/>\r\n   </g>\r\n   <g id=\"patch_188\">\r\n    <path clip-path=\"url(#pc2535de6a0)\" d=\"M 234.861235 239.758125 \r\nL 235.047004 239.758125 \r\nL 235.047004 32.672411 \r\nL 234.861235 32.672411 \r\nz\r\n\" style=\"fill:#1f77b4;\"/>\r\n   </g>\r\n   <g id=\"patch_189\">\r\n    <path clip-path=\"url(#pc2535de6a0)\" d=\"M 236.403116 239.758125 \r\nL 236.588885 239.758125 \r\nL 236.588885 32.672411 \r\nL 236.403116 32.672411 \r\nz\r\n\" style=\"fill:#1f77b4;\"/>\r\n   </g>\r\n   <g id=\"patch_190\">\r\n    <path clip-path=\"url(#pc2535de6a0)\" d=\"M 236.941846 239.758125 \r\nL 237.127615 239.758125 \r\nL 237.127615 32.672411 \r\nL 236.941846 32.672411 \r\nz\r\n\" style=\"fill:#1f77b4;\"/>\r\n   </g>\r\n   <g id=\"patch_191\">\r\n    <path clip-path=\"url(#pc2535de6a0)\" d=\"M 238.149343 239.758125 \r\nL 238.335112 239.758125 \r\nL 238.335112 32.672411 \r\nL 238.149343 32.672411 \r\nz\r\n\" style=\"fill:#1f77b4;\"/>\r\n   </g>\r\n   <g id=\"patch_192\">\r\n    <path clip-path=\"url(#pc2535de6a0)\" d=\"M 240.582915 239.758125 \r\nL 240.768683 239.758125 \r\nL 240.768683 32.672411 \r\nL 240.582915 32.672411 \r\nz\r\n\" style=\"fill:#1f77b4;\"/>\r\n   </g>\r\n   <g id=\"patch_193\">\r\n    <path clip-path=\"url(#pc2535de6a0)\" d=\"M 241.846143 239.758125 \r\nL 242.031911 239.758125 \r\nL 242.031911 32.672411 \r\nL 241.846143 32.672411 \r\nz\r\n\" style=\"fill:#1f77b4;\"/>\r\n   </g>\r\n   <g id=\"patch_194\">\r\n    <path clip-path=\"url(#pc2535de6a0)\" d=\"M 242.477757 239.758125 \r\nL 242.663525 239.758125 \r\nL 242.663525 32.672411 \r\nL 242.477757 32.672411 \r\nz\r\n\" style=\"fill:#1f77b4;\"/>\r\n   </g>\r\n   <g id=\"patch_195\">\r\n    <path clip-path=\"url(#pc2535de6a0)\" d=\"M 243.165101 239.758125 \r\nL 243.35087 239.758125 \r\nL 243.35087 32.672411 \r\nL 243.165101 32.672411 \r\nz\r\n\" style=\"fill:#1f77b4;\"/>\r\n   </g>\r\n   <g id=\"patch_196\">\r\n    <path clip-path=\"url(#pc2535de6a0)\" d=\"M 245.951634 239.758125 \r\nL 246.137402 239.758125 \r\nL 246.137402 32.672411 \r\nL 245.951634 32.672411 \r\nz\r\n\" style=\"fill:#1f77b4;\"/>\r\n   </g>\r\n   <g id=\"patch_197\">\r\n    <path clip-path=\"url(#pc2535de6a0)\" d=\"M 246.286017 239.758125 \r\nL 246.471786 239.758125 \r\nL 246.471786 32.672411 \r\nL 246.286017 32.672411 \r\nz\r\n\" style=\"fill:#1f77b4;\"/>\r\n   </g>\r\n   <g id=\"patch_198\">\r\n    <path clip-path=\"url(#pc2535de6a0)\" d=\"M 247.753591 239.758125 \r\nL 247.93936 239.758125 \r\nL 247.93936 32.672411 \r\nL 247.753591 32.672411 \r\nz\r\n\" style=\"fill:#1f77b4;\"/>\r\n   </g>\r\n   <g id=\"patch_199\">\r\n    <path clip-path=\"url(#pc2535de6a0)\" d=\"M 248.348051 239.758125 \r\nL 248.53382 239.758125 \r\nL 248.53382 32.672411 \r\nL 248.348051 32.672411 \r\nz\r\n\" style=\"fill:#1f77b4;\"/>\r\n   </g>\r\n   <g id=\"patch_200\">\r\n    <path clip-path=\"url(#pc2535de6a0)\" d=\"M 248.979665 239.758125 \r\nL 249.165434 239.758125 \r\nL 249.165434 32.672411 \r\nL 248.979665 32.672411 \r\nz\r\n\" style=\"fill:#1f77b4;\"/>\r\n   </g>\r\n   <g id=\"patch_201\">\r\n    <path clip-path=\"url(#pc2535de6a0)\" d=\"M 252.342081 239.758125 \r\nL 252.52785 239.758125 \r\nL 252.52785 32.672411 \r\nL 252.342081 32.672411 \r\nz\r\n\" style=\"fill:#1f77b4;\"/>\r\n   </g>\r\n   <g id=\"patch_202\">\r\n    <path clip-path=\"url(#pc2535de6a0)\" d=\"M 252.490696 239.758125 \r\nL 252.676465 239.758125 \r\nL 252.676465 32.672411 \r\nL 252.490696 32.672411 \r\nz\r\n\" style=\"fill:#1f77b4;\"/>\r\n   </g>\r\n   <g id=\"patch_203\">\r\n    <path clip-path=\"url(#pc2535de6a0)\" d=\"M 253.326656 239.758125 \r\nL 253.512425 239.758125 \r\nL 253.512425 32.672411 \r\nL 253.326656 32.672411 \r\nz\r\n\" style=\"fill:#1f77b4;\"/>\r\n   </g>\r\n   <g id=\"patch_204\">\r\n    <path clip-path=\"url(#pc2535de6a0)\" d=\"M 253.939693 239.758125 \r\nL 254.125462 239.758125 \r\nL 254.125462 32.672411 \r\nL 253.939693 32.672411 \r\nz\r\n\" style=\"fill:#1f77b4;\"/>\r\n   </g>\r\n   <g id=\"patch_205\">\r\n    <path clip-path=\"url(#pc2535de6a0)\" d=\"M 254.794229 239.758125 \r\nL 254.979998 239.758125 \r\nL 254.979998 32.672411 \r\nL 254.794229 32.672411 \r\nz\r\n\" style=\"fill:#1f77b4;\"/>\r\n   </g>\r\n   <g id=\"patch_206\">\r\n    <path clip-path=\"url(#pc2535de6a0)\" d=\"M 256.113188 239.758125 \r\nL 256.298957 239.758125 \r\nL 256.298957 32.672411 \r\nL 256.113188 32.672411 \r\nz\r\n\" style=\"fill:#1f77b4;\"/>\r\n   </g>\r\n   <g id=\"patch_207\">\r\n    <path clip-path=\"url(#pc2535de6a0)\" d=\"M 256.428995 239.758125 \r\nL 256.614764 239.758125 \r\nL 256.614764 32.672411 \r\nL 256.428995 32.672411 \r\nz\r\n\" style=\"fill:#1f77b4;\"/>\r\n   </g>\r\n   <g id=\"patch_208\">\r\n    <path clip-path=\"url(#pc2535de6a0)\" d=\"M 256.986301 239.758125 \r\nL 257.17207 239.758125 \r\nL 257.17207 32.672411 \r\nL 256.986301 32.672411 \r\nz\r\n\" style=\"fill:#1f77b4;\"/>\r\n   </g>\r\n   <g id=\"patch_209\">\r\n    <path clip-path=\"url(#pc2535de6a0)\" d=\"M 260.367294 239.758125 \r\nL 260.553063 239.758125 \r\nL 260.553063 32.672411 \r\nL 260.367294 32.672411 \r\nz\r\n\" style=\"fill:#1f77b4;\"/>\r\n   </g>\r\n   <g id=\"patch_210\">\r\n    <path clip-path=\"url(#pc2535de6a0)\" d=\"M 261.1661 239.758125 \r\nL 261.351869 239.758125 \r\nL 261.351869 32.672411 \r\nL 261.1661 32.672411 \r\nz\r\n\" style=\"fill:#1f77b4;\"/>\r\n   </g>\r\n   <g id=\"patch_211\">\r\n    <path clip-path=\"url(#pc2535de6a0)\" d=\"M 263.451056 239.758125 \r\nL 263.636825 239.758125 \r\nL 263.636825 32.672411 \r\nL 263.451056 32.672411 \r\nz\r\n\" style=\"fill:#1f77b4;\"/>\r\n   </g>\r\n   <g id=\"patch_212\">\r\n    <path clip-path=\"url(#pc2535de6a0)\" d=\"M 263.766863 239.758125 \r\nL 263.952632 239.758125 \r\nL 263.952632 32.672411 \r\nL 263.766863 32.672411 \r\nz\r\n\" style=\"fill:#1f77b4;\"/>\r\n   </g>\r\n   <g id=\"patch_213\">\r\n    <path clip-path=\"url(#pc2535de6a0)\" d=\"M 264.472785 239.758125 \r\nL 264.658554 239.758125 \r\nL 264.658554 32.672411 \r\nL 264.472785 32.672411 \r\nz\r\n\" style=\"fill:#1f77b4;\"/>\r\n   </g>\r\n   <g id=\"patch_214\">\r\n    <path clip-path=\"url(#pc2535de6a0)\" d=\"M 265.197283 239.758125 \r\nL 265.383052 239.758125 \r\nL 265.383052 32.672411 \r\nL 265.197283 32.672411 \r\nz\r\n\" style=\"fill:#1f77b4;\"/>\r\n   </g>\r\n   <g id=\"patch_215\">\r\n    <path clip-path=\"url(#pc2535de6a0)\" d=\"M 265.438783 239.758125 \r\nL 265.624552 239.758125 \r\nL 265.624552 32.672411 \r\nL 265.438783 32.672411 \r\nz\r\n\" style=\"fill:#1f77b4;\"/>\r\n   </g>\r\n   <g id=\"patch_216\">\r\n    <path clip-path=\"url(#pc2535de6a0)\" d=\"M 267.277894 239.758125 \r\nL 267.463663 239.758125 \r\nL 267.463663 32.672411 \r\nL 267.277894 32.672411 \r\nz\r\n\" style=\"fill:#1f77b4;\"/>\r\n   </g>\r\n   <g id=\"patch_217\">\r\n    <path clip-path=\"url(#pc2535de6a0)\" d=\"M 267.315048 239.758125 \r\nL 267.500817 239.758125 \r\nL 267.500817 32.672411 \r\nL 267.315048 32.672411 \r\nz\r\n\" style=\"fill:#1f77b4;\"/>\r\n   </g>\r\n   <g id=\"patch_218\">\r\n    <path clip-path=\"url(#pc2535de6a0)\" d=\"M 267.426509 239.758125 \r\nL 267.612278 239.758125 \r\nL 267.612278 32.672411 \r\nL 267.426509 32.672411 \r\nz\r\n\" style=\"fill:#1f77b4;\"/>\r\n   </g>\r\n   <g id=\"patch_219\">\r\n    <path clip-path=\"url(#pc2535de6a0)\" d=\"M 268.336776 239.758125 \r\nL 268.522545 239.758125 \r\nL 268.522545 32.672411 \r\nL 268.336776 32.672411 \r\nz\r\n\" style=\"fill:#1f77b4;\"/>\r\n   </g>\r\n   <g id=\"patch_220\">\r\n    <path clip-path=\"url(#pc2535de6a0)\" d=\"M 268.856929 239.758125 \r\nL 269.042698 239.758125 \r\nL 269.042698 32.672411 \r\nL 268.856929 32.672411 \r\nz\r\n\" style=\"fill:#1f77b4;\"/>\r\n   </g>\r\n   <g id=\"patch_221\">\r\n    <path clip-path=\"url(#pc2535de6a0)\" d=\"M 269.339928 239.758125 \r\nL 269.525697 239.758125 \r\nL 269.525697 32.672411 \r\nL 269.339928 32.672411 \r\nz\r\n\" style=\"fill:#1f77b4;\"/>\r\n   </g>\r\n   <g id=\"patch_222\">\r\n    <path clip-path=\"url(#pc2535de6a0)\" d=\"M 269.525697 239.758125 \r\nL 269.711466 239.758125 \r\nL 269.711466 32.672411 \r\nL 269.525697 32.672411 \r\nz\r\n\" style=\"fill:#1f77b4;\"/>\r\n   </g>\r\n   <g id=\"patch_223\">\r\n    <path clip-path=\"url(#pc2535de6a0)\" d=\"M 273.965572 239.758125 \r\nL 274.151341 239.758125 \r\nL 274.151341 32.672411 \r\nL 273.965572 32.672411 \r\nz\r\n\" style=\"fill:#1f77b4;\"/>\r\n   </g>\r\n   <g id=\"patch_224\">\r\n    <path clip-path=\"url(#pc2535de6a0)\" d=\"M 274.522878 239.758125 \r\nL 274.708647 239.758125 \r\nL 274.708647 32.672411 \r\nL 274.522878 32.672411 \r\nz\r\n\" style=\"fill:#1f77b4;\"/>\r\n   </g>\r\n   <g id=\"patch_225\">\r\n    <path clip-path=\"url(#pc2535de6a0)\" d=\"M 274.782955 239.758125 \r\nL 274.968723 239.758125 \r\nL 274.968723 32.672411 \r\nL 274.782955 32.672411 \r\nz\r\n\" style=\"fill:#1f77b4;\"/>\r\n   </g>\r\n   <g id=\"patch_226\">\r\n    <path clip-path=\"url(#pc2535de6a0)\" d=\"M 276.547758 239.758125 \r\nL 276.733527 239.758125 \r\nL 276.733527 32.672411 \r\nL 276.547758 32.672411 \r\nz\r\n\" style=\"fill:#1f77b4;\"/>\r\n   </g>\r\n   <g id=\"patch_227\">\r\n    <path clip-path=\"url(#pc2535de6a0)\" d=\"M 277.290834 239.758125 \r\nL 277.476602 239.758125 \r\nL 277.476602 32.672411 \r\nL 277.290834 32.672411 \r\nz\r\n\" style=\"fill:#1f77b4;\"/>\r\n   </g>\r\n   <g id=\"patch_228\">\r\n    <path clip-path=\"url(#pc2535de6a0)\" d=\"M 278.08964 239.758125 \r\nL 278.275408 239.758125 \r\nL 278.275408 32.672411 \r\nL 278.08964 32.672411 \r\nz\r\n\" style=\"fill:#1f77b4;\"/>\r\n   </g>\r\n   <g id=\"patch_229\">\r\n    <path clip-path=\"url(#pc2535de6a0)\" d=\"M 278.832715 239.758125 \r\nL 279.018484 239.758125 \r\nL 279.018484 32.672411 \r\nL 278.832715 32.672411 \r\nz\r\n\" style=\"fill:#1f77b4;\"/>\r\n   </g>\r\n   <g id=\"patch_230\">\r\n    <path clip-path=\"url(#pc2535de6a0)\" d=\"M 279.910174 239.758125 \r\nL 280.095943 239.758125 \r\nL 280.095943 32.672411 \r\nL 279.910174 32.672411 \r\nz\r\n\" style=\"fill:#1f77b4;\"/>\r\n   </g>\r\n   <g id=\"patch_231\">\r\n    <path clip-path=\"url(#pc2535de6a0)\" d=\"M 280.244558 239.758125 \r\nL 280.430327 239.758125 \r\nL 280.430327 32.672411 \r\nL 280.244558 32.672411 \r\nz\r\n\" style=\"fill:#1f77b4;\"/>\r\n   </g>\r\n   <g id=\"patch_232\">\r\n    <path clip-path=\"url(#pc2535de6a0)\" d=\"M 281.24771 239.758125 \r\nL 281.433478 239.758125 \r\nL 281.433478 32.672411 \r\nL 281.24771 32.672411 \r\nz\r\n\" style=\"fill:#1f77b4;\"/>\r\n   </g>\r\n   <g id=\"patch_233\">\r\n    <path clip-path=\"url(#pc2535de6a0)\" d=\"M 281.916477 239.758125 \r\nL 282.102246 239.758125 \r\nL 282.102246 32.672411 \r\nL 281.916477 32.672411 \r\nz\r\n\" style=\"fill:#1f77b4;\"/>\r\n   </g>\r\n   <g id=\"patch_234\">\r\n    <path clip-path=\"url(#pc2535de6a0)\" d=\"M 282.046515 239.758125 \r\nL 282.232284 239.758125 \r\nL 282.232284 32.672411 \r\nL 282.046515 32.672411 \r\nz\r\n\" style=\"fill:#1f77b4;\"/>\r\n   </g>\r\n   <g id=\"patch_235\">\r\n    <path clip-path=\"url(#pc2535de6a0)\" d=\"M 282.176554 239.758125 \r\nL 282.362322 239.758125 \r\nL 282.362322 32.672411 \r\nL 282.176554 32.672411 \r\nz\r\n\" style=\"fill:#1f77b4;\"/>\r\n   </g>\r\n   <g id=\"patch_236\">\r\n    <path clip-path=\"url(#pc2535de6a0)\" d=\"M 284.517241 239.758125 \r\nL 284.70301 239.758125 \r\nL 284.70301 32.672411 \r\nL 284.517241 32.672411 \r\nz\r\n\" style=\"fill:#1f77b4;\"/>\r\n   </g>\r\n   <g id=\"patch_237\">\r\n    <path clip-path=\"url(#pc2535de6a0)\" d=\"M 286.393506 239.758125 \r\nL 286.579275 239.758125 \r\nL 286.579275 32.672411 \r\nL 286.393506 32.672411 \r\nz\r\n\" style=\"fill:#1f77b4;\"/>\r\n   </g>\r\n   <g id=\"patch_238\">\r\n    <path clip-path=\"url(#pc2535de6a0)\" d=\"M 288.659885 239.758125 \r\nL 288.845654 239.758125 \r\nL 288.845654 32.672411 \r\nL 288.659885 32.672411 \r\nz\r\n\" style=\"fill:#1f77b4;\"/>\r\n   </g>\r\n   <g id=\"patch_239\">\r\n    <path clip-path=\"url(#pc2535de6a0)\" d=\"M 292.356685 239.758125 \r\nL 292.542454 239.758125 \r\nL 292.542454 32.672411 \r\nL 292.356685 32.672411 \r\nz\r\n\" style=\"fill:#1f77b4;\"/>\r\n   </g>\r\n   <g id=\"patch_240\">\r\n    <path clip-path=\"url(#pc2535de6a0)\" d=\"M 295.849139 239.758125 \r\nL 296.034908 239.758125 \r\nL 296.034908 32.672411 \r\nL 295.849139 32.672411 \r\nz\r\n\" style=\"fill:#1f77b4;\"/>\r\n   </g>\r\n   <g id=\"patch_241\">\r\n    <path clip-path=\"url(#pc2535de6a0)\" d=\"M 295.979177 239.758125 \r\nL 296.164946 239.758125 \r\nL 296.164946 32.672411 \r\nL 295.979177 32.672411 \r\nz\r\n\" style=\"fill:#1f77b4;\"/>\r\n   </g>\r\n   <g id=\"patch_242\">\r\n    <path clip-path=\"url(#pc2535de6a0)\" d=\"M 296.034908 239.758125 \r\nL 296.220676 239.758125 \r\nL 296.220676 32.672411 \r\nL 296.034908 32.672411 \r\nz\r\n\" style=\"fill:#1f77b4;\"/>\r\n   </g>\r\n   <g id=\"patch_243\">\r\n    <path clip-path=\"url(#pc2535de6a0)\" d=\"M 297.112367 239.758125 \r\nL 297.298136 239.758125 \r\nL 297.298136 32.672411 \r\nL 297.112367 32.672411 \r\nz\r\n\" style=\"fill:#1f77b4;\"/>\r\n   </g>\r\n   <g id=\"patch_244\">\r\n    <path clip-path=\"url(#pc2535de6a0)\" d=\"M 299.6574 239.758125 \r\nL 299.843169 239.758125 \r\nL 299.843169 32.672411 \r\nL 299.6574 32.672411 \r\nz\r\n\" style=\"fill:#1f77b4;\"/>\r\n   </g>\r\n   <g id=\"patch_245\">\r\n    <path clip-path=\"url(#pc2535de6a0)\" d=\"M 301.366473 239.758125 \r\nL 301.552242 239.758125 \r\nL 301.552242 32.672411 \r\nL 301.366473 32.672411 \r\nz\r\n\" style=\"fill:#1f77b4;\"/>\r\n   </g>\r\n   <g id=\"patch_246\">\r\n    <path clip-path=\"url(#pc2535de6a0)\" d=\"M 302.926931 239.758125 \r\nL 303.1127 239.758125 \r\nL 303.1127 32.672411 \r\nL 302.926931 32.672411 \r\nz\r\n\" style=\"fill:#1f77b4;\"/>\r\n   </g>\r\n   <g id=\"patch_247\">\r\n    <path clip-path=\"url(#pc2535de6a0)\" d=\"M 303.094123 239.758125 \r\nL 303.279892 239.758125 \r\nL 303.279892 32.672411 \r\nL 303.094123 32.672411 \r\nz\r\n\" style=\"fill:#1f77b4;\"/>\r\n   </g>\r\n   <g id=\"patch_248\">\r\n    <path clip-path=\"url(#pc2535de6a0)\" d=\"M 303.1127 239.758125 \r\nL 303.298469 239.758125 \r\nL 303.298469 32.672411 \r\nL 303.1127 32.672411 \r\nz\r\n\" style=\"fill:#1f77b4;\"/>\r\n   </g>\r\n   <g id=\"patch_249\">\r\n    <path clip-path=\"url(#pc2535de6a0)\" d=\"M 303.688583 239.758125 \r\nL 303.874352 239.758125 \r\nL 303.874352 32.672411 \r\nL 303.688583 32.672411 \r\nz\r\n\" style=\"fill:#1f77b4;\"/>\r\n   </g>\r\n   <g id=\"patch_250\">\r\n    <path clip-path=\"url(#pc2535de6a0)\" d=\"M 303.892929 239.758125 \r\nL 304.078698 239.758125 \r\nL 304.078698 32.672411 \r\nL 303.892929 32.672411 \r\nz\r\n\" style=\"fill:#1f77b4;\"/>\r\n   </g>\r\n   <g id=\"patch_251\">\r\n    <path clip-path=\"url(#pc2535de6a0)\" d=\"M 305.044695 239.758125 \r\nL 305.230464 239.758125 \r\nL 305.230464 32.672411 \r\nL 305.044695 32.672411 \r\nz\r\n\" style=\"fill:#1f77b4;\"/>\r\n   </g>\r\n   <g id=\"patch_252\">\r\n    <path clip-path=\"url(#pc2535de6a0)\" d=\"M 307.143883 239.758125 \r\nL 307.329652 239.758125 \r\nL 307.329652 32.672411 \r\nL 307.143883 32.672411 \r\nz\r\n\" style=\"fill:#1f77b4;\"/>\r\n   </g>\r\n   <g id=\"patch_253\">\r\n    <path clip-path=\"url(#pc2535de6a0)\" d=\"M 307.571151 239.758125 \r\nL 307.75692 239.758125 \r\nL 307.75692 32.672411 \r\nL 307.571151 32.672411 \r\nz\r\n\" style=\"fill:#1f77b4;\"/>\r\n   </g>\r\n   <g id=\"patch_254\">\r\n    <path clip-path=\"url(#pc2535de6a0)\" d=\"M 307.849805 239.758125 \r\nL 308.035574 239.758125 \r\nL 308.035574 32.672411 \r\nL 307.849805 32.672411 \r\nz\r\n\" style=\"fill:#1f77b4;\"/>\r\n   </g>\r\n   <g id=\"patch_255\">\r\n    <path clip-path=\"url(#pc2535de6a0)\" d=\"M 307.868382 239.758125 \r\nL 308.05415 239.758125 \r\nL 308.05415 32.672411 \r\nL 307.868382 32.672411 \r\nz\r\n\" style=\"fill:#1f77b4;\"/>\r\n   </g>\r\n   <g id=\"patch_256\">\r\n    <path clip-path=\"url(#pc2535de6a0)\" d=\"M 309.075879 239.758125 \r\nL 309.261648 239.758125 \r\nL 309.261648 32.672411 \r\nL 309.075879 32.672411 \r\nz\r\n\" style=\"fill:#1f77b4;\"/>\r\n   </g>\r\n   <g id=\"patch_257\">\r\n    <path clip-path=\"url(#pc2535de6a0)\" d=\"M 310.85926 239.758125 \r\nL 311.045028 239.758125 \r\nL 311.045028 32.672411 \r\nL 310.85926 32.672411 \r\nz\r\n\" style=\"fill:#1f77b4;\"/>\r\n   </g>\r\n   <g id=\"patch_258\">\r\n    <path clip-path=\"url(#pc2535de6a0)\" d=\"M 311.769527 239.758125 \r\nL 311.955296 239.758125 \r\nL 311.955296 32.672411 \r\nL 311.769527 32.672411 \r\nz\r\n\" style=\"fill:#1f77b4;\"/>\r\n   </g>\r\n   <g id=\"patch_259\">\r\n    <path clip-path=\"url(#pc2535de6a0)\" d=\"M 312.902717 239.758125 \r\nL 313.088485 239.758125 \r\nL 313.088485 32.672411 \r\nL 312.902717 32.672411 \r\nz\r\n\" style=\"fill:#1f77b4;\"/>\r\n   </g>\r\n   <g id=\"patch_260\">\r\n    <path clip-path=\"url(#pc2535de6a0)\" d=\"M 314.630367 239.758125 \r\nL 314.816135 239.758125 \r\nL 314.816135 32.672411 \r\nL 314.630367 32.672411 \r\nz\r\n\" style=\"fill:#1f77b4;\"/>\r\n   </g>\r\n   <g id=\"patch_261\">\r\n    <path clip-path=\"url(#pc2535de6a0)\" d=\"M 315.001904 239.758125 \r\nL 315.187673 239.758125 \r\nL 315.187673 32.672411 \r\nL 315.001904 32.672411 \r\nz\r\n\" style=\"fill:#1f77b4;\"/>\r\n   </g>\r\n   <g id=\"patch_262\">\r\n    <path clip-path=\"url(#pc2535de6a0)\" d=\"M 315.039058 239.758125 \r\nL 315.224827 239.758125 \r\nL 315.224827 32.672411 \r\nL 315.039058 32.672411 \r\nz\r\n\" style=\"fill:#1f77b4;\"/>\r\n   </g>\r\n   <g id=\"patch_263\">\r\n    <path clip-path=\"url(#pc2535de6a0)\" d=\"M 317.844167 239.758125 \r\nL 318.029936 239.758125 \r\nL 318.029936 32.672411 \r\nL 317.844167 32.672411 \r\nz\r\n\" style=\"fill:#1f77b4;\"/>\r\n   </g>\r\n   <g id=\"patch_264\">\r\n    <path clip-path=\"url(#pc2535de6a0)\" d=\"M 317.955629 239.758125 \r\nL 318.141397 239.758125 \r\nL 318.141397 32.672411 \r\nL 317.955629 32.672411 \r\nz\r\n\" style=\"fill:#1f77b4;\"/>\r\n   </g>\r\n   <g id=\"patch_265\">\r\n    <path clip-path=\"url(#pc2535de6a0)\" d=\"M 318.345743 239.758125 \r\nL 318.531512 239.758125 \r\nL 318.531512 32.672411 \r\nL 318.345743 32.672411 \r\nz\r\n\" style=\"fill:#1f77b4;\"/>\r\n   </g>\r\n   <g id=\"patch_266\">\r\n    <path clip-path=\"url(#pc2535de6a0)\" d=\"M 319.25601 239.758125 \r\nL 319.441779 239.758125 \r\nL 319.441779 32.672411 \r\nL 319.25601 32.672411 \r\nz\r\n\" style=\"fill:#1f77b4;\"/>\r\n   </g>\r\n   <g id=\"patch_267\">\r\n    <path clip-path=\"url(#pc2535de6a0)\" d=\"M 319.571817 239.758125 \r\nL 319.757586 239.758125 \r\nL 319.757586 32.672411 \r\nL 319.571817 32.672411 \r\nz\r\n\" style=\"fill:#1f77b4;\"/>\r\n   </g>\r\n   <g id=\"patch_268\">\r\n    <path clip-path=\"url(#pc2535de6a0)\" d=\"M 320.593546 239.758125 \r\nL 320.779315 239.758125 \r\nL 320.779315 32.672411 \r\nL 320.593546 32.672411 \r\nz\r\n\" style=\"fill:#1f77b4;\"/>\r\n   </g>\r\n   <g id=\"patch_269\">\r\n    <path clip-path=\"url(#pc2535de6a0)\" d=\"M 320.612123 239.758125 \r\nL 320.797892 239.758125 \r\nL 320.797892 32.672411 \r\nL 320.612123 32.672411 \r\nz\r\n\" style=\"fill:#1f77b4;\"/>\r\n   </g>\r\n   <g id=\"patch_270\">\r\n    <path clip-path=\"url(#pc2535de6a0)\" d=\"M 320.6307 239.758125 \r\nL 320.816468 239.758125 \r\nL 320.816468 32.672411 \r\nL 320.6307 32.672411 \r\nz\r\n\" style=\"fill:#1f77b4;\"/>\r\n   </g>\r\n   <g id=\"patch_271\">\r\n    <path clip-path=\"url(#pc2535de6a0)\" d=\"M 321.689582 239.758125 \r\nL 321.875351 239.758125 \r\nL 321.875351 32.672411 \r\nL 321.689582 32.672411 \r\nz\r\n\" style=\"fill:#1f77b4;\"/>\r\n   </g>\r\n   <g id=\"patch_272\">\r\n    <path clip-path=\"url(#pc2535de6a0)\" d=\"M 324.308922 239.758125 \r\nL 324.494691 239.758125 \r\nL 324.494691 32.672411 \r\nL 324.308922 32.672411 \r\nz\r\n\" style=\"fill:#1f77b4;\"/>\r\n   </g>\r\n   <g id=\"patch_273\">\r\n    <path clip-path=\"url(#pc2535de6a0)\" d=\"M 324.513268 239.758125 \r\nL 324.699037 239.758125 \r\nL 324.699037 32.672411 \r\nL 324.513268 32.672411 \r\nz\r\n\" style=\"fill:#1f77b4;\"/>\r\n   </g>\r\n   <g id=\"patch_274\">\r\n    <path clip-path=\"url(#pc2535de6a0)\" d=\"M 325.497843 239.758125 \r\nL 325.683612 239.758125 \r\nL 325.683612 32.672411 \r\nL 325.497843 32.672411 \r\nz\r\n\" style=\"fill:#1f77b4;\"/>\r\n   </g>\r\n   <g id=\"patch_275\">\r\n    <path clip-path=\"url(#pc2535de6a0)\" d=\"M 326.519571 239.758125 \r\nL 326.70534 239.758125 \r\nL 326.70534 32.672411 \r\nL 326.519571 32.672411 \r\nz\r\n\" style=\"fill:#1f77b4;\"/>\r\n   </g>\r\n   <g id=\"patch_276\">\r\n    <path clip-path=\"url(#pc2535de6a0)\" d=\"M 326.686763 239.758125 \r\nL 326.872532 239.758125 \r\nL 326.872532 32.672411 \r\nL 326.686763 32.672411 \r\nz\r\n\" style=\"fill:#1f77b4;\"/>\r\n   </g>\r\n   <g id=\"patch_277\">\r\n    <path clip-path=\"url(#pc2535de6a0)\" d=\"M 327.206916 239.758125 \r\nL 327.392685 239.758125 \r\nL 327.392685 32.672411 \r\nL 327.206916 32.672411 \r\nz\r\n\" style=\"fill:#1f77b4;\"/>\r\n   </g>\r\n   <g id=\"patch_278\">\r\n    <path clip-path=\"url(#pc2535de6a0)\" d=\"M 329.491872 239.758125 \r\nL 329.677641 239.758125 \r\nL 329.677641 32.672411 \r\nL 329.491872 32.672411 \r\nz\r\n\" style=\"fill:#1f77b4;\"/>\r\n   </g>\r\n   <g id=\"patch_279\">\r\n    <path clip-path=\"url(#pc2535de6a0)\" d=\"M 331.405291 239.758125 \r\nL 331.59106 239.758125 \r\nL 331.59106 32.672411 \r\nL 331.405291 32.672411 \r\nz\r\n\" style=\"fill:#1f77b4;\"/>\r\n   </g>\r\n   <g id=\"patch_280\">\r\n    <path clip-path=\"url(#pc2535de6a0)\" d=\"M 331.906867 239.758125 \r\nL 332.092636 239.758125 \r\nL 332.092636 32.672411 \r\nL 331.906867 32.672411 \r\nz\r\n\" style=\"fill:#1f77b4;\"/>\r\n   </g>\r\n   <g id=\"patch_281\">\r\n    <path clip-path=\"url(#pc2535de6a0)\" d=\"M 332.761404 239.758125 \r\nL 332.947172 239.758125 \r\nL 332.947172 32.672411 \r\nL 332.761404 32.672411 \r\nz\r\n\" style=\"fill:#1f77b4;\"/>\r\n   </g>\r\n   <g id=\"patch_282\">\r\n    <path clip-path=\"url(#pc2535de6a0)\" d=\"M 333.597363 239.758125 \r\nL 333.783132 239.758125 \r\nL 333.783132 32.672411 \r\nL 333.597363 32.672411 \r\nz\r\n\" style=\"fill:#1f77b4;\"/>\r\n   </g>\r\n   <g id=\"patch_283\">\r\n    <path clip-path=\"url(#pc2535de6a0)\" d=\"M 333.968901 239.758125 \r\nL 334.15467 239.758125 \r\nL 334.15467 32.672411 \r\nL 333.968901 32.672411 \r\nz\r\n\" style=\"fill:#1f77b4;\"/>\r\n   </g>\r\n   <g id=\"patch_284\">\r\n    <path clip-path=\"url(#pc2535de6a0)\" d=\"M 334.377592 239.758125 \r\nL 334.563361 239.758125 \r\nL 334.563361 32.672411 \r\nL 334.377592 32.672411 \r\nz\r\n\" style=\"fill:#1f77b4;\"/>\r\n   </g>\r\n   <g id=\"patch_285\">\r\n    <path clip-path=\"url(#pc2535de6a0)\" d=\"M 335.28786 239.758125 \r\nL 335.473628 239.758125 \r\nL 335.473628 32.672411 \r\nL 335.28786 32.672411 \r\nz\r\n\" style=\"fill:#1f77b4;\"/>\r\n   </g>\r\n   <g id=\"patch_286\">\r\n    <path clip-path=\"url(#pc2535de6a0)\" d=\"M 335.715128 239.758125 \r\nL 335.900897 239.758125 \r\nL 335.900897 32.672411 \r\nL 335.715128 32.672411 \r\nz\r\n\" style=\"fill:#1f77b4;\"/>\r\n   </g>\r\n   <g id=\"patch_287\">\r\n    <path clip-path=\"url(#pc2535de6a0)\" d=\"M 336.718279 239.758125 \r\nL 336.904048 239.758125 \r\nL 336.904048 32.672411 \r\nL 336.718279 32.672411 \r\nz\r\n\" style=\"fill:#1f77b4;\"/>\r\n   </g>\r\n   <g id=\"patch_288\">\r\n    <path clip-path=\"url(#pc2535de6a0)\" d=\"M 336.922625 239.758125 \r\nL 337.108394 239.758125 \r\nL 337.108394 32.672411 \r\nL 336.922625 32.672411 \r\nz\r\n\" style=\"fill:#1f77b4;\"/>\r\n   </g>\r\n   <g id=\"patch_289\">\r\n    <path clip-path=\"url(#pc2535de6a0)\" d=\"M 336.959779 239.758125 \r\nL 337.145548 239.758125 \r\nL 337.145548 32.672411 \r\nL 336.959779 32.672411 \r\nz\r\n\" style=\"fill:#1f77b4;\"/>\r\n   </g>\r\n   <g id=\"patch_290\">\r\n    <path clip-path=\"url(#pc2535de6a0)\" d=\"M 337.36847 239.758125 \r\nL 337.554239 239.758125 \r\nL 337.554239 32.672411 \r\nL 337.36847 32.672411 \r\nz\r\n\" style=\"fill:#1f77b4;\"/>\r\n   </g>\r\n   <g id=\"patch_291\">\r\n    <path clip-path=\"url(#pc2535de6a0)\" d=\"M 337.647124 239.758125 \r\nL 337.832892 239.758125 \r\nL 337.832892 32.672411 \r\nL 337.647124 32.672411 \r\nz\r\n\" style=\"fill:#1f77b4;\"/>\r\n   </g>\r\n   <g id=\"patch_292\">\r\n    <path clip-path=\"url(#pc2535de6a0)\" d=\"M 340.285041 239.758125 \r\nL 340.47081 239.758125 \r\nL 340.47081 32.672411 \r\nL 340.285041 32.672411 \r\nz\r\n\" style=\"fill:#1f77b4;\"/>\r\n   </g>\r\n   <g id=\"patch_293\">\r\n    <path clip-path=\"url(#pc2535de6a0)\" d=\"M 340.303618 239.758125 \r\nL 340.489387 239.758125 \r\nL 340.489387 32.672411 \r\nL 340.303618 32.672411 \r\nz\r\n\" style=\"fill:#1f77b4;\"/>\r\n   </g>\r\n   <g id=\"patch_294\">\r\n    <path clip-path=\"url(#pc2535de6a0)\" d=\"M 340.433656 239.758125 \r\nL 340.619425 239.758125 \r\nL 340.619425 32.672411 \r\nL 340.433656 32.672411 \r\nz\r\n\" style=\"fill:#1f77b4;\"/>\r\n   </g>\r\n   <g id=\"patch_295\">\r\n    <path clip-path=\"url(#pc2535de6a0)\" d=\"M 342.774343 239.758125 \r\nL 342.960112 239.758125 \r\nL 342.960112 32.672411 \r\nL 342.774343 32.672411 \r\nz\r\n\" style=\"fill:#1f77b4;\"/>\r\n   </g>\r\n   <g id=\"patch_296\">\r\n    <path clip-path=\"url(#pc2535de6a0)\" d=\"M 342.830074 239.758125 \r\nL 343.015843 239.758125 \r\nL 343.015843 32.672411 \r\nL 342.830074 32.672411 \r\nz\r\n\" style=\"fill:#1f77b4;\"/>\r\n   </g>\r\n   <g id=\"patch_297\">\r\n    <path clip-path=\"url(#pc2535de6a0)\" d=\"M 342.904381 239.758125 \r\nL 343.09015 239.758125 \r\nL 343.09015 32.672411 \r\nL 342.904381 32.672411 \r\nz\r\n\" style=\"fill:#1f77b4;\"/>\r\n   </g>\r\n   <g id=\"patch_298\">\r\n    <path clip-path=\"url(#pc2535de6a0)\" d=\"M 343.09015 239.758125 \r\nL 343.275919 239.758125 \r\nL 343.275919 32.672411 \r\nL 343.09015 32.672411 \r\nz\r\n\" style=\"fill:#1f77b4;\"/>\r\n   </g>\r\n   <g id=\"patch_299\">\r\n    <path clip-path=\"url(#pc2535de6a0)\" d=\"M 343.480265 239.758125 \r\nL 343.666033 239.758125 \r\nL 343.666033 32.672411 \r\nL 343.480265 32.672411 \r\nz\r\n\" style=\"fill:#1f77b4;\"/>\r\n   </g>\r\n   <g id=\"patch_300\">\r\n    <path clip-path=\"url(#pc2535de6a0)\" d=\"M 343.796072 239.758125 \r\nL 343.98184 239.758125 \r\nL 343.98184 32.672411 \r\nL 343.796072 32.672411 \r\nz\r\n\" style=\"fill:#1f77b4;\"/>\r\n   </g>\r\n   <g id=\"patch_301\">\r\n    <path clip-path=\"url(#pc2535de6a0)\" d=\"M 344.929261 239.758125 \r\nL 345.11503 239.758125 \r\nL 345.11503 32.672411 \r\nL 344.929261 32.672411 \r\nz\r\n\" style=\"fill:#1f77b4;\"/>\r\n   </g>\r\n   <g id=\"patch_302\">\r\n    <path clip-path=\"url(#pc2535de6a0)\" d=\"M 345.300799 239.758125 \r\nL 345.486568 239.758125 \r\nL 345.486568 32.672411 \r\nL 345.300799 32.672411 \r\nz\r\n\" style=\"fill:#1f77b4;\"/>\r\n   </g>\r\n   <g id=\"patch_303\">\r\n    <path clip-path=\"url(#pc2535de6a0)\" d=\"M 346.025297 239.758125 \r\nL 346.211066 239.758125 \r\nL 346.211066 32.672411 \r\nL 346.025297 32.672411 \r\nz\r\n\" style=\"fill:#1f77b4;\"/>\r\n   </g>\r\n   <g id=\"patch_304\">\r\n    <path clip-path=\"url(#pc2535de6a0)\" d=\"M 346.043874 239.758125 \r\nL 346.229643 239.758125 \r\nL 346.229643 32.672411 \r\nL 346.043874 32.672411 \r\nz\r\n\" style=\"fill:#1f77b4;\"/>\r\n   </g>\r\n   <g id=\"patch_305\">\r\n    <path clip-path=\"url(#pc2535de6a0)\" d=\"M 347.158487 239.758125 \r\nL 347.344256 239.758125 \r\nL 347.344256 32.672411 \r\nL 347.158487 32.672411 \r\nz\r\n\" style=\"fill:#1f77b4;\"/>\r\n   </g>\r\n   <g id=\"patch_306\">\r\n    <path clip-path=\"url(#pc2535de6a0)\" d=\"M 348.384561 239.758125 \r\nL 348.57033 239.758125 \r\nL 348.57033 32.672411 \r\nL 348.384561 32.672411 \r\nz\r\n\" style=\"fill:#1f77b4;\"/>\r\n   </g>\r\n   <g id=\"patch_307\">\r\n    <path clip-path=\"url(#pc2535de6a0)\" d=\"M 348.403138 239.758125 \r\nL 348.588907 239.758125 \r\nL 348.588907 32.672411 \r\nL 348.403138 32.672411 \r\nz\r\n\" style=\"fill:#1f77b4;\"/>\r\n   </g>\r\n   <g id=\"patch_308\">\r\n    <path clip-path=\"url(#pc2535de6a0)\" d=\"M 349.313406 239.758125 \r\nL 349.499174 239.758125 \r\nL 349.499174 32.672411 \r\nL 349.313406 32.672411 \r\nz\r\n\" style=\"fill:#1f77b4;\"/>\r\n   </g>\r\n   <g id=\"patch_309\">\r\n    <path clip-path=\"url(#pc2535de6a0)\" d=\"M 349.499174 239.758125 \r\nL 349.684943 239.758125 \r\nL 349.684943 32.672411 \r\nL 349.499174 32.672411 \r\nz\r\n\" style=\"fill:#1f77b4;\"/>\r\n   </g>\r\n   <g id=\"matplotlib.axis_1\">\r\n    <g id=\"xtick_1\">\r\n     <g id=\"line2d_1\">\r\n      <defs>\r\n       <path d=\"M 0 0 \r\nL 0 3.5 \r\n\" id=\"mdaabbe41a8\" style=\"stroke:#000000;stroke-width:0.8;\"/>\r\n      </defs>\r\n      <g>\r\n       <use style=\"stroke:#000000;stroke-width:0.8;\" x=\"42.088929\" xlink:href=\"#mdaabbe41a8\" y=\"239.758125\"/>\r\n      </g>\r\n     </g>\r\n     <g id=\"text_1\">\r\n      <!-- 0 -->\r\n      <defs>\r\n       <path d=\"M 31.78125 66.40625 \r\nQ 24.171875 66.40625 20.328125 58.90625 \r\nQ 16.5 51.421875 16.5 36.375 \r\nQ 16.5 21.390625 20.328125 13.890625 \r\nQ 24.171875 6.390625 31.78125 6.390625 \r\nQ 39.453125 6.390625 43.28125 13.890625 \r\nQ 47.125 21.390625 47.125 36.375 \r\nQ 47.125 51.421875 43.28125 58.90625 \r\nQ 39.453125 66.40625 31.78125 66.40625 \r\nz\r\nM 31.78125 74.21875 \r\nQ 44.046875 74.21875 50.515625 64.515625 \r\nQ 56.984375 54.828125 56.984375 36.375 \r\nQ 56.984375 17.96875 50.515625 8.265625 \r\nQ 44.046875 -1.421875 31.78125 -1.421875 \r\nQ 19.53125 -1.421875 13.0625 8.265625 \r\nQ 6.59375 17.96875 6.59375 36.375 \r\nQ 6.59375 54.828125 13.0625 64.515625 \r\nQ 19.53125 74.21875 31.78125 74.21875 \r\nz\r\n\" id=\"DejaVuSans-48\"/>\r\n      </defs>\r\n      <g transform=\"translate(38.907679 254.356563)scale(0.1 -0.1)\">\r\n       <use xlink:href=\"#DejaVuSans-48\"/>\r\n      </g>\r\n     </g>\r\n    </g>\r\n    <g id=\"xtick_2\">\r\n     <g id=\"line2d_2\">\r\n      <g>\r\n       <use style=\"stroke:#000000;stroke-width:0.8;\" x=\"88.531135\" xlink:href=\"#mdaabbe41a8\" y=\"239.758125\"/>\r\n      </g>\r\n     </g>\r\n     <g id=\"text_2\">\r\n      <!-- 2500 -->\r\n      <defs>\r\n       <path d=\"M 19.1875 8.296875 \r\nL 53.609375 8.296875 \r\nL 53.609375 0 \r\nL 7.328125 0 \r\nL 7.328125 8.296875 \r\nQ 12.9375 14.109375 22.625 23.890625 \r\nQ 32.328125 33.6875 34.8125 36.53125 \r\nQ 39.546875 41.84375 41.421875 45.53125 \r\nQ 43.3125 49.21875 43.3125 52.78125 \r\nQ 43.3125 58.59375 39.234375 62.25 \r\nQ 35.15625 65.921875 28.609375 65.921875 \r\nQ 23.96875 65.921875 18.8125 64.3125 \r\nQ 13.671875 62.703125 7.8125 59.421875 \r\nL 7.8125 69.390625 \r\nQ 13.765625 71.78125 18.9375 73 \r\nQ 24.125 74.21875 28.421875 74.21875 \r\nQ 39.75 74.21875 46.484375 68.546875 \r\nQ 53.21875 62.890625 53.21875 53.421875 \r\nQ 53.21875 48.921875 51.53125 44.890625 \r\nQ 49.859375 40.875 45.40625 35.40625 \r\nQ 44.1875 33.984375 37.640625 27.21875 \r\nQ 31.109375 20.453125 19.1875 8.296875 \r\nz\r\n\" id=\"DejaVuSans-50\"/>\r\n       <path d=\"M 10.796875 72.90625 \r\nL 49.515625 72.90625 \r\nL 49.515625 64.59375 \r\nL 19.828125 64.59375 \r\nL 19.828125 46.734375 \r\nQ 21.96875 47.46875 24.109375 47.828125 \r\nQ 26.265625 48.1875 28.421875 48.1875 \r\nQ 40.625 48.1875 47.75 41.5 \r\nQ 54.890625 34.8125 54.890625 23.390625 \r\nQ 54.890625 11.625 47.5625 5.09375 \r\nQ 40.234375 -1.421875 26.90625 -1.421875 \r\nQ 22.3125 -1.421875 17.546875 -0.640625 \r\nQ 12.796875 0.140625 7.71875 1.703125 \r\nL 7.71875 11.625 \r\nQ 12.109375 9.234375 16.796875 8.0625 \r\nQ 21.484375 6.890625 26.703125 6.890625 \r\nQ 35.15625 6.890625 40.078125 11.328125 \r\nQ 45.015625 15.765625 45.015625 23.390625 \r\nQ 45.015625 31 40.078125 35.4375 \r\nQ 35.15625 39.890625 26.703125 39.890625 \r\nQ 22.75 39.890625 18.8125 39.015625 \r\nQ 14.890625 38.140625 10.796875 36.28125 \r\nz\r\n\" id=\"DejaVuSans-53\"/>\r\n      </defs>\r\n      <g transform=\"translate(75.806135 254.356563)scale(0.1 -0.1)\">\r\n       <use xlink:href=\"#DejaVuSans-50\"/>\r\n       <use x=\"63.623047\" xlink:href=\"#DejaVuSans-53\"/>\r\n       <use x=\"127.246094\" xlink:href=\"#DejaVuSans-48\"/>\r\n       <use x=\"190.869141\" xlink:href=\"#DejaVuSans-48\"/>\r\n      </g>\r\n     </g>\r\n    </g>\r\n    <g id=\"xtick_3\">\r\n     <g id=\"line2d_3\">\r\n      <g>\r\n       <use style=\"stroke:#000000;stroke-width:0.8;\" x=\"134.97334\" xlink:href=\"#mdaabbe41a8\" y=\"239.758125\"/>\r\n      </g>\r\n     </g>\r\n     <g id=\"text_3\">\r\n      <!-- 5000 -->\r\n      <g transform=\"translate(122.24834 254.356563)scale(0.1 -0.1)\">\r\n       <use xlink:href=\"#DejaVuSans-53\"/>\r\n       <use x=\"63.623047\" xlink:href=\"#DejaVuSans-48\"/>\r\n       <use x=\"127.246094\" xlink:href=\"#DejaVuSans-48\"/>\r\n       <use x=\"190.869141\" xlink:href=\"#DejaVuSans-48\"/>\r\n      </g>\r\n     </g>\r\n    </g>\r\n    <g id=\"xtick_4\">\r\n     <g id=\"line2d_4\">\r\n      <g>\r\n       <use style=\"stroke:#000000;stroke-width:0.8;\" x=\"181.415545\" xlink:href=\"#mdaabbe41a8\" y=\"239.758125\"/>\r\n      </g>\r\n     </g>\r\n     <g id=\"text_4\">\r\n      <!-- 7500 -->\r\n      <defs>\r\n       <path d=\"M 8.203125 72.90625 \r\nL 55.078125 72.90625 \r\nL 55.078125 68.703125 \r\nL 28.609375 0 \r\nL 18.3125 0 \r\nL 43.21875 64.59375 \r\nL 8.203125 64.59375 \r\nz\r\n\" id=\"DejaVuSans-55\"/>\r\n      </defs>\r\n      <g transform=\"translate(168.690545 254.356563)scale(0.1 -0.1)\">\r\n       <use xlink:href=\"#DejaVuSans-55\"/>\r\n       <use x=\"63.623047\" xlink:href=\"#DejaVuSans-53\"/>\r\n       <use x=\"127.246094\" xlink:href=\"#DejaVuSans-48\"/>\r\n       <use x=\"190.869141\" xlink:href=\"#DejaVuSans-48\"/>\r\n      </g>\r\n     </g>\r\n    </g>\r\n    <g id=\"xtick_5\">\r\n     <g id=\"line2d_5\">\r\n      <g>\r\n       <use style=\"stroke:#000000;stroke-width:0.8;\" x=\"227.85775\" xlink:href=\"#mdaabbe41a8\" y=\"239.758125\"/>\r\n      </g>\r\n     </g>\r\n     <g id=\"text_5\">\r\n      <!-- 10000 -->\r\n      <defs>\r\n       <path d=\"M 12.40625 8.296875 \r\nL 28.515625 8.296875 \r\nL 28.515625 63.921875 \r\nL 10.984375 60.40625 \r\nL 10.984375 69.390625 \r\nL 28.421875 72.90625 \r\nL 38.28125 72.90625 \r\nL 38.28125 8.296875 \r\nL 54.390625 8.296875 \r\nL 54.390625 0 \r\nL 12.40625 0 \r\nz\r\n\" id=\"DejaVuSans-49\"/>\r\n      </defs>\r\n      <g transform=\"translate(211.9515 254.356563)scale(0.1 -0.1)\">\r\n       <use xlink:href=\"#DejaVuSans-49\"/>\r\n       <use x=\"63.623047\" xlink:href=\"#DejaVuSans-48\"/>\r\n       <use x=\"127.246094\" xlink:href=\"#DejaVuSans-48\"/>\r\n       <use x=\"190.869141\" xlink:href=\"#DejaVuSans-48\"/>\r\n       <use x=\"254.492188\" xlink:href=\"#DejaVuSans-48\"/>\r\n      </g>\r\n     </g>\r\n    </g>\r\n    <g id=\"xtick_6\">\r\n     <g id=\"line2d_6\">\r\n      <g>\r\n       <use style=\"stroke:#000000;stroke-width:0.8;\" x=\"274.299956\" xlink:href=\"#mdaabbe41a8\" y=\"239.758125\"/>\r\n      </g>\r\n     </g>\r\n     <g id=\"text_6\">\r\n      <!-- 12500 -->\r\n      <g transform=\"translate(258.393706 254.356563)scale(0.1 -0.1)\">\r\n       <use xlink:href=\"#DejaVuSans-49\"/>\r\n       <use x=\"63.623047\" xlink:href=\"#DejaVuSans-50\"/>\r\n       <use x=\"127.246094\" xlink:href=\"#DejaVuSans-53\"/>\r\n       <use x=\"190.869141\" xlink:href=\"#DejaVuSans-48\"/>\r\n       <use x=\"254.492188\" xlink:href=\"#DejaVuSans-48\"/>\r\n      </g>\r\n     </g>\r\n    </g>\r\n    <g id=\"xtick_7\">\r\n     <g id=\"line2d_7\">\r\n      <g>\r\n       <use style=\"stroke:#000000;stroke-width:0.8;\" x=\"320.742161\" xlink:href=\"#mdaabbe41a8\" y=\"239.758125\"/>\r\n      </g>\r\n     </g>\r\n     <g id=\"text_7\">\r\n      <!-- 15000 -->\r\n      <g transform=\"translate(304.835911 254.356563)scale(0.1 -0.1)\">\r\n       <use xlink:href=\"#DejaVuSans-49\"/>\r\n       <use x=\"63.623047\" xlink:href=\"#DejaVuSans-53\"/>\r\n       <use x=\"127.246094\" xlink:href=\"#DejaVuSans-48\"/>\r\n       <use x=\"190.869141\" xlink:href=\"#DejaVuSans-48\"/>\r\n       <use x=\"254.492188\" xlink:href=\"#DejaVuSans-48\"/>\r\n      </g>\r\n     </g>\r\n    </g>\r\n   </g>\r\n   <g id=\"matplotlib.axis_2\">\r\n    <g id=\"ytick_1\">\r\n     <g id=\"line2d_8\">\r\n      <defs>\r\n       <path d=\"M 0 0 \r\nL -3.5 0 \r\n\" id=\"me1327b1400\" style=\"stroke:#000000;stroke-width:0.8;\"/>\r\n      </defs>\r\n      <g>\r\n       <use style=\"stroke:#000000;stroke-width:0.8;\" x=\"30.103125\" xlink:href=\"#me1327b1400\" y=\"239.758125\"/>\r\n      </g>\r\n     </g>\r\n     <g id=\"text_8\">\r\n      <!-- 0.0 -->\r\n      <defs>\r\n       <path d=\"M 10.6875 12.40625 \r\nL 21 12.40625 \r\nL 21 0 \r\nL 10.6875 0 \r\nz\r\n\" id=\"DejaVuSans-46\"/>\r\n      </defs>\r\n      <g transform=\"translate(7.2 243.557344)scale(0.1 -0.1)\">\r\n       <use xlink:href=\"#DejaVuSans-48\"/>\r\n       <use x=\"63.623047\" xlink:href=\"#DejaVuSans-46\"/>\r\n       <use x=\"95.410156\" xlink:href=\"#DejaVuSans-48\"/>\r\n      </g>\r\n     </g>\r\n    </g>\r\n    <g id=\"ytick_2\">\r\n     <g id=\"line2d_9\">\r\n      <g>\r\n       <use style=\"stroke:#000000;stroke-width:0.8;\" x=\"30.103125\" xlink:href=\"#me1327b1400\" y=\"198.340982\"/>\r\n      </g>\r\n     </g>\r\n     <g id=\"text_9\">\r\n      <!-- 0.2 -->\r\n      <g transform=\"translate(7.2 202.140201)scale(0.1 -0.1)\">\r\n       <use xlink:href=\"#DejaVuSans-48\"/>\r\n       <use x=\"63.623047\" xlink:href=\"#DejaVuSans-46\"/>\r\n       <use x=\"95.410156\" xlink:href=\"#DejaVuSans-50\"/>\r\n      </g>\r\n     </g>\r\n    </g>\r\n    <g id=\"ytick_3\">\r\n     <g id=\"line2d_10\">\r\n      <g>\r\n       <use style=\"stroke:#000000;stroke-width:0.8;\" x=\"30.103125\" xlink:href=\"#me1327b1400\" y=\"156.923839\"/>\r\n      </g>\r\n     </g>\r\n     <g id=\"text_10\">\r\n      <!-- 0.4 -->\r\n      <defs>\r\n       <path d=\"M 37.796875 64.3125 \r\nL 12.890625 25.390625 \r\nL 37.796875 25.390625 \r\nz\r\nM 35.203125 72.90625 \r\nL 47.609375 72.90625 \r\nL 47.609375 25.390625 \r\nL 58.015625 25.390625 \r\nL 58.015625 17.1875 \r\nL 47.609375 17.1875 \r\nL 47.609375 0 \r\nL 37.796875 0 \r\nL 37.796875 17.1875 \r\nL 4.890625 17.1875 \r\nL 4.890625 26.703125 \r\nz\r\n\" id=\"DejaVuSans-52\"/>\r\n      </defs>\r\n      <g transform=\"translate(7.2 160.723058)scale(0.1 -0.1)\">\r\n       <use xlink:href=\"#DejaVuSans-48\"/>\r\n       <use x=\"63.623047\" xlink:href=\"#DejaVuSans-46\"/>\r\n       <use x=\"95.410156\" xlink:href=\"#DejaVuSans-52\"/>\r\n      </g>\r\n     </g>\r\n    </g>\r\n    <g id=\"ytick_4\">\r\n     <g id=\"line2d_11\">\r\n      <g>\r\n       <use style=\"stroke:#000000;stroke-width:0.8;\" x=\"30.103125\" xlink:href=\"#me1327b1400\" y=\"115.506696\"/>\r\n      </g>\r\n     </g>\r\n     <g id=\"text_11\">\r\n      <!-- 0.6 -->\r\n      <defs>\r\n       <path d=\"M 33.015625 40.375 \r\nQ 26.375 40.375 22.484375 35.828125 \r\nQ 18.609375 31.296875 18.609375 23.390625 \r\nQ 18.609375 15.53125 22.484375 10.953125 \r\nQ 26.375 6.390625 33.015625 6.390625 \r\nQ 39.65625 6.390625 43.53125 10.953125 \r\nQ 47.40625 15.53125 47.40625 23.390625 \r\nQ 47.40625 31.296875 43.53125 35.828125 \r\nQ 39.65625 40.375 33.015625 40.375 \r\nz\r\nM 52.59375 71.296875 \r\nL 52.59375 62.3125 \r\nQ 48.875 64.0625 45.09375 64.984375 \r\nQ 41.3125 65.921875 37.59375 65.921875 \r\nQ 27.828125 65.921875 22.671875 59.328125 \r\nQ 17.53125 52.734375 16.796875 39.40625 \r\nQ 19.671875 43.65625 24.015625 45.921875 \r\nQ 28.375 48.1875 33.59375 48.1875 \r\nQ 44.578125 48.1875 50.953125 41.515625 \r\nQ 57.328125 34.859375 57.328125 23.390625 \r\nQ 57.328125 12.15625 50.6875 5.359375 \r\nQ 44.046875 -1.421875 33.015625 -1.421875 \r\nQ 20.359375 -1.421875 13.671875 8.265625 \r\nQ 6.984375 17.96875 6.984375 36.375 \r\nQ 6.984375 53.65625 15.1875 63.9375 \r\nQ 23.390625 74.21875 37.203125 74.21875 \r\nQ 40.921875 74.21875 44.703125 73.484375 \r\nQ 48.484375 72.75 52.59375 71.296875 \r\nz\r\n\" id=\"DejaVuSans-54\"/>\r\n      </defs>\r\n      <g transform=\"translate(7.2 119.305915)scale(0.1 -0.1)\">\r\n       <use xlink:href=\"#DejaVuSans-48\"/>\r\n       <use x=\"63.623047\" xlink:href=\"#DejaVuSans-46\"/>\r\n       <use x=\"95.410156\" xlink:href=\"#DejaVuSans-54\"/>\r\n      </g>\r\n     </g>\r\n    </g>\r\n    <g id=\"ytick_5\">\r\n     <g id=\"line2d_12\">\r\n      <g>\r\n       <use style=\"stroke:#000000;stroke-width:0.8;\" x=\"30.103125\" xlink:href=\"#me1327b1400\" y=\"74.089554\"/>\r\n      </g>\r\n     </g>\r\n     <g id=\"text_12\">\r\n      <!-- 0.8 -->\r\n      <defs>\r\n       <path d=\"M 31.78125 34.625 \r\nQ 24.75 34.625 20.71875 30.859375 \r\nQ 16.703125 27.09375 16.703125 20.515625 \r\nQ 16.703125 13.921875 20.71875 10.15625 \r\nQ 24.75 6.390625 31.78125 6.390625 \r\nQ 38.8125 6.390625 42.859375 10.171875 \r\nQ 46.921875 13.96875 46.921875 20.515625 \r\nQ 46.921875 27.09375 42.890625 30.859375 \r\nQ 38.875 34.625 31.78125 34.625 \r\nz\r\nM 21.921875 38.8125 \r\nQ 15.578125 40.375 12.03125 44.71875 \r\nQ 8.5 49.078125 8.5 55.328125 \r\nQ 8.5 64.0625 14.71875 69.140625 \r\nQ 20.953125 74.21875 31.78125 74.21875 \r\nQ 42.671875 74.21875 48.875 69.140625 \r\nQ 55.078125 64.0625 55.078125 55.328125 \r\nQ 55.078125 49.078125 51.53125 44.71875 \r\nQ 48 40.375 41.703125 38.8125 \r\nQ 48.828125 37.15625 52.796875 32.3125 \r\nQ 56.78125 27.484375 56.78125 20.515625 \r\nQ 56.78125 9.90625 50.3125 4.234375 \r\nQ 43.84375 -1.421875 31.78125 -1.421875 \r\nQ 19.734375 -1.421875 13.25 4.234375 \r\nQ 6.78125 9.90625 6.78125 20.515625 \r\nQ 6.78125 27.484375 10.78125 32.3125 \r\nQ 14.796875 37.15625 21.921875 38.8125 \r\nz\r\nM 18.3125 54.390625 \r\nQ 18.3125 48.734375 21.84375 45.5625 \r\nQ 25.390625 42.390625 31.78125 42.390625 \r\nQ 38.140625 42.390625 41.71875 45.5625 \r\nQ 45.3125 48.734375 45.3125 54.390625 \r\nQ 45.3125 60.0625 41.71875 63.234375 \r\nQ 38.140625 66.40625 31.78125 66.40625 \r\nQ 25.390625 66.40625 21.84375 63.234375 \r\nQ 18.3125 60.0625 18.3125 54.390625 \r\nz\r\n\" id=\"DejaVuSans-56\"/>\r\n      </defs>\r\n      <g transform=\"translate(7.2 77.888772)scale(0.1 -0.1)\">\r\n       <use xlink:href=\"#DejaVuSans-48\"/>\r\n       <use x=\"63.623047\" xlink:href=\"#DejaVuSans-46\"/>\r\n       <use x=\"95.410156\" xlink:href=\"#DejaVuSans-56\"/>\r\n      </g>\r\n     </g>\r\n    </g>\r\n    <g id=\"ytick_6\">\r\n     <g id=\"line2d_13\">\r\n      <g>\r\n       <use style=\"stroke:#000000;stroke-width:0.8;\" x=\"30.103125\" xlink:href=\"#me1327b1400\" y=\"32.672411\"/>\r\n      </g>\r\n     </g>\r\n     <g id=\"text_13\">\r\n      <!-- 1.0 -->\r\n      <g transform=\"translate(7.2 36.471629)scale(0.1 -0.1)\">\r\n       <use xlink:href=\"#DejaVuSans-49\"/>\r\n       <use x=\"63.623047\" xlink:href=\"#DejaVuSans-46\"/>\r\n       <use x=\"95.410156\" xlink:href=\"#DejaVuSans-48\"/>\r\n      </g>\r\n     </g>\r\n    </g>\r\n   </g>\r\n   <g id=\"patch_310\">\r\n    <path d=\"M 30.103125 239.758125 \r\nL 30.103125 22.318125 \r\n\" style=\"fill:none;stroke:#000000;stroke-linecap:square;stroke-linejoin:miter;stroke-width:0.8;\"/>\r\n   </g>\r\n   <g id=\"patch_311\">\r\n    <path d=\"M 364.903125 239.758125 \r\nL 364.903125 22.318125 \r\n\" style=\"fill:none;stroke:#000000;stroke-linecap:square;stroke-linejoin:miter;stroke-width:0.8;\"/>\r\n   </g>\r\n   <g id=\"patch_312\">\r\n    <path d=\"M 30.103125 239.758125 \r\nL 364.903125 239.758125 \r\n\" style=\"fill:none;stroke:#000000;stroke-linecap:square;stroke-linejoin:miter;stroke-width:0.8;\"/>\r\n   </g>\r\n   <g id=\"patch_313\">\r\n    <path d=\"M 30.103125 22.318125 \r\nL 364.903125 22.318125 \r\n\" style=\"fill:none;stroke:#000000;stroke-linecap:square;stroke-linejoin:miter;stroke-width:0.8;\"/>\r\n   </g>\r\n   <g id=\"text_14\">\r\n    <!-- Null Values by Row -->\r\n    <defs>\r\n     <path d=\"M 9.8125 72.90625 \r\nL 23.09375 72.90625 \r\nL 55.421875 11.921875 \r\nL 55.421875 72.90625 \r\nL 64.984375 72.90625 \r\nL 64.984375 0 \r\nL 51.703125 0 \r\nL 19.390625 60.984375 \r\nL 19.390625 0 \r\nL 9.8125 0 \r\nz\r\n\" id=\"DejaVuSans-78\"/>\r\n     <path d=\"M 8.5 21.578125 \r\nL 8.5 54.6875 \r\nL 17.484375 54.6875 \r\nL 17.484375 21.921875 \r\nQ 17.484375 14.15625 20.5 10.265625 \r\nQ 23.53125 6.390625 29.59375 6.390625 \r\nQ 36.859375 6.390625 41.078125 11.03125 \r\nQ 45.3125 15.671875 45.3125 23.6875 \r\nL 45.3125 54.6875 \r\nL 54.296875 54.6875 \r\nL 54.296875 0 \r\nL 45.3125 0 \r\nL 45.3125 8.40625 \r\nQ 42.046875 3.421875 37.71875 1 \r\nQ 33.40625 -1.421875 27.6875 -1.421875 \r\nQ 18.265625 -1.421875 13.375 4.4375 \r\nQ 8.5 10.296875 8.5 21.578125 \r\nz\r\nM 31.109375 56 \r\nz\r\n\" id=\"DejaVuSans-117\"/>\r\n     <path d=\"M 9.421875 75.984375 \r\nL 18.40625 75.984375 \r\nL 18.40625 0 \r\nL 9.421875 0 \r\nz\r\n\" id=\"DejaVuSans-108\"/>\r\n     <path id=\"DejaVuSans-32\"/>\r\n     <path d=\"M 28.609375 0 \r\nL 0.78125 72.90625 \r\nL 11.078125 72.90625 \r\nL 34.1875 11.53125 \r\nL 57.328125 72.90625 \r\nL 67.578125 72.90625 \r\nL 39.796875 0 \r\nz\r\n\" id=\"DejaVuSans-86\"/>\r\n     <path d=\"M 34.28125 27.484375 \r\nQ 23.390625 27.484375 19.1875 25 \r\nQ 14.984375 22.515625 14.984375 16.5 \r\nQ 14.984375 11.71875 18.140625 8.90625 \r\nQ 21.296875 6.109375 26.703125 6.109375 \r\nQ 34.1875 6.109375 38.703125 11.40625 \r\nQ 43.21875 16.703125 43.21875 25.484375 \r\nL 43.21875 27.484375 \r\nz\r\nM 52.203125 31.203125 \r\nL 52.203125 0 \r\nL 43.21875 0 \r\nL 43.21875 8.296875 \r\nQ 40.140625 3.328125 35.546875 0.953125 \r\nQ 30.953125 -1.421875 24.3125 -1.421875 \r\nQ 15.921875 -1.421875 10.953125 3.296875 \r\nQ 6 8.015625 6 15.921875 \r\nQ 6 25.140625 12.171875 29.828125 \r\nQ 18.359375 34.515625 30.609375 34.515625 \r\nL 43.21875 34.515625 \r\nL 43.21875 35.40625 \r\nQ 43.21875 41.609375 39.140625 45 \r\nQ 35.0625 48.390625 27.6875 48.390625 \r\nQ 23 48.390625 18.546875 47.265625 \r\nQ 14.109375 46.140625 10.015625 43.890625 \r\nL 10.015625 52.203125 \r\nQ 14.9375 54.109375 19.578125 55.046875 \r\nQ 24.21875 56 28.609375 56 \r\nQ 40.484375 56 46.34375 49.84375 \r\nQ 52.203125 43.703125 52.203125 31.203125 \r\nz\r\n\" id=\"DejaVuSans-97\"/>\r\n     <path d=\"M 56.203125 29.59375 \r\nL 56.203125 25.203125 \r\nL 14.890625 25.203125 \r\nQ 15.484375 15.921875 20.484375 11.0625 \r\nQ 25.484375 6.203125 34.421875 6.203125 \r\nQ 39.59375 6.203125 44.453125 7.46875 \r\nQ 49.3125 8.734375 54.109375 11.28125 \r\nL 54.109375 2.78125 \r\nQ 49.265625 0.734375 44.1875 -0.34375 \r\nQ 39.109375 -1.421875 33.890625 -1.421875 \r\nQ 20.796875 -1.421875 13.15625 6.1875 \r\nQ 5.515625 13.8125 5.515625 26.8125 \r\nQ 5.515625 40.234375 12.765625 48.109375 \r\nQ 20.015625 56 32.328125 56 \r\nQ 43.359375 56 49.78125 48.890625 \r\nQ 56.203125 41.796875 56.203125 29.59375 \r\nz\r\nM 47.21875 32.234375 \r\nQ 47.125 39.59375 43.09375 43.984375 \r\nQ 39.0625 48.390625 32.421875 48.390625 \r\nQ 24.90625 48.390625 20.390625 44.140625 \r\nQ 15.875 39.890625 15.1875 32.171875 \r\nz\r\n\" id=\"DejaVuSans-101\"/>\r\n     <path d=\"M 44.28125 53.078125 \r\nL 44.28125 44.578125 \r\nQ 40.484375 46.53125 36.375 47.5 \r\nQ 32.28125 48.484375 27.875 48.484375 \r\nQ 21.1875 48.484375 17.84375 46.4375 \r\nQ 14.5 44.390625 14.5 40.28125 \r\nQ 14.5 37.15625 16.890625 35.375 \r\nQ 19.28125 33.59375 26.515625 31.984375 \r\nL 29.59375 31.296875 \r\nQ 39.15625 29.25 43.1875 25.515625 \r\nQ 47.21875 21.78125 47.21875 15.09375 \r\nQ 47.21875 7.46875 41.1875 3.015625 \r\nQ 35.15625 -1.421875 24.609375 -1.421875 \r\nQ 20.21875 -1.421875 15.453125 -0.5625 \r\nQ 10.6875 0.296875 5.421875 2 \r\nL 5.421875 11.28125 \r\nQ 10.40625 8.6875 15.234375 7.390625 \r\nQ 20.0625 6.109375 24.8125 6.109375 \r\nQ 31.15625 6.109375 34.5625 8.28125 \r\nQ 37.984375 10.453125 37.984375 14.40625 \r\nQ 37.984375 18.0625 35.515625 20.015625 \r\nQ 33.0625 21.96875 24.703125 23.78125 \r\nL 21.578125 24.515625 \r\nQ 13.234375 26.265625 9.515625 29.90625 \r\nQ 5.8125 33.546875 5.8125 39.890625 \r\nQ 5.8125 47.609375 11.28125 51.796875 \r\nQ 16.75 56 26.8125 56 \r\nQ 31.78125 56 36.171875 55.265625 \r\nQ 40.578125 54.546875 44.28125 53.078125 \r\nz\r\n\" id=\"DejaVuSans-115\"/>\r\n     <path d=\"M 48.6875 27.296875 \r\nQ 48.6875 37.203125 44.609375 42.84375 \r\nQ 40.53125 48.484375 33.40625 48.484375 \r\nQ 26.265625 48.484375 22.1875 42.84375 \r\nQ 18.109375 37.203125 18.109375 27.296875 \r\nQ 18.109375 17.390625 22.1875 11.75 \r\nQ 26.265625 6.109375 33.40625 6.109375 \r\nQ 40.53125 6.109375 44.609375 11.75 \r\nQ 48.6875 17.390625 48.6875 27.296875 \r\nz\r\nM 18.109375 46.390625 \r\nQ 20.953125 51.265625 25.265625 53.625 \r\nQ 29.59375 56 35.59375 56 \r\nQ 45.5625 56 51.78125 48.09375 \r\nQ 58.015625 40.1875 58.015625 27.296875 \r\nQ 58.015625 14.40625 51.78125 6.484375 \r\nQ 45.5625 -1.421875 35.59375 -1.421875 \r\nQ 29.59375 -1.421875 25.265625 0.953125 \r\nQ 20.953125 3.328125 18.109375 8.203125 \r\nL 18.109375 0 \r\nL 9.078125 0 \r\nL 9.078125 75.984375 \r\nL 18.109375 75.984375 \r\nz\r\n\" id=\"DejaVuSans-98\"/>\r\n     <path d=\"M 32.171875 -5.078125 \r\nQ 28.375 -14.84375 24.75 -17.8125 \r\nQ 21.140625 -20.796875 15.09375 -20.796875 \r\nL 7.90625 -20.796875 \r\nL 7.90625 -13.28125 \r\nL 13.1875 -13.28125 \r\nQ 16.890625 -13.28125 18.9375 -11.515625 \r\nQ 21 -9.765625 23.484375 -3.21875 \r\nL 25.09375 0.875 \r\nL 2.984375 54.6875 \r\nL 12.5 54.6875 \r\nL 29.59375 11.921875 \r\nL 46.6875 54.6875 \r\nL 56.203125 54.6875 \r\nz\r\n\" id=\"DejaVuSans-121\"/>\r\n     <path d=\"M 44.390625 34.1875 \r\nQ 47.5625 33.109375 50.5625 29.59375 \r\nQ 53.5625 26.078125 56.59375 19.921875 \r\nL 66.609375 0 \r\nL 56 0 \r\nL 46.6875 18.703125 \r\nQ 43.0625 26.03125 39.671875 28.421875 \r\nQ 36.28125 30.8125 30.421875 30.8125 \r\nL 19.671875 30.8125 \r\nL 19.671875 0 \r\nL 9.8125 0 \r\nL 9.8125 72.90625 \r\nL 32.078125 72.90625 \r\nQ 44.578125 72.90625 50.734375 67.671875 \r\nQ 56.890625 62.453125 56.890625 51.90625 \r\nQ 56.890625 45.015625 53.6875 40.46875 \r\nQ 50.484375 35.9375 44.390625 34.1875 \r\nz\r\nM 19.671875 64.796875 \r\nL 19.671875 38.921875 \r\nL 32.078125 38.921875 \r\nQ 39.203125 38.921875 42.84375 42.21875 \r\nQ 46.484375 45.515625 46.484375 51.90625 \r\nQ 46.484375 58.296875 42.84375 61.546875 \r\nQ 39.203125 64.796875 32.078125 64.796875 \r\nz\r\n\" id=\"DejaVuSans-82\"/>\r\n     <path d=\"M 30.609375 48.390625 \r\nQ 23.390625 48.390625 19.1875 42.75 \r\nQ 14.984375 37.109375 14.984375 27.296875 \r\nQ 14.984375 17.484375 19.15625 11.84375 \r\nQ 23.34375 6.203125 30.609375 6.203125 \r\nQ 37.796875 6.203125 41.984375 11.859375 \r\nQ 46.1875 17.53125 46.1875 27.296875 \r\nQ 46.1875 37.015625 41.984375 42.703125 \r\nQ 37.796875 48.390625 30.609375 48.390625 \r\nz\r\nM 30.609375 56 \r\nQ 42.328125 56 49.015625 48.375 \r\nQ 55.71875 40.765625 55.71875 27.296875 \r\nQ 55.71875 13.875 49.015625 6.21875 \r\nQ 42.328125 -1.421875 30.609375 -1.421875 \r\nQ 18.84375 -1.421875 12.171875 6.21875 \r\nQ 5.515625 13.875 5.515625 27.296875 \r\nQ 5.515625 40.765625 12.171875 48.375 \r\nQ 18.84375 56 30.609375 56 \r\nz\r\n\" id=\"DejaVuSans-111\"/>\r\n     <path d=\"M 4.203125 54.6875 \r\nL 13.1875 54.6875 \r\nL 24.421875 12.015625 \r\nL 35.59375 54.6875 \r\nL 46.1875 54.6875 \r\nL 57.421875 12.015625 \r\nL 68.609375 54.6875 \r\nL 77.59375 54.6875 \r\nL 63.28125 0 \r\nL 52.6875 0 \r\nL 40.921875 44.828125 \r\nL 29.109375 0 \r\nL 18.5 0 \r\nz\r\n\" id=\"DejaVuSans-119\"/>\r\n    </defs>\r\n    <g transform=\"translate(139.992188 16.318125)scale(0.12 -0.12)\">\r\n     <use xlink:href=\"#DejaVuSans-78\"/>\r\n     <use x=\"74.804688\" xlink:href=\"#DejaVuSans-117\"/>\r\n     <use x=\"138.183594\" xlink:href=\"#DejaVuSans-108\"/>\r\n     <use x=\"165.966797\" xlink:href=\"#DejaVuSans-108\"/>\r\n     <use x=\"193.75\" xlink:href=\"#DejaVuSans-32\"/>\r\n     <use x=\"225.537109\" xlink:href=\"#DejaVuSans-86\"/>\r\n     <use x=\"293.835938\" xlink:href=\"#DejaVuSans-97\"/>\r\n     <use x=\"355.115234\" xlink:href=\"#DejaVuSans-108\"/>\r\n     <use x=\"382.898438\" xlink:href=\"#DejaVuSans-117\"/>\r\n     <use x=\"446.277344\" xlink:href=\"#DejaVuSans-101\"/>\r\n     <use x=\"507.800781\" xlink:href=\"#DejaVuSans-115\"/>\r\n     <use x=\"559.900391\" xlink:href=\"#DejaVuSans-32\"/>\r\n     <use x=\"591.6875\" xlink:href=\"#DejaVuSans-98\"/>\r\n     <use x=\"655.164062\" xlink:href=\"#DejaVuSans-121\"/>\r\n     <use x=\"714.34375\" xlink:href=\"#DejaVuSans-32\"/>\r\n     <use x=\"746.130859\" xlink:href=\"#DejaVuSans-82\"/>\r\n     <use x=\"815.550781\" xlink:href=\"#DejaVuSans-111\"/>\r\n     <use x=\"876.732422\" xlink:href=\"#DejaVuSans-119\"/>\r\n    </g>\r\n   </g>\r\n  </g>\r\n </g>\r\n <defs>\r\n  <clipPath id=\"pc2535de6a0\">\r\n   <rect height=\"217.44\" width=\"334.8\" x=\"30.103125\" y=\"22.318125\"/>\r\n  </clipPath>\r\n </defs>\r\n</svg>\r\n",
      "image/png": "[encoded data removed]"
     },
     "metadata": {
      "needs_background": "light"
     }
    },
    {
     "output_type": "execute_result",
     "data": {
      "text/plain": "   NaNs_in_Rank  NaNs_in_Name  NaNs_in_Platform  NaNs_in_Year  NaNs_in_Genre  \\\n0             0             0                 0           271              0   \n\n   NaNs_in_Publisher  NaNs_in_NA_Sales  NaNs_in_EU_Sales  NaNs_in_JP_Sales  \\\n0                 58                 0                 0                 0   \n\n   NaNs_in_Other_Sales  NaNs_in_Global_Sales  \n0                    0                     0  ",
      "text/html": "<div>\n<style scoped>\n    .dataframe tbody tr th:only-of-type {\n        vertical-align: middle;\n    }\n\n    .dataframe tbody tr th {\n        vertical-align: top;\n    }\n\n    .dataframe thead th {\n        text-align: right;\n    }\n</style>\n<table border=\"1\" class=\"dataframe\">\n  <thead>\n    <tr style=\"text-align: right;\">\n      <th></th>\n      <th>NaNs_in_Rank</th>\n      <th>NaNs_in_Name</th>\n      <th>NaNs_in_Platform</th>\n      <th>NaNs_in_Year</th>\n      <th>NaNs_in_Genre</th>\n      <th>NaNs_in_Publisher</th>\n      <th>NaNs_in_NA_Sales</th>\n      <th>NaNs_in_EU_Sales</th>\n      <th>NaNs_in_JP_Sales</th>\n      <th>NaNs_in_Other_Sales</th>\n      <th>NaNs_in_Global_Sales</th>\n    </tr>\n  </thead>\n  <tbody>\n    <tr>\n      <th>0</th>\n      <td>0</td>\n      <td>0</td>\n      <td>0</td>\n      <td>271</td>\n      <td>0</td>\n      <td>58</td>\n      <td>0</td>\n      <td>0</td>\n      <td>0</td>\n      <td>0</td>\n      <td>0</td>\n    </tr>\n  </tbody>\n</table>\n</div>"
     },
     "metadata": {},
     "execution_count": 6
    }
   ],
   "source": [
    "plt.bar(vg_df[vg_df.isnull().any(axis = 1)].index, 1, width = 10)\n",
    "plt.title(\"Null Values by Row\")\n",
    "plt.show()\n",
    "\n",
    "\n",
    "NaN_count_col_df = pd.DataFrame()\n",
    "for col in vg_df.columns:\n",
    "    NaN_count_col_df[f'NaNs_in_{col}'] = [vg_df[col].isnull().values.sum()]\n",
    "NaN_count_col_df"
   ]
  },
  {
   "cell_type": "code",
   "execution_count": 20,
   "metadata": {
    "tags": []
   },
   "outputs": [
    {
     "output_type": "stream",
     "name": "stdout",
     "text": "unknown\nName\n"
    },
    {
     "output_type": "execute_result",
     "data": {
      "text/plain": "<bound method IndexOpsMixin.tolist of Int64Index([], dtype='int64')>"
     },
     "metadata": {},
     "execution_count": 20
    },
    {
     "output_type": "stream",
     "name": "stdout",
     "text": "unknown\nPlatform\n"
    },
    {
     "output_type": "execute_result",
     "data": {
      "text/plain": "<bound method IndexOpsMixin.tolist of Int64Index([], dtype='int64')>"
     },
     "metadata": {},
     "execution_count": 20
    },
    {
     "output_type": "stream",
     "name": "stdout",
     "text": "unknown\nGenre\n"
    },
    {
     "output_type": "execute_result",
     "data": {
      "text/plain": "<bound method IndexOpsMixin.tolist of Int64Index([], dtype='int64')>"
     },
     "metadata": {},
     "execution_count": 20
    },
    {
     "output_type": "stream",
     "name": "stdout",
     "text": "unknown\nPublisher\n"
    },
    {
     "output_type": "execute_result",
     "data": {
      "text/plain": "<bound method IndexOpsMixin.tolist of Int64Index([  940,  1649,  2114,  2173,  2236,  2286,  2295,  2328,  2484,\n             2491,\n            ...\n            16286, 16307, 16366, 16424, 16427, 16460, 16493, 16532, 16545,\n            16581],\n           dtype='int64', length=203)>"
     },
     "metadata": {},
     "execution_count": 20
    },
    {
     "output_type": "stream",
     "name": "stdout",
     "text": "untold\nName\n"
    },
    {
     "output_type": "execute_result",
     "data": {
      "text/plain": "<bound method IndexOpsMixin.tolist of Int64Index([], dtype='int64')>"
     },
     "metadata": {},
     "execution_count": 20
    },
    {
     "output_type": "stream",
     "name": "stdout",
     "text": "untold\nPlatform\n"
    },
    {
     "output_type": "execute_result",
     "data": {
      "text/plain": "<bound method IndexOpsMixin.tolist of Int64Index([], dtype='int64')>"
     },
     "metadata": {},
     "execution_count": 20
    },
    {
     "output_type": "stream",
     "name": "stdout",
     "text": "untold\nGenre\n"
    },
    {
     "output_type": "execute_result",
     "data": {
      "text/plain": "<bound method IndexOpsMixin.tolist of Int64Index([], dtype='int64')>"
     },
     "metadata": {},
     "execution_count": 20
    },
    {
     "output_type": "stream",
     "name": "stdout",
     "text": "untold\nPublisher\n"
    },
    {
     "output_type": "execute_result",
     "data": {
      "text/plain": "<bound method IndexOpsMixin.tolist of Int64Index([], dtype='int64')>"
     },
     "metadata": {},
     "execution_count": 20
    },
    {
     "output_type": "stream",
     "name": "stdout",
     "text": "undetermined\nName\n"
    },
    {
     "output_type": "execute_result",
     "data": {
      "text/plain": "<bound method IndexOpsMixin.tolist of Int64Index([], dtype='int64')>"
     },
     "metadata": {},
     "execution_count": 20
    },
    {
     "output_type": "stream",
     "name": "stdout",
     "text": "undetermined\nPlatform\n"
    },
    {
     "output_type": "execute_result",
     "data": {
      "text/plain": "<bound method IndexOpsMixin.tolist of Int64Index([], dtype='int64')>"
     },
     "metadata": {},
     "execution_count": 20
    },
    {
     "output_type": "stream",
     "name": "stdout",
     "text": "undetermined\nGenre\n"
    },
    {
     "output_type": "execute_result",
     "data": {
      "text/plain": "<bound method IndexOpsMixin.tolist of Int64Index([], dtype='int64')>"
     },
     "metadata": {},
     "execution_count": 20
    },
    {
     "output_type": "stream",
     "name": "stdout",
     "text": "undetermined\nPublisher\n"
    },
    {
     "output_type": "execute_result",
     "data": {
      "text/plain": "<bound method IndexOpsMixin.tolist of Int64Index([], dtype='int64')>"
     },
     "metadata": {},
     "execution_count": 20
    },
    {
     "output_type": "stream",
     "name": "stdout",
     "text": "undefined\nName\n"
    },
    {
     "output_type": "execute_result",
     "data": {
      "text/plain": "<bound method IndexOpsMixin.tolist of Int64Index([], dtype='int64')>"
     },
     "metadata": {},
     "execution_count": 20
    },
    {
     "output_type": "stream",
     "name": "stdout",
     "text": "undefined\nPlatform\n"
    },
    {
     "output_type": "execute_result",
     "data": {
      "text/plain": "<bound method IndexOpsMixin.tolist of Int64Index([], dtype='int64')>"
     },
     "metadata": {},
     "execution_count": 20
    },
    {
     "output_type": "stream",
     "name": "stdout",
     "text": "undefined\nGenre\n"
    },
    {
     "output_type": "execute_result",
     "data": {
      "text/plain": "<bound method IndexOpsMixin.tolist of Int64Index([], dtype='int64')>"
     },
     "metadata": {},
     "execution_count": 20
    },
    {
     "output_type": "stream",
     "name": "stdout",
     "text": "undefined\nPublisher\n"
    },
    {
     "output_type": "execute_result",
     "data": {
      "text/plain": "<bound method IndexOpsMixin.tolist of Int64Index([], dtype='int64')>"
     },
     "metadata": {},
     "execution_count": 20
    },
    {
     "output_type": "stream",
     "name": "stdout",
     "text": "hidden\nName\n"
    },
    {
     "output_type": "execute_result",
     "data": {
      "text/plain": "<bound method IndexOpsMixin.tolist of Int64Index([], dtype='int64')>"
     },
     "metadata": {},
     "execution_count": 20
    },
    {
     "output_type": "stream",
     "name": "stdout",
     "text": "hidden\nPlatform\n"
    },
    {
     "output_type": "execute_result",
     "data": {
      "text/plain": "<bound method IndexOpsMixin.tolist of Int64Index([], dtype='int64')>"
     },
     "metadata": {},
     "execution_count": 20
    },
    {
     "output_type": "stream",
     "name": "stdout",
     "text": "hidden\nGenre\n"
    },
    {
     "output_type": "execute_result",
     "data": {
      "text/plain": "<bound method IndexOpsMixin.tolist of Int64Index([], dtype='int64')>"
     },
     "metadata": {},
     "execution_count": 20
    },
    {
     "output_type": "stream",
     "name": "stdout",
     "text": "hidden\nPublisher\n"
    },
    {
     "output_type": "execute_result",
     "data": {
      "text/plain": "<bound method IndexOpsMixin.tolist of Int64Index([], dtype='int64')>"
     },
     "metadata": {},
     "execution_count": 20
    },
    {
     "output_type": "stream",
     "name": "stdout",
     "text": "indefinite\nName\n"
    },
    {
     "output_type": "execute_result",
     "data": {
      "text/plain": "<bound method IndexOpsMixin.tolist of Int64Index([], dtype='int64')>"
     },
     "metadata": {},
     "execution_count": 20
    },
    {
     "output_type": "stream",
     "name": "stdout",
     "text": "indefinite\nPlatform\n"
    },
    {
     "output_type": "execute_result",
     "data": {
      "text/plain": "<bound method IndexOpsMixin.tolist of Int64Index([], dtype='int64')>"
     },
     "metadata": {},
     "execution_count": 20
    },
    {
     "output_type": "stream",
     "name": "stdout",
     "text": "indefinite\nGenre\n"
    },
    {
     "output_type": "execute_result",
     "data": {
      "text/plain": "<bound method IndexOpsMixin.tolist of Int64Index([], dtype='int64')>"
     },
     "metadata": {},
     "execution_count": 20
    },
    {
     "output_type": "stream",
     "name": "stdout",
     "text": "indefinite\nPublisher\n"
    },
    {
     "output_type": "execute_result",
     "data": {
      "text/plain": "<bound method IndexOpsMixin.tolist of Int64Index([], dtype='int64')>"
     },
     "metadata": {},
     "execution_count": 20
    },
    {
     "output_type": "stream",
     "name": "stdout",
     "text": "pending\nName\n"
    },
    {
     "output_type": "execute_result",
     "data": {
      "text/plain": "<bound method IndexOpsMixin.tolist of Int64Index([], dtype='int64')>"
     },
     "metadata": {},
     "execution_count": 20
    },
    {
     "output_type": "stream",
     "name": "stdout",
     "text": "pending\nPlatform\n"
    },
    {
     "output_type": "execute_result",
     "data": {
      "text/plain": "<bound method IndexOpsMixin.tolist of Int64Index([], dtype='int64')>"
     },
     "metadata": {},
     "execution_count": 20
    },
    {
     "output_type": "stream",
     "name": "stdout",
     "text": "pending\nGenre\n"
    },
    {
     "output_type": "execute_result",
     "data": {
      "text/plain": "<bound method IndexOpsMixin.tolist of Int64Index([], dtype='int64')>"
     },
     "metadata": {},
     "execution_count": 20
    },
    {
     "output_type": "stream",
     "name": "stdout",
     "text": "pending\nPublisher\n"
    },
    {
     "output_type": "execute_result",
     "data": {
      "text/plain": "<bound method IndexOpsMixin.tolist of Int64Index([], dtype='int64')>"
     },
     "metadata": {},
     "execution_count": 20
    },
    {
     "output_type": "stream",
     "name": "stdout",
     "text": "inconclusive\nName\n"
    },
    {
     "output_type": "execute_result",
     "data": {
      "text/plain": "<bound method IndexOpsMixin.tolist of Int64Index([], dtype='int64')>"
     },
     "metadata": {},
     "execution_count": 20
    },
    {
     "output_type": "stream",
     "name": "stdout",
     "text": "inconclusive\nPlatform\n"
    },
    {
     "output_type": "execute_result",
     "data": {
      "text/plain": "<bound method IndexOpsMixin.tolist of Int64Index([], dtype='int64')>"
     },
     "metadata": {},
     "execution_count": 20
    },
    {
     "output_type": "stream",
     "name": "stdout",
     "text": "inconclusive\nGenre\n"
    },
    {
     "output_type": "execute_result",
     "data": {
      "text/plain": "<bound method IndexOpsMixin.tolist of Int64Index([], dtype='int64')>"
     },
     "metadata": {},
     "execution_count": 20
    },
    {
     "output_type": "stream",
     "name": "stdout",
     "text": "inconclusive\nPublisher\n"
    },
    {
     "output_type": "execute_result",
     "data": {
      "text/plain": "<bound method IndexOpsMixin.tolist of Int64Index([], dtype='int64')>"
     },
     "metadata": {},
     "execution_count": 20
    },
    {
     "output_type": "stream",
     "name": "stdout",
     "text": "unnamed\nName\n"
    },
    {
     "output_type": "execute_result",
     "data": {
      "text/plain": "<bound method IndexOpsMixin.tolist of Int64Index([], dtype='int64')>"
     },
     "metadata": {},
     "execution_count": 20
    },
    {
     "output_type": "stream",
     "name": "stdout",
     "text": "unnamed\nPlatform\n"
    },
    {
     "output_type": "execute_result",
     "data": {
      "text/plain": "<bound method IndexOpsMixin.tolist of Int64Index([], dtype='int64')>"
     },
     "metadata": {},
     "execution_count": 20
    },
    {
     "output_type": "stream",
     "name": "stdout",
     "text": "unnamed\nGenre\n"
    },
    {
     "output_type": "execute_result",
     "data": {
      "text/plain": "<bound method IndexOpsMixin.tolist of Int64Index([], dtype='int64')>"
     },
     "metadata": {},
     "execution_count": 20
    },
    {
     "output_type": "stream",
     "name": "stdout",
     "text": "unnamed\nPublisher\n"
    },
    {
     "output_type": "execute_result",
     "data": {
      "text/plain": "<bound method IndexOpsMixin.tolist of Int64Index([], dtype='int64')>"
     },
     "metadata": {},
     "execution_count": 20
    },
    {
     "output_type": "stream",
     "name": "stdout",
     "text": "undesignated\nName\n"
    },
    {
     "output_type": "execute_result",
     "data": {
      "text/plain": "<bound method IndexOpsMixin.tolist of Int64Index([], dtype='int64')>"
     },
     "metadata": {},
     "execution_count": 20
    },
    {
     "output_type": "stream",
     "name": "stdout",
     "text": "undesignated\nPlatform\n"
    },
    {
     "output_type": "execute_result",
     "data": {
      "text/plain": "<bound method IndexOpsMixin.tolist of Int64Index([], dtype='int64')>"
     },
     "metadata": {},
     "execution_count": 20
    },
    {
     "output_type": "stream",
     "name": "stdout",
     "text": "undesignated\nGenre\n"
    },
    {
     "output_type": "execute_result",
     "data": {
      "text/plain": "<bound method IndexOpsMixin.tolist of Int64Index([], dtype='int64')>"
     },
     "metadata": {},
     "execution_count": 20
    },
    {
     "output_type": "stream",
     "name": "stdout",
     "text": "undesignated\nPublisher\n"
    },
    {
     "output_type": "execute_result",
     "data": {
      "text/plain": "<bound method IndexOpsMixin.tolist of Int64Index([], dtype='int64')>"
     },
     "metadata": {},
     "execution_count": 20
    },
    {
     "output_type": "stream",
     "name": "stdout",
     "text": "insignificant\nName\n"
    },
    {
     "output_type": "execute_result",
     "data": {
      "text/plain": "<bound method IndexOpsMixin.tolist of Int64Index([], dtype='int64')>"
     },
     "metadata": {},
     "execution_count": 20
    },
    {
     "output_type": "stream",
     "name": "stdout",
     "text": "insignificant\nPlatform\n"
    },
    {
     "output_type": "execute_result",
     "data": {
      "text/plain": "<bound method IndexOpsMixin.tolist of Int64Index([], dtype='int64')>"
     },
     "metadata": {},
     "execution_count": 20
    },
    {
     "output_type": "stream",
     "name": "stdout",
     "text": "insignificant\nGenre\n"
    },
    {
     "output_type": "execute_result",
     "data": {
      "text/plain": "<bound method IndexOpsMixin.tolist of Int64Index([], dtype='int64')>"
     },
     "metadata": {},
     "execution_count": 20
    },
    {
     "output_type": "stream",
     "name": "stdout",
     "text": "insignificant\nPublisher\n"
    },
    {
     "output_type": "execute_result",
     "data": {
      "text/plain": "<bound method IndexOpsMixin.tolist of Int64Index([], dtype='int64')>"
     },
     "metadata": {},
     "execution_count": 20
    },
    {
     "output_type": "stream",
     "name": "stdout",
     "text": "nonexistant\nName\n"
    },
    {
     "output_type": "execute_result",
     "data": {
      "text/plain": "<bound method IndexOpsMixin.tolist of Int64Index([], dtype='int64')>"
     },
     "metadata": {},
     "execution_count": 20
    },
    {
     "output_type": "stream",
     "name": "stdout",
     "text": "nonexistant\nPlatform\n"
    },
    {
     "output_type": "execute_result",
     "data": {
      "text/plain": "<bound method IndexOpsMixin.tolist of Int64Index([], dtype='int64')>"
     },
     "metadata": {},
     "execution_count": 20
    },
    {
     "output_type": "stream",
     "name": "stdout",
     "text": "nonexistant\nGenre\n"
    },
    {
     "output_type": "execute_result",
     "data": {
      "text/plain": "<bound method IndexOpsMixin.tolist of Int64Index([], dtype='int64')>"
     },
     "metadata": {},
     "execution_count": 20
    },
    {
     "output_type": "stream",
     "name": "stdout",
     "text": "nonexistant\nPublisher\n"
    },
    {
     "output_type": "execute_result",
     "data": {
      "text/plain": "<bound method IndexOpsMixin.tolist of Int64Index([], dtype='int64')>"
     },
     "metadata": {},
     "execution_count": 20
    },
    {
     "output_type": "stream",
     "name": "stdout",
     "text": "non-existant\nName\n"
    },
    {
     "output_type": "execute_result",
     "data": {
      "text/plain": "<bound method IndexOpsMixin.tolist of Int64Index([], dtype='int64')>"
     },
     "metadata": {},
     "execution_count": 20
    },
    {
     "output_type": "stream",
     "name": "stdout",
     "text": "non-existant\nPlatform\n"
    },
    {
     "output_type": "execute_result",
     "data": {
      "text/plain": "<bound method IndexOpsMixin.tolist of Int64Index([], dtype='int64')>"
     },
     "metadata": {},
     "execution_count": 20
    },
    {
     "output_type": "stream",
     "name": "stdout",
     "text": "non-existant\nGenre\n"
    },
    {
     "output_type": "execute_result",
     "data": {
      "text/plain": "<bound method IndexOpsMixin.tolist of Int64Index([], dtype='int64')>"
     },
     "metadata": {},
     "execution_count": 20
    },
    {
     "output_type": "stream",
     "name": "stdout",
     "text": "non-existant\nPublisher\n"
    },
    {
     "output_type": "execute_result",
     "data": {
      "text/plain": "<bound method IndexOpsMixin.tolist of Int64Index([], dtype='int64')>"
     },
     "metadata": {},
     "execution_count": 20
    },
    {
     "output_type": "stream",
     "name": "stdout",
     "text": "missing\nName\n"
    },
    {
     "output_type": "execute_result",
     "data": {
      "text/plain": "<bound method IndexOpsMixin.tolist of Int64Index([], dtype='int64')>"
     },
     "metadata": {},
     "execution_count": 20
    },
    {
     "output_type": "stream",
     "name": "stdout",
     "text": "missing\nPlatform\n"
    },
    {
     "output_type": "execute_result",
     "data": {
      "text/plain": "<bound method IndexOpsMixin.tolist of Int64Index([], dtype='int64')>"
     },
     "metadata": {},
     "execution_count": 20
    },
    {
     "output_type": "stream",
     "name": "stdout",
     "text": "missing\nGenre\n"
    },
    {
     "output_type": "execute_result",
     "data": {
      "text/plain": "<bound method IndexOpsMixin.tolist of Int64Index([], dtype='int64')>"
     },
     "metadata": {},
     "execution_count": 20
    },
    {
     "output_type": "stream",
     "name": "stdout",
     "text": "missing\nPublisher\n"
    },
    {
     "output_type": "execute_result",
     "data": {
      "text/plain": "<bound method IndexOpsMixin.tolist of Int64Index([], dtype='int64')>"
     },
     "metadata": {},
     "execution_count": 20
    },
    {
     "output_type": "stream",
     "name": "stdout",
     "text": "absent\nName\n"
    },
    {
     "output_type": "execute_result",
     "data": {
      "text/plain": "<bound method IndexOpsMixin.tolist of Int64Index([], dtype='int64')>"
     },
     "metadata": {},
     "execution_count": 20
    },
    {
     "output_type": "stream",
     "name": "stdout",
     "text": "absent\nPlatform\n"
    },
    {
     "output_type": "execute_result",
     "data": {
      "text/plain": "<bound method IndexOpsMixin.tolist of Int64Index([], dtype='int64')>"
     },
     "metadata": {},
     "execution_count": 20
    },
    {
     "output_type": "stream",
     "name": "stdout",
     "text": "absent\nGenre\n"
    },
    {
     "output_type": "execute_result",
     "data": {
      "text/plain": "<bound method IndexOpsMixin.tolist of Int64Index([], dtype='int64')>"
     },
     "metadata": {},
     "execution_count": 20
    },
    {
     "output_type": "stream",
     "name": "stdout",
     "text": "absent\nPublisher\n"
    },
    {
     "output_type": "execute_result",
     "data": {
      "text/plain": "<bound method IndexOpsMixin.tolist of Int64Index([], dtype='int64')>"
     },
     "metadata": {},
     "execution_count": 20
    },
    {
     "output_type": "stream",
     "name": "stdout",
     "text": "unavailable\nName\n"
    },
    {
     "output_type": "execute_result",
     "data": {
      "text/plain": "<bound method IndexOpsMixin.tolist of Int64Index([], dtype='int64')>"
     },
     "metadata": {},
     "execution_count": 20
    },
    {
     "output_type": "stream",
     "name": "stdout",
     "text": "unavailable\nPlatform\n"
    },
    {
     "output_type": "execute_result",
     "data": {
      "text/plain": "<bound method IndexOpsMixin.tolist of Int64Index([], dtype='int64')>"
     },
     "metadata": {},
     "execution_count": 20
    },
    {
     "output_type": "stream",
     "name": "stdout",
     "text": "unavailable\nGenre\n"
    },
    {
     "output_type": "execute_result",
     "data": {
      "text/plain": "<bound method IndexOpsMixin.tolist of Int64Index([], dtype='int64')>"
     },
     "metadata": {},
     "execution_count": 20
    },
    {
     "output_type": "stream",
     "name": "stdout",
     "text": "unavailable\nPublisher\n"
    },
    {
     "output_type": "execute_result",
     "data": {
      "text/plain": "<bound method IndexOpsMixin.tolist of Int64Index([], dtype='int64')>"
     },
     "metadata": {},
     "execution_count": 20
    },
    {
     "output_type": "stream",
     "name": "stdout",
     "text": "nonexistent\nName\n"
    },
    {
     "output_type": "execute_result",
     "data": {
      "text/plain": "<bound method IndexOpsMixin.tolist of Int64Index([], dtype='int64')>"
     },
     "metadata": {},
     "execution_count": 20
    },
    {
     "output_type": "stream",
     "name": "stdout",
     "text": "nonexistent\nPlatform\n"
    },
    {
     "output_type": "execute_result",
     "data": {
      "text/plain": "<bound method IndexOpsMixin.tolist of Int64Index([], dtype='int64')>"
     },
     "metadata": {},
     "execution_count": 20
    },
    {
     "output_type": "stream",
     "name": "stdout",
     "text": "nonexistent\nGenre\n"
    },
    {
     "output_type": "execute_result",
     "data": {
      "text/plain": "<bound method IndexOpsMixin.tolist of Int64Index([], dtype='int64')>"
     },
     "metadata": {},
     "execution_count": 20
    },
    {
     "output_type": "stream",
     "name": "stdout",
     "text": "nonexistent\nPublisher\n"
    },
    {
     "output_type": "execute_result",
     "data": {
      "text/plain": "<bound method IndexOpsMixin.tolist of Int64Index([], dtype='int64')>"
     },
     "metadata": {},
     "execution_count": 20
    },
    {
     "output_type": "stream",
     "name": "stdout",
     "text": "withdrawn\nName\n"
    },
    {
     "output_type": "execute_result",
     "data": {
      "text/plain": "<bound method IndexOpsMixin.tolist of Int64Index([], dtype='int64')>"
     },
     "metadata": {},
     "execution_count": 20
    },
    {
     "output_type": "stream",
     "name": "stdout",
     "text": "withdrawn\nPlatform\n"
    },
    {
     "output_type": "execute_result",
     "data": {
      "text/plain": "<bound method IndexOpsMixin.tolist of Int64Index([], dtype='int64')>"
     },
     "metadata": {},
     "execution_count": 20
    },
    {
     "output_type": "stream",
     "name": "stdout",
     "text": "withdrawn\nGenre\n"
    },
    {
     "output_type": "execute_result",
     "data": {
      "text/plain": "<bound method IndexOpsMixin.tolist of Int64Index([], dtype='int64')>"
     },
     "metadata": {},
     "execution_count": 20
    },
    {
     "output_type": "stream",
     "name": "stdout",
     "text": "withdrawn\nPublisher\n"
    },
    {
     "output_type": "execute_result",
     "data": {
      "text/plain": "<bound method IndexOpsMixin.tolist of Int64Index([], dtype='int64')>"
     },
     "metadata": {},
     "execution_count": 20
    },
    {
     "output_type": "stream",
     "name": "stdout",
     "text": "null\nName\n"
    },
    {
     "output_type": "execute_result",
     "data": {
      "text/plain": "<bound method IndexOpsMixin.tolist of Int64Index([], dtype='int64')>"
     },
     "metadata": {},
     "execution_count": 20
    },
    {
     "output_type": "stream",
     "name": "stdout",
     "text": "null\nPlatform\n"
    },
    {
     "output_type": "execute_result",
     "data": {
      "text/plain": "<bound method IndexOpsMixin.tolist of Int64Index([], dtype='int64')>"
     },
     "metadata": {},
     "execution_count": 20
    },
    {
     "output_type": "stream",
     "name": "stdout",
     "text": "null\nGenre\n"
    },
    {
     "output_type": "execute_result",
     "data": {
      "text/plain": "<bound method IndexOpsMixin.tolist of Int64Index([], dtype='int64')>"
     },
     "metadata": {},
     "execution_count": 20
    },
    {
     "output_type": "stream",
     "name": "stdout",
     "text": "null\nPublisher\n"
    },
    {
     "output_type": "execute_result",
     "data": {
      "text/plain": "<bound method IndexOpsMixin.tolist of Int64Index([], dtype='int64')>"
     },
     "metadata": {},
     "execution_count": 20
    },
    {
     "output_type": "stream",
     "name": "stdout",
     "text": "invalid\nName\n"
    },
    {
     "output_type": "execute_result",
     "data": {
      "text/plain": "<bound method IndexOpsMixin.tolist of Int64Index([], dtype='int64')>"
     },
     "metadata": {},
     "execution_count": 20
    },
    {
     "output_type": "stream",
     "name": "stdout",
     "text": "invalid\nPlatform\n"
    },
    {
     "output_type": "execute_result",
     "data": {
      "text/plain": "<bound method IndexOpsMixin.tolist of Int64Index([], dtype='int64')>"
     },
     "metadata": {},
     "execution_count": 20
    },
    {
     "output_type": "stream",
     "name": "stdout",
     "text": "invalid\nGenre\n"
    },
    {
     "output_type": "execute_result",
     "data": {
      "text/plain": "<bound method IndexOpsMixin.tolist of Int64Index([], dtype='int64')>"
     },
     "metadata": {},
     "execution_count": 20
    },
    {
     "output_type": "stream",
     "name": "stdout",
     "text": "invalid\nPublisher\n"
    },
    {
     "output_type": "execute_result",
     "data": {
      "text/plain": "<bound method IndexOpsMixin.tolist of Int64Index([], dtype='int64')>"
     },
     "metadata": {},
     "execution_count": 20
    },
    {
     "output_type": "stream",
     "name": "stdout",
     "text": "void\nName\n"
    },
    {
     "output_type": "execute_result",
     "data": {
      "text/plain": "<bound method IndexOpsMixin.tolist of Int64Index([], dtype='int64')>"
     },
     "metadata": {},
     "execution_count": 20
    },
    {
     "output_type": "stream",
     "name": "stdout",
     "text": "void\nPlatform\n"
    },
    {
     "output_type": "execute_result",
     "data": {
      "text/plain": "<bound method IndexOpsMixin.tolist of Int64Index([], dtype='int64')>"
     },
     "metadata": {},
     "execution_count": 20
    },
    {
     "output_type": "stream",
     "name": "stdout",
     "text": "void\nGenre\n"
    },
    {
     "output_type": "execute_result",
     "data": {
      "text/plain": "<bound method IndexOpsMixin.tolist of Int64Index([], dtype='int64')>"
     },
     "metadata": {},
     "execution_count": 20
    },
    {
     "output_type": "stream",
     "name": "stdout",
     "text": "void\nPublisher\n"
    },
    {
     "output_type": "execute_result",
     "data": {
      "text/plain": "<bound method IndexOpsMixin.tolist of Int64Index([], dtype='int64')>"
     },
     "metadata": {},
     "execution_count": 20
    },
    {
     "output_type": "stream",
     "name": "stdout",
     "text": "rescinded\nName\n"
    },
    {
     "output_type": "execute_result",
     "data": {
      "text/plain": "<bound method IndexOpsMixin.tolist of Int64Index([], dtype='int64')>"
     },
     "metadata": {},
     "execution_count": 20
    },
    {
     "output_type": "stream",
     "name": "stdout",
     "text": "rescinded\nPlatform\n"
    },
    {
     "output_type": "execute_result",
     "data": {
      "text/plain": "<bound method IndexOpsMixin.tolist of Int64Index([], dtype='int64')>"
     },
     "metadata": {},
     "execution_count": 20
    },
    {
     "output_type": "stream",
     "name": "stdout",
     "text": "rescinded\nGenre\n"
    },
    {
     "output_type": "execute_result",
     "data": {
      "text/plain": "<bound method IndexOpsMixin.tolist of Int64Index([], dtype='int64')>"
     },
     "metadata": {},
     "execution_count": 20
    },
    {
     "output_type": "stream",
     "name": "stdout",
     "text": "rescinded\nPublisher\n"
    },
    {
     "output_type": "execute_result",
     "data": {
      "text/plain": "<bound method IndexOpsMixin.tolist of Int64Index([], dtype='int64')>"
     },
     "metadata": {},
     "execution_count": 20
    },
    {
     "output_type": "stream",
     "name": "stdout",
     "text": "repealed\nName\n"
    },
    {
     "output_type": "execute_result",
     "data": {
      "text/plain": "<bound method IndexOpsMixin.tolist of Int64Index([], dtype='int64')>"
     },
     "metadata": {},
     "execution_count": 20
    },
    {
     "output_type": "stream",
     "name": "stdout",
     "text": "repealed\nPlatform\n"
    },
    {
     "output_type": "execute_result",
     "data": {
      "text/plain": "<bound method IndexOpsMixin.tolist of Int64Index([], dtype='int64')>"
     },
     "metadata": {},
     "execution_count": 20
    },
    {
     "output_type": "stream",
     "name": "stdout",
     "text": "repealed\nGenre\n"
    },
    {
     "output_type": "execute_result",
     "data": {
      "text/plain": "<bound method IndexOpsMixin.tolist of Int64Index([], dtype='int64')>"
     },
     "metadata": {},
     "execution_count": 20
    },
    {
     "output_type": "stream",
     "name": "stdout",
     "text": "repealed\nPublisher\n"
    },
    {
     "output_type": "execute_result",
     "data": {
      "text/plain": "<bound method IndexOpsMixin.tolist of Int64Index([], dtype='int64')>"
     },
     "metadata": {},
     "execution_count": 20
    },
    {
     "output_type": "stream",
     "name": "stdout",
     "text": "blank\nName\n"
    },
    {
     "output_type": "execute_result",
     "data": {
      "text/plain": "<bound method IndexOpsMixin.tolist of Int64Index([], dtype='int64')>"
     },
     "metadata": {},
     "execution_count": 20
    },
    {
     "output_type": "stream",
     "name": "stdout",
     "text": "blank\nPlatform\n"
    },
    {
     "output_type": "execute_result",
     "data": {
      "text/plain": "<bound method IndexOpsMixin.tolist of Int64Index([], dtype='int64')>"
     },
     "metadata": {},
     "execution_count": 20
    },
    {
     "output_type": "stream",
     "name": "stdout",
     "text": "blank\nGenre\n"
    },
    {
     "output_type": "execute_result",
     "data": {
      "text/plain": "<bound method IndexOpsMixin.tolist of Int64Index([], dtype='int64')>"
     },
     "metadata": {},
     "execution_count": 20
    },
    {
     "output_type": "stream",
     "name": "stdout",
     "text": "blank\nPublisher\n"
    },
    {
     "output_type": "execute_result",
     "data": {
      "text/plain": "<bound method IndexOpsMixin.tolist of Int64Index([], dtype='int64')>"
     },
     "metadata": {},
     "execution_count": 20
    },
    {
     "output_type": "stream",
     "name": "stdout",
     "text": "empty\nName\n"
    },
    {
     "output_type": "execute_result",
     "data": {
      "text/plain": "<bound method IndexOpsMixin.tolist of Int64Index([], dtype='int64')>"
     },
     "metadata": {},
     "execution_count": 20
    },
    {
     "output_type": "stream",
     "name": "stdout",
     "text": "empty\nPlatform\n"
    },
    {
     "output_type": "execute_result",
     "data": {
      "text/plain": "<bound method IndexOpsMixin.tolist of Int64Index([], dtype='int64')>"
     },
     "metadata": {},
     "execution_count": 20
    },
    {
     "output_type": "stream",
     "name": "stdout",
     "text": "empty\nGenre\n"
    },
    {
     "output_type": "execute_result",
     "data": {
      "text/plain": "<bound method IndexOpsMixin.tolist of Int64Index([], dtype='int64')>"
     },
     "metadata": {},
     "execution_count": 20
    },
    {
     "output_type": "stream",
     "name": "stdout",
     "text": "empty\nPublisher\n"
    },
    {
     "output_type": "execute_result",
     "data": {
      "text/plain": "<bound method IndexOpsMixin.tolist of Int64Index([], dtype='int64')>"
     },
     "metadata": {},
     "execution_count": 20
    },
    {
     "output_type": "stream",
     "name": "stdout",
     "text": "canceled\nName\n"
    },
    {
     "output_type": "execute_result",
     "data": {
      "text/plain": "<bound method IndexOpsMixin.tolist of Int64Index([], dtype='int64')>"
     },
     "metadata": {},
     "execution_count": 20
    },
    {
     "output_type": "stream",
     "name": "stdout",
     "text": "canceled\nPlatform\n"
    },
    {
     "output_type": "execute_result",
     "data": {
      "text/plain": "<bound method IndexOpsMixin.tolist of Int64Index([], dtype='int64')>"
     },
     "metadata": {},
     "execution_count": 20
    },
    {
     "output_type": "stream",
     "name": "stdout",
     "text": "canceled\nGenre\n"
    },
    {
     "output_type": "execute_result",
     "data": {
      "text/plain": "<bound method IndexOpsMixin.tolist of Int64Index([], dtype='int64')>"
     },
     "metadata": {},
     "execution_count": 20
    },
    {
     "output_type": "stream",
     "name": "stdout",
     "text": "canceled\nPublisher\n"
    },
    {
     "output_type": "execute_result",
     "data": {
      "text/plain": "<bound method IndexOpsMixin.tolist of Int64Index([], dtype='int64')>"
     },
     "metadata": {},
     "execution_count": 20
    },
    {
     "output_type": "stream",
     "name": "stdout",
     "text": "revoked\nName\n"
    },
    {
     "output_type": "execute_result",
     "data": {
      "text/plain": "<bound method IndexOpsMixin.tolist of Int64Index([], dtype='int64')>"
     },
     "metadata": {},
     "execution_count": 20
    },
    {
     "output_type": "stream",
     "name": "stdout",
     "text": "revoked\nPlatform\n"
    },
    {
     "output_type": "execute_result",
     "data": {
      "text/plain": "<bound method IndexOpsMixin.tolist of Int64Index([], dtype='int64')>"
     },
     "metadata": {},
     "execution_count": 20
    },
    {
     "output_type": "stream",
     "name": "stdout",
     "text": "revoked\nGenre\n"
    },
    {
     "output_type": "execute_result",
     "data": {
      "text/plain": "<bound method IndexOpsMixin.tolist of Int64Index([], dtype='int64')>"
     },
     "metadata": {},
     "execution_count": 20
    },
    {
     "output_type": "stream",
     "name": "stdout",
     "text": "revoked\nPublisher\n"
    },
    {
     "output_type": "execute_result",
     "data": {
      "text/plain": "<bound method IndexOpsMixin.tolist of Int64Index([], dtype='int64')>"
     },
     "metadata": {},
     "execution_count": 20
    },
    {
     "output_type": "stream",
     "name": "stdout",
     "text": "rescinded\nName\n"
    },
    {
     "output_type": "execute_result",
     "data": {
      "text/plain": "<bound method IndexOpsMixin.tolist of Int64Index([], dtype='int64')>"
     },
     "metadata": {},
     "execution_count": 20
    },
    {
     "output_type": "stream",
     "name": "stdout",
     "text": "rescinded\nPlatform\n"
    },
    {
     "output_type": "execute_result",
     "data": {
      "text/plain": "<bound method IndexOpsMixin.tolist of Int64Index([], dtype='int64')>"
     },
     "metadata": {},
     "execution_count": 20
    },
    {
     "output_type": "stream",
     "name": "stdout",
     "text": "rescinded\nGenre\n"
    },
    {
     "output_type": "execute_result",
     "data": {
      "text/plain": "<bound method IndexOpsMixin.tolist of Int64Index([], dtype='int64')>"
     },
     "metadata": {},
     "execution_count": 20
    },
    {
     "output_type": "stream",
     "name": "stdout",
     "text": "rescinded\nPublisher\n"
    },
    {
     "output_type": "execute_result",
     "data": {
      "text/plain": "<bound method IndexOpsMixin.tolist of Int64Index([], dtype='int64')>"
     },
     "metadata": {},
     "execution_count": 20
    },
    {
     "output_type": "stream",
     "name": "stdout",
     "text": "not any\nName\n"
    },
    {
     "output_type": "execute_result",
     "data": {
      "text/plain": "<bound method IndexOpsMixin.tolist of Int64Index([], dtype='int64')>"
     },
     "metadata": {},
     "execution_count": 20
    },
    {
     "output_type": "stream",
     "name": "stdout",
     "text": "not any\nPlatform\n"
    },
    {
     "output_type": "execute_result",
     "data": {
      "text/plain": "<bound method IndexOpsMixin.tolist of Int64Index([], dtype='int64')>"
     },
     "metadata": {},
     "execution_count": 20
    },
    {
     "output_type": "stream",
     "name": "stdout",
     "text": "not any\nGenre\n"
    },
    {
     "output_type": "execute_result",
     "data": {
      "text/plain": "<bound method IndexOpsMixin.tolist of Int64Index([], dtype='int64')>"
     },
     "metadata": {},
     "execution_count": 20
    },
    {
     "output_type": "stream",
     "name": "stdout",
     "text": "not any\nPublisher\n"
    },
    {
     "output_type": "execute_result",
     "data": {
      "text/plain": "<bound method IndexOpsMixin.tolist of Int64Index([], dtype='int64')>"
     },
     "metadata": {},
     "execution_count": 20
    },
    {
     "output_type": "stream",
     "name": "stdout",
     "text": "n/a\nName\n"
    },
    {
     "output_type": "execute_result",
     "data": {
      "text/plain": "<bound method IndexOpsMixin.tolist of Int64Index([], dtype='int64')>"
     },
     "metadata": {},
     "execution_count": 20
    },
    {
     "output_type": "stream",
     "name": "stdout",
     "text": "n/a\nPlatform\n"
    },
    {
     "output_type": "execute_result",
     "data": {
      "text/plain": "<bound method IndexOpsMixin.tolist of Int64Index([], dtype='int64')>"
     },
     "metadata": {},
     "execution_count": 20
    },
    {
     "output_type": "stream",
     "name": "stdout",
     "text": "n/a\nGenre\n"
    },
    {
     "output_type": "execute_result",
     "data": {
      "text/plain": "<bound method IndexOpsMixin.tolist of Int64Index([], dtype='int64')>"
     },
     "metadata": {},
     "execution_count": 20
    },
    {
     "output_type": "stream",
     "name": "stdout",
     "text": "n/a\nPublisher\n"
    },
    {
     "output_type": "execute_result",
     "data": {
      "text/plain": "<bound method IndexOpsMixin.tolist of Int64Index([], dtype='int64')>"
     },
     "metadata": {},
     "execution_count": 20
    },
    {
     "output_type": "stream",
     "name": "stdout",
     "text": "None\nName\n"
    },
    {
     "output_type": "execute_result",
     "data": {
      "text/plain": "<bound method IndexOpsMixin.tolist of Int64Index([], dtype='int64')>"
     },
     "metadata": {},
     "execution_count": 20
    },
    {
     "output_type": "stream",
     "name": "stdout",
     "text": "None\nPlatform\n"
    },
    {
     "output_type": "execute_result",
     "data": {
      "text/plain": "<bound method IndexOpsMixin.tolist of Int64Index([], dtype='int64')>"
     },
     "metadata": {},
     "execution_count": 20
    },
    {
     "output_type": "stream",
     "name": "stdout",
     "text": "None\nGenre\n"
    },
    {
     "output_type": "execute_result",
     "data": {
      "text/plain": "<bound method IndexOpsMixin.tolist of Int64Index([], dtype='int64')>"
     },
     "metadata": {},
     "execution_count": 20
    },
    {
     "output_type": "stream",
     "name": "stdout",
     "text": "None\nPublisher\n"
    },
    {
     "output_type": "execute_result",
     "data": {
      "text/plain": "<bound method IndexOpsMixin.tolist of Int64Index([], dtype='int64')>"
     },
     "metadata": {},
     "execution_count": 20
    },
    {
     "output_type": "stream",
     "name": "stdout",
     "text": "nan\nName\n"
    },
    {
     "output_type": "execute_result",
     "data": {
      "text/plain": "<bound method IndexOpsMixin.tolist of Int64Index([], dtype='int64')>"
     },
     "metadata": {},
     "execution_count": 20
    },
    {
     "output_type": "stream",
     "name": "stdout",
     "text": "nan\nPlatform\n"
    },
    {
     "output_type": "execute_result",
     "data": {
      "text/plain": "<bound method IndexOpsMixin.tolist of Int64Index([], dtype='int64')>"
     },
     "metadata": {},
     "execution_count": 20
    },
    {
     "output_type": "stream",
     "name": "stdout",
     "text": "nan\nGenre\n"
    },
    {
     "output_type": "execute_result",
     "data": {
      "text/plain": "<bound method IndexOpsMixin.tolist of Int64Index([], dtype='int64')>"
     },
     "metadata": {},
     "execution_count": 20
    },
    {
     "output_type": "stream",
     "name": "stdout",
     "text": "nan\nPublisher\n"
    },
    {
     "output_type": "execute_result",
     "data": {
      "text/plain": "<bound method IndexOpsMixin.tolist of Int64Index([], dtype='int64')>"
     },
     "metadata": {},
     "execution_count": 20
    },
    {
     "output_type": "stream",
     "name": "stdout",
     "text": "excluded\nName\n"
    },
    {
     "output_type": "execute_result",
     "data": {
      "text/plain": "<bound method IndexOpsMixin.tolist of Int64Index([], dtype='int64')>"
     },
     "metadata": {},
     "execution_count": 20
    },
    {
     "output_type": "stream",
     "name": "stdout",
     "text": "excluded\nPlatform\n"
    },
    {
     "output_type": "execute_result",
     "data": {
      "text/plain": "<bound method IndexOpsMixin.tolist of Int64Index([], dtype='int64')>"
     },
     "metadata": {},
     "execution_count": 20
    },
    {
     "output_type": "stream",
     "name": "stdout",
     "text": "excluded\nGenre\n"
    },
    {
     "output_type": "execute_result",
     "data": {
      "text/plain": "<bound method IndexOpsMixin.tolist of Int64Index([], dtype='int64')>"
     },
     "metadata": {},
     "execution_count": 20
    },
    {
     "output_type": "stream",
     "name": "stdout",
     "text": "excluded\nPublisher\n"
    },
    {
     "output_type": "execute_result",
     "data": {
      "text/plain": "<bound method IndexOpsMixin.tolist of Int64Index([], dtype='int64')>"
     },
     "metadata": {},
     "execution_count": 20
    }
   ],
   "source": [
    "InteractiveShell.ast_node_interactivity = \"all\"\n",
    "\n",
    "# Found synonyms of null, unknown, nonexistant, n/a, not any etc that might be present in a dataset\n",
    "\n",
    "unknown_synonyms = ['unknown', 'untold', 'undetermined', 'undefined', 'hidden', 'indefinite', 'pending', 'inconclusive', 'unnamed', 'undesignated', 'insignificant', 'nonexistant', 'non-existant', 'missing', 'absent', 'unavailable', 'nonexistent', 'withdrawn', 'null', 'invalid', 'void', 'rescinded', 'repealed', 'blank', 'empty', 'canceled', 'revoked', 'rescinded', 'not any', 'n/a', 'None', 'nan', 'excluded',]\n",
    "\n",
    "# Select columns with dtype 'object' and converting all strings to lowercase\n",
    "obj_cols = ['Name', 'Platform', 'Genre', 'Publisher']\n",
    "\n",
    "obj_vg_df = pd.DataFrame(dtype = 'object')\n",
    "for col in obj_cols:\n",
    "    obj_vg_df[col] = vg_df[col].str.lower()\n",
    "\n",
    "# Recording where the word occus\n",
    "\n",
    "for word in unknown_synonyms:\n",
    "    for col in obj_cols:\n",
    "        print(word)\n",
    "        print(col)\n",
    "        obj_vg_df.index[obj_vg_df[col] == word].tolist\n",
    "\n",
    "\n",
    "#vg_obj_df.where(vg_obj_df in unknown_synonyms)"
   ]
  }
 ],
 "metadata": {
  "language_info": {
   "codemirror_mode": {
    "name": "ipython",
    "version": 3
   },
   "file_extension": ".py",
   "mimetype": "text/x-python",
   "name": "python",
   "nbconvert_exporter": "python",
   "pygments_lexer": "ipython3",
   "version": "3.7.6-final"
  },
  "orig_nbformat": 2,
  "kernelspec": {
   "name": "python37664bittfcondaf0a0b333407b4c12bfca13c48d28a585",
   "display_name": "Python 3.7.6 64-bit ('tf': conda)"
  }
 },
 "nbformat": 4,
 "nbformat_minor": 2
}