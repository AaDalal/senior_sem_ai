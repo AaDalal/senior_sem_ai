{
 "cells": [
  {
   "cell_type": "markdown",
   "metadata": {},
   "source": [
    "# Gradient Boosting (classifier and regression)"
   ]
  },
  {
   "cell_type": "markdown",
   "metadata": {},
   "source": [
    "<center>Resources</center>\n",
    "http://cs229.stanford.edu/notes/cs229-notes-ensemble.pdf"
   ]
  },
  {
   "cell_type": "code",
   "execution_count": 18,
   "metadata": {},
   "outputs": [
    {
     "data": {
      "image/png": "[encoded data removed]",
      "text/plain": [
       "<Figure size 432x288 with 1 Axes>"
      ]
     },
     "metadata": {
      "needs_background": "light"
     },
     "output_type": "display_data"
    },
    {
     "name": "stdout",
     "output_type": "stream",
     "text": [
      "(100, 20)\n",
      "2\n",
      "(100,)\n"
     ]
    }
   ],
   "source": [
    "# From https://stackoverflow.com/a/47964170/13112355\n",
    "\n",
    "import matplotlib.pyplot as plt\n",
    "from sklearn.datasets import make_classification\n",
    "\n",
    "separable = False\n",
    "while not separable:\n",
    "    samples = make_classification(n_samples=100, n_classes = 3, n_clusters_per_class=1, flip_y=-1, class_sep = 0)\n",
    "    red = samples[0][samples[1] == 0]\n",
    "    blue = samples[0][samples[1] == 1]\n",
    "    green = samples[0][samples[1] == 2]\n",
    "    separable = True\n",
    "    #separable = any([red[:, k].max() < blue[:, k].min() or red[:, k].min() > blue[:, k].max() for k in range(2)])\n",
    "plt.plot(red[:, 0], red[:, 1], 'r.')\n",
    "plt.plot(blue[:, 0], blue[:, 1], 'b.')\n",
    "plt.plot(green[:, 0], green[:, 1], 'g.')\n",
    "plt.show()\n",
    "\n",
    "# Our dataset\n",
    "print(samples[0].shape)\n",
    "print(max(samples[1]))\n",
    "print(samples[1].shape)"
   ]
  },
  {
   "cell_type": "code",
   "execution_count": null,
   "metadata": {},
   "outputs": [],
   "source": [
    "# bagging\n",
    "\n"
   ]
  },
  {
   "cell_type": "code",
   "execution_count": 5,
   "metadata": {},
   "outputs": [
    {
     "ename": "SyntaxError",
     "evalue": "unexpected EOF while parsing (<ipython-input-5-84c383d00ad5>, line 5)",
     "output_type": "error",
     "traceback": [
      "\u001b[1;36m  File \u001b[1;32m\"<ipython-input-5-84c383d00ad5>\"\u001b[1;36m, line \u001b[1;32m5\u001b[0m\n\u001b[1;33m    def train_tree():\u001b[0m\n\u001b[1;37m                     ^\u001b[0m\n\u001b[1;31mSyntaxError\u001b[0m\u001b[1;31m:\u001b[0m unexpected EOF while parsing\n"
     ]
    }
   ],
   "source": [
    "# idea: decision trees\n",
    "\n",
    "def train_tree():\n",
    "    def cross_entropy(yHat, y):\n",
    "        \n",
    "    "
   ]
  },
  {
   "cell_type": "markdown",
   "metadata": {},
   "source": [
    "### 1. Type of Data\n",
    "*\n",
    "\n",
    "### 2. Use Case\n",
    "*\n",
    "\n",
    "### 3. Application\n",
    "*\n",
    "\n",
    "### 4. Basic Concept\n",
    "*\n",
    "\n",
    "### 5. Assumptions\n",
    "*\n",
    "\n",
    "### 6. Existing solutions\n",
    "*\n",
    "\n",
    "### 7. Strengths and Weaknesses\n",
    "#### Strengths\n",
    "*\n",
    "\n",
    "#### Weaknesses\n",
    "*"
   ]
  }
 ],
 "metadata": {
  "kernelspec": {
   "display_name": "Python 3.7.1 64-bit ('tf2': conda)",
   "language": "python",
   "name": "tf2"
  },
  "language_info": {
   "codemirror_mode": {
    "name": "ipython",
    "version": 3
   },
   "file_extension": ".py",
   "mimetype": "text/x-python",
   "name": "python",
   "nbconvert_exporter": "python",
   "pygments_lexer": "ipython3",
   "version": "3.7.1"
  }
 },
 "nbformat": 4,
 "nbformat_minor": 2
}
