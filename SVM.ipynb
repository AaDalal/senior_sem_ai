{
 "cells": [
  {
   "cell_type": "markdown",
   "metadata": {},
   "source": [
    "# Support Vector Machines\n",
    "\n",
    "### Vocabulary\n",
    "* Bias: the amount of simplification applied to make the real model easier to estimate\n",
    "* Variance: how much the product is changed by different training data (higher is typically overfitting)\n",
    "* Margins: the distances between the threshhold (descision boundary) and the nearest sample.\n",
    "* Soft margins: allow some misclassification by using a rule like the margin is based on the  2nd correctly classified member of a class.\n",
    "* Support Vector Classifiers: use soft margins to determine the optimal decision boundary. Applies when data can be seperated neatly by 1 line\n",
    "* Support Vector Machine: adds dimensionality to data (you could do this by for example adding an axis that is a function of the previous) so that data that can't be seperated with a straight line or plane in its usual representation.\n",
    "  1. Transform data\n",
    "  2. Apply support vector classifier\n",
    "* Kernel: find representations of the data in higher dimensions\n",
    "  * the polynomial kernel increases the number of dimension along with the degree of the polynomial used to represent the data in that dimension\n",
    "  * radial kernel acts as a weighted k-nearest neighbor classifier\n",
    "* The kernel trick: transforming data to higher dimension and then applying dot product can be simplified to first doing a dot product then doing further transformation. This is a **trick** because doing the dot product first is computationally inexpensive since the dot product is at its center a reductive operation.\n",
    "* Decision boundaries\n",
    "* Support vectors: the samples (vectors) around the decision boundary that contribute to the boundary's location. In the long form of the decision boundary they are the $x_{i}$ with a weights $a_{i} > 0$.\n",
    "* Lagrange multipliers: a modification of the function ( = $=f(x,y)$)you are differentiating to take into account constraints.\n",
    "  * The constraints take on the form of a function ( $= g(x,y)$) set equal to a constant c. The constraint function g(x) is itself constrained onto the space that the main function occupies.\n",
    "  * When the lagrangian acheives a maximum or minimum, the tangent lines of the f and g are parallel and their countour lines are tangent (touching)\n",
    "* SMO (Sequential Minimal Operations): optimizes Lagrangian multipliers two at a time\n",
    "\n",
    "### The Lagrangian\n",
    "* You have a function you want to optimize, $f(x,y)$\n",
    "* But you have a constraint on this function $g(x,y) = c$\n",
    "* Looking at a countour graph, the 2 functions must (by definition) intersect at the constrained max value. At this intersection point, though, they also must share the same tangent line to the countour. This implies that their gradient must also share the same line (parallel or antiparallel) because gradient is perpendicular to the countour line tangent. This can be expressed as such:\n",
    "$$\\nabla f(x,y) = \\lambda \\nabla g(x,y)$$\n",
    "where $\\lambda$ is a constant scalar\n",
    "* Because the gradient is just many partial derivates in vector form, this can be broken down into many equations that can be solved\n",
    "* The lagrangian takes this principle and combines it into 1 component\n",
    "  1. The constraint $g(x,y) = c$ is turned into $g(x,y) - c = 0$\n",
    "  2. The function $f(x,y)$ is turned into the lagrangian $L(x,y,\\lambda) = f(x,y) - \\lambda(g(x,y) - c)$\n",
    "* The lagrangian has the same output as $f(x,y)$ which means that the constraint $g(x,y) - c$ must always be met\n",
    "* The gradient of the lagrangian matches the relationship between gradient of $f(x,y)$ and $g(x,y)$\n",
    "\n",
    "### The (Lagrangian) Dual\n",
    "* The primal is the original maximization problem, and the dual is the minimization form of the same problem\n",
    "* The dual is the problem we want to solve because it is easier\n",
    "* $d* \\leq p*$ because of the way that the problems are formulate (the dual is in the max min form while the primal is in the min max form)\n",
    "* We are specifically looking for the case when the dual is equal to the primal because then we can just solve the dual and get the answer we want\n",
    "\n",
    "### Soft margins\n",
    "* Hard margin: when you require all points in the training set to follow $y_{i}(w^{T}x_i + b) \\geq C$ where c is some constant, typically 1 for ease.\n",
    "* This sacrifices some generalizability, however, when you have outlier points in the training dataset that end up shaping the final decision boundary heavily -- you may end up with a narrower \"street\" than you would otherwise. It also means you might end up with a non-seperable case\n",
    "* Therefore, allow the margins of some points to be ignored: $y_{i}(w^{T}x_i + b) \\geq C - \\xi_{i}$\n",
    "* In effect you create the optimization problem where you try to maximize the size of the street while trying to minimize the amount of soft margin ($\\sum \\xi_{i}$) . The amount that the sum of the soft margin is weighted is denoted by $C$, which is a hyperparameter \n",
    "* C turns out to be upper bound of the lagrangian multiplier (otherwise the dual is the same). This is the only practical trace of the soft margin in implementation\n",
    "\n",
    "### Polyclass Cases\n",
    "* When the classification is more than binary, you simply apply the algorithm to each combination of classes. For m classes $${m(m-1) \\over 2}$$"
   ]
  },
  {
   "cell_type": "markdown",
   "metadata": {},
   "source": [
    "<center>Resources</center>\n",
    "\n",
    "Patrick Winston. 6.034 Artificial Intelligence. Fall 2010. Massachusetts Institute of Technology: MIT OpenCourseWare, https://ocw.mit.edu. License: Creative Commons BY-NC-SA.\n",
    "            \n",
    "https://www.youtube.com/watch?v=efR1C6CvhmE&vl=en\n",
    "\n",
    "\n",
    "Alex Botev (https://math.stackexchange.com/users/39340/alex-botev), Max Min of function less than Min max of function, URL (version: 2018-06-27): https://math.stackexchange.com/q/190489\n",
    "\n",
    "https://stackoverflow.com/a/47964170/13112355\n",
    "\n",
    "https://stackoverflow.com/a/17025929/13112355\n",
    "\n",
    "https://www.microsoft.com/en-us/research/wp-content/uploads/2016/02/svmtutorial.pdf\n",
    "\n",
    "http://cs229.stanford.edu/notes/cs229-notes3.pdf\n",
    "\n",
    "https://www.svm-tutorial.com/2016/09/duality-lagrange-multipliers/\n",
    "\n",
    "https://shuzhanfan.github.io/2018/05/understanding-mathematics-behind-support-vector-machines/\n",
    "\n",
    "https://www.khanacademy.org/math/multivariable-calculus/applications-of-multivariable-derivatives/constrained-optimization/a/lagrange-multipliers-single-constraint\n",
    "\n",
    "Platt, J. (1998). Sequential Minimal Optimization: A Fast Algorithm for Training Support Vector Machines. Microsoft Research Technical Report.\n",
    "\n",
    "http://cs229.stanford.edu/materials/smo.pdf"
   ]
  },
  {
   "cell_type": "code",
   "execution_count": 1,
   "metadata": {},
   "outputs": [],
   "source": [
    "from matplotlib import style\n",
    "import matplotlib.pyplot as plt\n",
    "import numpy as np\n",
    "\n",
    "style.use('ggplot')"
   ]
  },
  {
   "cell_type": "code",
   "execution_count": 2,
   "metadata": {},
   "outputs": [],
   "source": [
    "# The svm wants to increase the seperation to each class\n",
    "# Assume that the decision bounary has already been found. How can we use it?\n",
    "\n",
    "class svm:\n",
    "    def __init__(self, rng, visualization = True):\n",
    "        self.visualization = visualization\n",
    "        self.w = np.random.randn(2)\n",
    "        self.a = None\n",
    "        self.b = 0.0\n",
    "        self.rng = rng\n",
    "        if self.visualization:\n",
    "            self.fig, self.ax = plt.subplots()\n",
    "    \n",
    "    def calc_w(self, x, y, a = None):\n",
    "        if a == None:\n",
    "            a = self.a\n",
    "        self.w = np.sum(a.reshape(-1,1) * y.reshape(-1,1) * x, axis = 0)\n",
    "        \n",
    "    def fit(self, data, K, max_passes, C, tol, recalc_w = True, reuse_a = True):\n",
    "        \"\"\"\n",
    "        Fit the SVM using the methods outlined by Andrew Ng (from CS229 at Stanford) and Platt (from Microsoft)\n",
    "        \n",
    "        Parameters:\n",
    "        ---------\n",
    "        data: list\n",
    "            data[0] is np array of shape (n_samples, n_features). data[1] is a np array of shape (n_samples) containing truth values (-1 or 1).\n",
    "        K: function\n",
    "            kernel function used\n",
    "        max_passes: int\n",
    "            the number of times that no lagrange multipliers are optimized before the function terminates.\n",
    "        C:\n",
    "            The maximum value of any lagrange multplier. In the theory behind the algorithm, this is how heavily \"soft\" examples are meant to be minimized\n",
    "        tol: float\n",
    "            the tolerance area where the error is considered to be acceptable\n",
    "        recalc_w: bool, default = True\n",
    "            whether to calculate w and assign it to self.w at the end of the fit\n",
    "        reuse_a: bool, defulat = True\n",
    "            whether to use a previous run's lagrange multipliers in the current run.\n",
    "        \"\"\"\n",
    "        \n",
    "        \n",
    "        # Helper functions to clean up code\n",
    "        def L_H(a, y, i, j, C):\n",
    "            # sum(ai*yi) = 0\n",
    "            # therefore: a1*y1 + a2*y1 = constant, which means that there is a line that contains all combos of a1 and a2 \n",
    "            # H is the maximum value  of a2 (governed by that line) within the boundbox of c\n",
    "            # L is the minimum value\n",
    "            a1 = a[i]\n",
    "            a2 = a[j]\n",
    "\n",
    "            if y[i] != y[j]:\n",
    "                L = max(0, a2-a1)\n",
    "                H = min(C, C + a2 - a1)\n",
    "            else:\n",
    "                L = max(0, a1 + a2 - C)\n",
    "                H = min(C, a1 + a2)\n",
    "            \n",
    "            return (L, H)  \n",
    "\n",
    "        def calc_fx(i, K, a, y, x, b):\n",
    "            sum = b\n",
    "            for k in range(len(x)):\n",
    "                sum += a[k]*y[k]*K(x[k], x[i])\n",
    "            return sum\n",
    "        \n",
    "        x = data[0]\n",
    "        y = data[1]\n",
    "        if self.a != None and reuse_a == True:\n",
    "            a = self.a\n",
    "        else:\n",
    "            a = np.zeros(len(x))\n",
    "        \n",
    "        self.K = K\n",
    "        \n",
    "        # passes is the number of passes since anything has changed\n",
    "        passes = 0\n",
    "        while passes < max_passes:\n",
    "            num_changed_alphas = 0\n",
    "            for i, ai in enumerate(a):\n",
    "                \n",
    "                # The numerical \"error\" in the prediction. This is the functional margin - yi\n",
    "                Ei = calc_fx(i, K, a, y, x, self.b) - y[i]\n",
    "                \n",
    "                # KKT conditions are the optimization constraints. For all i\n",
    "                # ai = 0, yi*f(xi) >= 0 (non supporting vectors) \n",
    "                # when 0<ai<C, yi*f(xi) = 1\n",
    "                # when ai = C, yi*f(xi) <= 1 (ai must be C when this is the case because this means that this an example within the margin ie, part of the soft margin)\n",
    "                \n",
    "                if ((y[i]*Ei < -tol and ai < C) or (y[i]*Ei > tol and ai > 0)):\n",
    "                    \n",
    "                    j = self.rng.choice(np.arange(len(a))[np.arange(len(a)) != i])\n",
    "                    Ej = calc_fx(j, K, a, y, x, self.b) - y[j]\n",
    "                    aj = a[j]\n",
    "                    \n",
    "                    # sum(ai*yi) = 0\n",
    "                    # therefore: a1*y1 + a2*y1 = constant, which means that there is a line that contains all combos of a1 and a2 \n",
    "                    # H is the maximum value  of a2 (governed by that line) within the boundbox of c\n",
    "                    # L is the minimum value\n",
    "                    L, H = L_H(a, y, i, j, C)\n",
    "                    if L == H:\n",
    "                        continue\n",
    "                    \n",
    "                    \n",
    "                    eta = 2*np.dot(x[i].T, x[j]) - np.dot(x[i].T, x[i]) - np.dot(x[j].T, x[j]) # Compare the similarity of x1 and x2 and each individually\n",
    "                    if eta >= 0:\n",
    "                        continue\n",
    "                    \n",
    "                    # \"Clipping\" the value of a2 to fit within the boundbox using L and H (see above) \n",
    "                    aj_new = aj - (y[j]*(Ei - Ej)) / eta\n",
    "                    if aj_new > H:\n",
    "                        aj_new = H\n",
    "                    elif aj_new < L:\n",
    "                        aj_new = L\n",
    "                    \n",
    "                    # If aj_new is small enough of a change, there's no point updating other vars\n",
    "                    if (abs(aj_new - aj) < 10**(-5)):\n",
    "                        a[j] = aj_new\n",
    "                        continue\n",
    "                    ai_new = ai + y[i]*y[j]*(aj - aj_new)\n",
    "                    \n",
    "                    # General ideas: subtract the amount of error so you can eleminate the error and fulfill KKT conditions\n",
    "                    b1 = self.b - Ei - y[i]*(ai_new - ai)*K(x[i], x[i]) - y[j]*(aj_new - aj)*K(x[i], x[j])\n",
    "                    b2 = self.b - Ej - y[j]*(ai_new - ai)*K(x[i], x[j]) - y[j]*(aj_new - aj)*K(x[j], x[j])\n",
    "                    \n",
    "                    if 0<ai_new<C:\n",
    "                        self.b = b1\n",
    "                    elif 0<aj_new<C:\n",
    "                        self.b = b2\n",
    "                    else:\n",
    "                        (b1+b2)/2\n",
    "                    \n",
    "                    a[i] = ai_new\n",
    "                    a[j] = aj_new\n",
    "                    \n",
    "                    num_changed_alphas += 1\n",
    "            if num_changed_alphas == 0:\n",
    "                passes += 1\n",
    "            else:\n",
    "                passes = 0\n",
    "        \n",
    "        self.a = a\n",
    "        if recalc_w:\n",
    "            self.calc_w(x, y,)\n",
    "        \n",
    "    def predict(self, x):\n",
    "        return np.sign(self.K(x, self.w) + self.b)"
   ]
  },
  {
   "cell_type": "code",
   "execution_count": 3,
   "metadata": {},
   "outputs": [
    {
     "data": {
      "image/png": "[encoded data removed]",
      "text/plain": [
       "<Figure size 432x288 with 1 Axes>"
      ]
     },
     "metadata": {
      "needs_background": "light"
     },
     "output_type": "display_data"
    },
    {
     "name": "stdout",
     "output_type": "stream",
     "text": [
      "(100, 2)\n",
      "(100,)\n"
     ]
    }
   ],
   "source": [
    "# From https://stackoverflow.com/a/47964170/13112355\n",
    "\n",
    "from sklearn.datasets import make_classification\n",
    "\n",
    "separable = False\n",
    "while not separable:\n",
    "    samples = make_classification(n_samples=100, n_features=2, n_redundant=0, n_informative=1, n_clusters_per_class=1, flip_y=-1, class_sep = 2)\n",
    "    red = samples[0][samples[1] == 0]\n",
    "    blue = samples[0][samples[1] == 1]\n",
    "    separable = any([red[:, k].max() < blue[:, k].min() or red[:, k].min() > blue[:, k].max() for k in range(2)])\n",
    "plt.plot(red[:, 0], red[:, 1], 'r.')\n",
    "plt.plot(blue[:, 0], blue[:, 1], 'b.')\n",
    "plt.show()\n",
    "\n",
    "# Our dataset\n",
    "print(samples[0].shape)\n",
    "print(samples[1].shape)\n",
    "\n",
    "samples[1][samples[1] == 0] = -1"
   ]
  },
  {
   "cell_type": "code",
   "execution_count": 19,
   "metadata": {
    "collapsed": true,
    "jupyter": {
     "outputs_hidden": true
    }
   },
   "outputs": [
    {
     "data": {
      "image/png": "[encoded data removed]",
      "text/plain": [
       "<Figure size 432x288 with 1 Axes>"
      ]
     },
     "metadata": {
      "needs_background": "light"
     },
     "output_type": "display_data"
    }
   ],
   "source": [
    "rng = np.random.default_rng()\n",
    "\n",
    "model = svm(rng,)\n",
    "\n",
    "def poly_k(x,z):\n",
    "    return np.dot(x.T,z)\n",
    "\n",
    "model.fit(samples, poly_k, 100, 1, 10**(-3))"
   ]
  },
  {
   "cell_type": "code",
   "execution_count": 20,
   "metadata": {},
   "outputs": [
    {
     "name": "stdout",
     "output_type": "stream",
     "text": [
      "w: [ 0.78847593 -0.01379514] b: -0.5441876926565637\n",
      "True\n",
      "5.0\n"
     ]
    },
    {
     "data": {
      "text/plain": [
       "Text(0.5,1,'Decision Boundary from Custom SVC')"
      ]
     },
     "execution_count": 20,
     "metadata": {},
     "output_type": "execute_result"
    },
    {
     "data": {
      "image/png": "[encoded data removed]",
      "text/plain": [
       "<Figure size 432x288 with 1 Axes>"
      ]
     },
     "metadata": {
      "needs_background": "light"
     },
     "output_type": "display_data"
    }
   ],
   "source": [
    "print('w:', model.w, 'b:', model.b)\n",
    "\n",
    "x = np.linspace(-5,5, num = 100)\n",
    "y = np.linspace(-5,5, num = 100)\n",
    "\n",
    "x_plus = np.concatenate(np.split(np.stack([x]*len(y)), len(x), axis = 1))\n",
    "y_plus = np.concatenate([x]*len(x))\n",
    "\n",
    "c = np.zeros(x_plus.shape[0])\n",
    "\n",
    "for i, x_y in enumerate(zip(x_plus, y_plus)):\n",
    "    pred = model.predict(np.array(x_y))\n",
    "    if pred == 1:\n",
    "        c[i] = 1\n",
    "\n",
    "print(np.any(c == 1))\n",
    "\n",
    "red_x = x_plus[c == 0]\n",
    "red_y = y_plus[c == 0]\n",
    "\n",
    "blue_x = x_plus[c == 1]\n",
    "blue_y = y_plus[c == 1]\n",
    "\n",
    "plt.plot(red_x, red_y, 'r.')\n",
    "plt.plot(blue_x, blue_y, 'b.')\n",
    "\n",
    "print(max(red_y))\n",
    "plt.title('Decision Boundary from Custom SVC')"
   ]
  },
  {
   "cell_type": "code",
   "execution_count": 6,
   "metadata": {},
   "outputs": [
    {
     "data": {
      "image/png": "[encoded data removed]",
      "text/plain": [
       "<Figure size 432x288 with 1 Axes>"
      ]
     },
     "metadata": {
      "needs_background": "light"
     },
     "output_type": "display_data"
    }
   ],
   "source": [
    "pred_arr = []\n",
    "for x in samples[0]:\n",
    "    pred = np.sign(np.dot(x, model.w) + model.b)\n",
    "    pred_arr.append(pred)\n",
    "pred_arr = np.array(pred_arr)\n",
    "    \n",
    "red = samples[0][pred_arr == -1]\n",
    "blue = samples[0][pred_arr == 1]\n",
    "\n",
    "plt.plot(red[:, 0], red[:, 1], 'r.')\n",
    "plt.plot(blue[:, 0], blue[:, 1], 'b.')\n",
    "plt.show()"
   ]
  },
  {
   "cell_type": "code",
   "execution_count": 7,
   "metadata": {
    "collapsed": true,
    "jupyter": {
     "outputs_hidden": true
    }
   },
   "outputs": [
    {
     "data": {
      "image/png": "[encoded data removed]",
      "text/plain": [
       "<Figure size 432x288 with 1 Axes>"
      ]
     },
     "metadata": {
      "needs_background": "light"
     },
     "output_type": "display_data"
    }
   ],
   "source": [
    "from sklearn.datasets import make_circles\n",
    "\n",
    "nl_data = make_circles(n_samples = 500, noise = 0.0) \n",
    "\n",
    "def poly_k_3d(x,z):\n",
    "    return np.dot(x.T,z)**2\n",
    "\n",
    "nl_model = svm(rng)\n",
    "nl_model.fit(nl_data, poly_k_3d, 100, 1, 10**(-3))"
   ]
  },
  {
   "cell_type": "code",
   "execution_count": 14,
   "metadata": {},
   "outputs": [
    {
     "name": "stdout",
     "output_type": "stream",
     "text": [
      "w: [0. 0.] b: 0.0\n",
      "False\n"
     ]
    },
    {
     "data": {
      "text/plain": [
       "[<matplotlib.lines.Line2D at 0x1c96bf45278>]"
      ]
     },
     "execution_count": 14,
     "metadata": {},
     "output_type": "execute_result"
    },
    {
     "data": {
      "image/png": "[encoded data removed]",
      "text/plain": [
       "<Figure size 432x288 with 1 Axes>"
      ]
     },
     "metadata": {
      "needs_background": "light"
     },
     "output_type": "display_data"
    }
   ],
   "source": [
    "print('w:', nl_model.w, 'b:', nl_model.b)\n",
    "\n",
    "x = np.linspace(-5,5, num = 100)\n",
    "y = np.linspace(-5,5, num = 100)\n",
    "\n",
    "x_plus = np.concatenate(np.split(np.stack([x]*len(y)), len(x), axis = 1))\n",
    "y_plus = np.concatenate([x]*len(x))\n",
    "\n",
    "c = np.zeros(x_plus.shape[0])\n",
    "\n",
    "for i, x_y in enumerate(zip(x_plus, y_plus)):\n",
    "    pred = nl_model.predict(np.array(x_y))\n",
    "    if pred == 1:\n",
    "        c[i] = 1\n",
    "\n",
    "print(np.any(c == 1))\n",
    "\n",
    "red_x = x_plus[c == 0]\n",
    "red_y = y_plus[c == 0]\n",
    "\n",
    "blue_x = x_plus[c == 1]\n",
    "blue_y = y_plus[c == 1]\n",
    "\n",
    "plt.plot(red_x, red_y, 'r.')\n",
    "plt.plot(blue_x, blue_y, 'b.')"
   ]
  },
  {
   "cell_type": "code",
   "execution_count": 43,
   "metadata": {
    "collapsed": true,
    "jupyter": {
     "outputs_hidden": true,
     "source_hidden": true
    }
   },
   "outputs": [
    {
     "name": "stdout",
     "output_type": "stream",
     "text": [
      "     fun: 1.3374321699559069e-05\n",
      "     jac: array([ 0.00517002, -0.00013994])\n",
      " message: 'Optimization terminated successfully'\n",
      "    nfev: 2\n",
      "     nit: 2\n",
      "    njev: 2\n",
      "  status: 0\n",
      " success: True\n",
      "       x: array([ 0.00517002, -0.00013994])\n"
     ]
    }
   ],
   "source": [
    "# Adapted from https://stackoverflow.com/a/17025929/13112355\n",
    "\n",
    "from scipy import optimize\n",
    "from mpl_toolkits.mplot3d.axes3d import Axes3D\n",
    "\n",
    "# x is what we would call w\n",
    "# H is what we would call x\n",
    "\n",
    "x0 = np.random.randn(2)\n",
    "\n",
    "b = 0\n",
    "\n",
    "\n",
    "\n",
    "def loss(x, sign = 1.):\n",
    "    return sign * (.5*(np.linalg.norm(x))**2)\n",
    "\n",
    "def jac(x, sign = 1.):\n",
    "    return (sign * x)\n",
    "\n",
    "cons = {\n",
    "    'type':'ineq',\n",
    "    'fun':lambda x: np.dot(y,(np.dot(H, x + b))) - 1,\n",
    "    'jac':lambda x: np.dot(y.T, H)\n",
    "}\n",
    "\n",
    "opt = {'disp':False}\n",
    "\n",
    "def solve():\n",
    "    res_cons = optimize.minimize(loss, x0, jac = jac, constraints = cons, method = 'SLSQP', options = opt)\n",
    "    \n",
    "    return res_cons\n",
    "\n",
    "res_cons = solve()\n",
    "\n"
   ]
  },
  {
   "cell_type": "code",
   "execution_count": 55,
   "metadata": {
    "collapsed": true,
    "jupyter": {
     "outputs_hidden": true,
     "source_hidden": true
    }
   },
   "outputs": [
    {
     "name": "stderr",
     "output_type": "stream",
     "text": [
      "C:\\Users\\HP\\Anaconda3\\envs\\tf2\\lib\\site-packages\\ipykernel_launcher.py:8: RuntimeWarning: invalid value encountered in multiply\n",
      "  \n",
      "C:\\Users\\HP\\Anaconda3\\envs\\tf2\\lib\\site-packages\\ipykernel_launcher.py:13: RuntimeWarning: invalid value encountered in multiply\n",
      "  del sys.path[0]\n"
     ]
    },
    {
     "data": {
      "image/png": "[encoded data removed]",
      "text/plain": [
       "<Figure size 432x288 with 1 Axes>"
      ]
     },
     "metadata": {},
     "output_type": "display_data"
    },
    {
     "data": {
      "text/plain": [
       "(array([          1,          10,         100,        1000,       10000,\n",
       "             100000,     1000000,    10000000,   100000000,  1000000000,\n",
       "         1410065408,  1215752192,  -727379968,  1316134912,   276447232,\n",
       "        -1530494976,  1874919424,  1569325056, -1486618624, -1981284352,\n",
       "         1661992960,  -559939584, -1304428544,  -159383552, -1593835520,\n",
       "         1241513984,  -469762048,  -402653184,   268435456, -1610612736,\n",
       "         1073741824, -2147483648,           0,           0,           0,\n",
       "                  0,           0,           0,           0,           0,\n",
       "                  0,           0,           0,           0,           0,\n",
       "                  0,           0,           0,           0,           0,\n",
       "                  0,           0,           0,           0,           0,\n",
       "                  0,           0,           0,           0,           0,\n",
       "                  0,           0,           0,           0,           0,\n",
       "                  0,           0,           0,           0,           0,\n",
       "                  0,           0,           0,           0,           0,\n",
       "                  0,           0,           0,           0,           0,\n",
       "                  0,           0,           0,           0,           0,\n",
       "                  0,           0,           0,           0,           0,\n",
       "                  0,           0,           0,           0,           0,\n",
       "                  0,           0,           0,           0,           0],\n",
       "       dtype=int32),\n",
       " [0.0008592999947723001,\n",
       "  0.0007597999938298017,\n",
       "  0.0006247000128496438,\n",
       "  0.0009448000055272132,\n",
       "  0.0006310000026132911,\n",
       "  0.0006685999978799373,\n",
       "  0.00040869999793358147,\n",
       "  0.0005464999994728714,\n",
       "  0.0003954000130761415,\n",
       "  0.00031450000824406743,\n",
       "  0.0005779000057373196,\n",
       "  0.0006201999785844237,\n",
       "  0.0005939999828115106,\n",
       "  0.0002673999988473952,\n",
       "  0.00022990000434219837,\n",
       "  0.00023150001652538776,\n",
       "  0.0003468999930191785,\n",
       "  0.00044350000098347664,\n",
       "  0.0003161999920848757,\n",
       "  0.00022690001060254872,\n",
       "  0.0002066000015474856,\n",
       "  0.00020500001846812665,\n",
       "  0.0002117999829351902,\n",
       "  0.00020340000628493726,\n",
       "  0.00020399998174980283,\n",
       "  0.00020249999943189323,\n",
       "  0.00020750000840052962,\n",
       "  0.0002204999909736216,\n",
       "  0.00020429998403415084,\n",
       "  0.00020199999562464654,\n",
       "  0.00020290000247769058,\n",
       "  0.00020650000078603625,\n",
       "  0.0012380999978631735,\n",
       "  0.00043459999142214656,\n",
       "  0.0003986999799963087,\n",
       "  0.0003873000096064061,\n",
       "  0.0003834999806713313,\n",
       "  0.00038400001358240843,\n",
       "  0.00036169998929835856,\n",
       "  0.00035799999022856355,\n",
       "  0.00041760000749491155,\n",
       "  0.00036180001916363835,\n",
       "  0.0006954999989829957,\n",
       "  0.0008911000040825456,\n",
       "  0.0008504999859724194,\n",
       "  0.0012058999855071306,\n",
       "  0.000762399984523654,\n",
       "  0.0009135000000242144,\n",
       "  0.0006896000122651458,\n",
       "  0.0007756999984849244,\n",
       "  0.0020032999746035784,\n",
       "  0.0017995999951381236,\n",
       "  0.0008607000054325908,\n",
       "  0.0008384999819099903,\n",
       "  0.0008222000033129007,\n",
       "  0.0008970999915618449,\n",
       "  0.0008810999861452729,\n",
       "  0.0005762999935541302,\n",
       "  0.000446999998530373,\n",
       "  0.0004321000014897436,\n",
       "  0.0003782999992836267,\n",
       "  0.0003583999932743609,\n",
       "  0.00036070001078769565,\n",
       "  0.00035299998125992715,\n",
       "  0.00035170000046491623,\n",
       "  0.00074230000609532,\n",
       "  0.0007974000182002783,\n",
       "  0.000601100007770583,\n",
       "  0.00040040002204477787,\n",
       "  0.00036200002068653703,\n",
       "  0.00036700000055134296,\n",
       "  0.000354900024831295,\n",
       "  0.00035200000274926424,\n",
       "  0.0003591999993659556,\n",
       "  0.00035119999665766954,\n",
       "  0.0003515999997034669,\n",
       "  0.0003591999993659556,\n",
       "  0.0003522999759297818,\n",
       "  0.0003954000130761415,\n",
       "  0.00036249999538995326,\n",
       "  0.0007741999870631844,\n",
       "  0.000592500000493601,\n",
       "  0.0003983000060543418,\n",
       "  0.00035860002390109,\n",
       "  0.00035519999801181257,\n",
       "  0.0004101000085938722,\n",
       "  0.00038499999209307134,\n",
       "  0.00043680000817403197,\n",
       "  0.0007202999840956181,\n",
       "  0.0004188000166323036,\n",
       "  0.0003732000186573714,\n",
       "  0.00039000000106170774,\n",
       "  0.00045289998524822295,\n",
       "  0.0003766000154428184,\n",
       "  0.00042340002255514264,\n",
       "  0.0004856999730691314,\n",
       "  0.0004400000034365803,\n",
       "  0.0003699999942909926,\n",
       "  0.0003552999987732619,\n",
       "  0.000391699984902516])"
      ]
     },
     "execution_count": 55,
     "metadata": {},
     "output_type": "execute_result"
    }
   ],
   "source": [
    "import timeit as tt\n",
    "\n",
    "def squared_no_k(n):\n",
    "    x_set = np.linspace(10**100, n, dtype=np.float32)\n",
    "    \n",
    "    dots0 = []\n",
    "    for x in x_set:\n",
    "        dots0.append(x*x_set)\n",
    "    dots0 = np.concatenate(dots0).reshape(-1,1)\n",
    "    \n",
    "    dots1 = []\n",
    "    for x in x_set:\n",
    "        dots1.append(x*x_set)\n",
    "    dots1 = np.concatenate(dots1).reshape(-1, 1)\n",
    "\n",
    "    return np.dot(dots0.T, dots1)\n",
    "\n",
    "def squared_k(n):\n",
    "    x_set = np.linspace(10*100, n, dtype = np.float32)\n",
    "    \n",
    "    return (np.dot(x_set,x_set))**2\n",
    "    \n",
    "def o_time_calc(func, Ns , disp_plots = True):\n",
    "    \n",
    "    Ns = np.array(Ns)\n",
    "    \n",
    "    timings = []\n",
    "    for N in Ns:\n",
    "        start = tt.default_timer()\n",
    "        func(n = N)\n",
    "        end = tt.default_timer()\n",
    "        timings.append(end-start)\n",
    "    \n",
    "    if disp_plots:\n",
    "        plt.plot(Ns, timings, 'bo', label = 'func.__name__')\n",
    "        #plt.plot(Ns, np.log(np.array(Ns)), 'r', label = 'o(log(n))')\n",
    "        #plt.plot(Ns, Ns**2, 'orange', label = 'o(n^2)')\n",
    "        #plt.plot(Ns, Ns, 'g', label = 'o(n)')\n",
    "        plt.legend()\n",
    "        plt.show()\n",
    "    return (Ns, timings)\n",
    "\n",
    "o_time_calc(func = squared_no_k, Ns = 10**np.arange(100),)"
   ]
  },
  {
   "cell_type": "code",
   "execution_count": 17,
   "metadata": {},
   "outputs": [
    {
     "name": "stdout",
     "output_type": "stream",
     "text": [
      "[-1] <-- as expected\n",
      "True\n",
      "Roughly same as custom SVC:\n"
     ]
    },
    {
     "data": {
      "image/png": "[encoded data removed]",
      "text/plain": [
       "<Figure size 432x288 with 1 Axes>"
      ]
     },
     "metadata": {
      "needs_background": "light"
     },
     "output_type": "display_data"
    }
   ],
   "source": [
    "from sklearn.svm import LinearSVC\n",
    "\n",
    "model = LinearSVC()\n",
    "model.fit(samples[0], samples[1])\n",
    "labels = model.predict(np.array([0,0]).reshape(1,2))\n",
    "print(labels, '<-- as expected')\n",
    "\n",
    "x = np.linspace(-5,5, num = 100)\n",
    "y = np.linspace(-5,5, num = 100)\n",
    "\n",
    "x_plus = np.concatenate(np.split(np.stack([x]*len(y)), len(x), axis = 1))\n",
    "y_plus = np.concatenate([x]*len(x))\n",
    "\n",
    "c = np.zeros(x_plus.shape[0])\n",
    "\n",
    "for i, x_y in enumerate(zip(x_plus, y_plus)):\n",
    "    pred = model.predict(np.array(x_y).reshape(1,-1))\n",
    "    if pred == 1:\n",
    "        c[i] = 1\n",
    "\n",
    "print(np.any(c == 1))\n",
    "\n",
    "red_x = x_plus[c == 0]\n",
    "red_y = y_plus[c == 0]\n",
    "\n",
    "blue_x = x_plus[c == 1]\n",
    "blue_y = y_plus[c == 1]\n",
    "\n",
    "plt.plot(red_x, red_y, 'r.')\n",
    "plt.plot(blue_x, blue_y, 'b.')\n",
    "\n",
    "plt.title('Decision Boundary from sklearn LinearSVC')\n",
    "print('Roughly same as custom SVC:')"
   ]
  },
  {
   "cell_type": "markdown",
   "metadata": {},
   "source": [
    "### 1. Type of Data\n",
    "* Data that can be mapped numerically\n",
    "\n",
    "### 2. Use Case\n",
    "* When you are looking to categorize data with great effect\n",
    "* When you want a clearly interpretable result\n",
    "* When you are looking for a maximal margin\n",
    "\n",
    "### 3. Application\n",
    "* Any categorization area\n",
    "* Has been surpassed by XGBoost (tree based algorithm)\n",
    "\n",
    "### 4. Basic Concept\n",
    "* Seperate data using a line (or another kind of hyperplane) and make the distance between teh data and the seperating line as big as possible\n",
    "* When you encounter non-linear data, use transformations to a higher dimension to make it linearly seperable\n",
    "\n",
    "### 5. Assumptions\n",
    "* Categories exist\n",
    "* The optimal line on the training data will represent the best line for test data\n",
    "  * General assumption for all ML algorithms\n",
    "* Mapping to a higher dimension can be achieved\n",
    "\n",
    "### 6. Existing solutions\n",
    "* SKlearn\n",
    "\n",
    "### 7. Strengths and Weaknesses\n",
    "#### Strengths\n",
    "* In linear cases\n",
    "* Mathematical understandability\n",
    "* Don't succumb to the diminishing gradient problem\n",
    "* Can always find global maximum given proper SMO (see Platt) implementation\n",
    "\n",
    "#### Weaknesses\n",
    "* Not as effective as XGBoost and other gradient boosted forest classifiers"
   ]
  }
 ],
 "metadata": {
  "kernelspec": {
   "display_name": "Python 3.7.1 64-bit ('tf2': conda)",
   "language": "python",
   "name": "tf2"
  },
  "language_info": {
   "codemirror_mode": {
    "name": "ipython",
    "version": 3
   },
   "file_extension": ".py",
   "mimetype": "text/x-python",
   "name": "python",
   "nbconvert_exporter": "python",
   "pygments_lexer": "ipython3",
   "version": "3.7.1"
  }
 },
 "nbformat": 4,
 "nbformat_minor": 4
}
