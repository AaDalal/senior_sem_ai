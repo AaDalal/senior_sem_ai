{
 "cells": [
  {
   "cell_type": "markdown",
   "metadata": {},
   "source": [
    "# Least Squares Regression\n",
    "* Type of Data: Continuous\n",
    "* Basic Concept: Minimize distance from all data points by minimizing function: sum((Yi-Ypredictedi)^2) (also known as residual sum of squares, RSS)\n",
    "* Use case: as a predictive model\n",
    "  * Continuation of the line of reasoning that first asks if there is a relationship, asks about the strength of the relationship, (James et al, 2013, p. 59-60)\n",
    "\n",
    "## General Linear Model\n",
    "* Data = Model + Error\n",
    "* Error is random, with a mean of zero due to how the model is fitted to the data\n",
    "* We are trying to approximate the model in the ideal GLM (where the error is truly random)\n",
    "* Model of form y = mx + b (m is now called Beta1 and b Beta0)\n",
    "* We are trying to find the true model for the entire population based on the sample we have available\n",
    "  * The central idea is that as you increase the samples, the sample mean line of best fit will match the true line of best fit\n",
    "  \n",
    "## Strengths and weaknesses\n",
    "+ Strength: The least squares linear model is extremely simple and easy to implement\n",
    "- Weakness: However, due to this simplicity it often oversimplifies real world problems and makes it easy for rigorous testing of the model to get overlooked"
   ]
  },
  {
   "cell_type": "markdown",
   "metadata": {},
   "source": [
    "<style> \n",
    "div {line-height: 2}\n",
    "</style>\n",
    "<div class='bib'>\n",
    "<center>Resources</center>\n",
    "Gareth James, Daniela Witten, Trevor Hastie, Robert Tibshirani. (2013). An introduction to statistical learning: with applications in R. New York: Springer\n",
    "\n",
    "https://github.com/JWarmenhoven/ISLR-python#readmehttps://github.com/JWarmenhoven/ISLR-python#readme\n",
    "\n",
    "Scikit-learn: Machine Learning in Python, Pedregosa et al., JMLR 12, pp. 2825-2830, 2011.\n",
    "</div>\n"
   ]
  },
  {
   "cell_type": "code",
   "execution_count": 3,
   "metadata": {
    "tags": []
   },
   "outputs": [
    {
     "name": "stdout",
     "output_type": "stream",
     "text": [
      "b0 7.032593549127698\n",
      "b1 0.047536640433019736\n"
     ]
    },
    {
     "data": {
      "image/png": "[encoded data removed]",
      "text/plain": [
       "<Figure size 432x288 with 1 Axes>"
      ]
     },
     "metadata": {
      "needs_background": "light"
     },
     "output_type": "display_data"
    }
   ],
   "source": [
    "import pandas as pd\n",
    "import numpy as np\n",
    "import seaborn as sns\n",
    "import matplotlib.pyplot as plt\n",
    "\n",
    "# Minimization of RSS with the variables Beta0 and Beta1\n",
    "# This can be used by computign the partial derivatives of RSS in terms of Beta0 and then Beta1 in order to find the following formula for Beta0 and Beta1\n",
    "\n",
    "def b0(x,y,beta1):\n",
    "    y_mean = sum(y)/len(y)\n",
    "    x_mean = sum(x)/len(x)\n",
    "    \n",
    "    b0 = y_mean - beta1*x_mean  \n",
    "    return b0\n",
    "\n",
    "def b1(x,y):\n",
    "    x = np.array(x)\n",
    "    y = np.array(y)\n",
    "\n",
    "    y_mean = np.sum(y)/len(y)\n",
    "    x_mean = np.sum(x)/len(x)\n",
    "\n",
    "    b1 = np.sum((x-x_mean)*(y-y_mean))/np.sum(\n",
    "        (x-x_mean)*(x-x_mean))\n",
    "    return b1\n",
    "\n",
    "# Import advertising dataset\n",
    "# This dataset is used to show the relationship between advertising budget and sales\n",
    "# This is a dataset of sample means\n",
    "\n",
    "import pathlib\n",
    "\n",
    "adv_df = pd.read_csv(pathlib.Path('.\\datasets\\Advertising.csv'))\n",
    "\n",
    "b1_ = b1(adv_df.TV.values, adv_df.Sales.values)\n",
    "\n",
    "b0_ = b0(adv_df.TV.values, adv_df.Sales.values, b1_)\n",
    "\n",
    "print('b0',b0_)\n",
    "print('b1',b1_)\n",
    "\n",
    "X = adv_df.TV.values\n",
    "Y = adv_df.Sales.values\n",
    "\n",
    "plt.scatter(X,Y, label = 'observations')\n",
    "plt.plot(X, X*b1_ + b0_, c = 'r', alpha = .5, label = 'regression line')\n",
    "plt.title('Relationship between Television Advertising Budget and Sales')\n",
    "plt.xlabel('Television Advertisement Dollars (in thousands of dollars)')\n",
    "plt.ylabel('Sales (in thousands)')\n",
    "plt.legend()\n",
    "plt.show()"
   ]
  },
  {
   "cell_type": "code",
   "execution_count": 3,
   "metadata": {},
   "outputs": [
    {
     "ename": "TypeError",
     "evalue": "t_statistic() missing 1 required positional argument: 'variance'",
     "output_type": "error",
     "traceback": [
      "\u001b[1;31m---------------------------------------------------------------------------\u001b[0m",
      "\u001b[1;31mTypeError\u001b[0m                                 Traceback (most recent call last)",
      "\u001b[1;32m<ipython-input-3-7547e1513842>\u001b[0m in \u001b[0;36m<module>\u001b[1;34m\u001b[0m\n\u001b[0;32m     14\u001b[0m \u001b[1;33m\u001b[0m\u001b[0m\n\u001b[0;32m     15\u001b[0m \u001b[1;33m\u001b[0m\u001b[0m\n\u001b[1;32m---> 16\u001b[1;33m \u001b[0mt_statistic\u001b[0m\u001b[1;33m(\u001b[0m\u001b[0mb1_\u001b[0m\u001b[1;33m,\u001b[0m \u001b[1;36m0\u001b[0m\u001b[1;33m,\u001b[0m \u001b[1;33m)\u001b[0m\u001b[1;33m\u001b[0m\u001b[1;33m\u001b[0m\u001b[0m\n\u001b[0m",
      "\u001b[1;31mTypeError\u001b[0m: t_statistic() missing 1 required positional argument: 'variance'"
     ]
    }
   ],
   "source": [
    "# Evaluating the wether there is indeed a relationship\n",
    "\n",
    "# Null hypthesis: these is no linear relationship, therefore the slope (beta1) is 0\n",
    "# Use a t-test to determine whether we can reject the null (with p=.05)\n",
    "# Note: the t-statistic (and most statistics, including the f-statistic) assume that you are interested in more than just the data at hand, hence you would neeed to use \n",
    "\n",
    "def t_statistic(observed, if_null_true, variance):\n",
    "    t_stat = (observed - if_null_true) / (variance) \n",
    "    return t_stat\n",
    "\n",
    "# Variance for beta1: var(b1)\n",
    "# b1 is given by sum( ((x - x_mean)*(y-y_mean)) /((x-x_mean)^2)\n",
    "# Given that the values of x remain constant, the \n",
    "\n",
    "\n",
    "t_statistic(b1_, 0, )"
   ]
  },
  {
   "cell_type": "markdown",
   "metadata": {},
   "source": [
    "## R-squared (R^2)\n",
    "\n",
    "R^2 is a common statistic to measure how much of the variance from the mean can be accounted for by the model. 1-R^2 is the remaining variance. The remaining variance is attributed to random error by the model. The model is considered better if it can cut down on the remaining variance (by having a higher R^2) because this remainig variance is often the work of unconsidered factors rather than truly random error.\n",
    "\n",
    "The basic concept behind R^2:\n",
    "* 1 - u/v, where u is the variance of the data from the model, and v is the variance from the mean.\n",
    "* Instead of variance RSS can be used because u and v are based on the same number of observations\n",
    "* The max R^2 value is 1, which indicates that all variance has been accounted for\n",
    "* The acceptability of an R^2 value depends on how much real error there is, which depends on the field of study. In hard sciences, where there is less inherent error, R^2 threshhold is typicall > .60 (60%)\n"
   ]
  },
  {
   "cell_type": "code",
   "execution_count": 13,
   "metadata": {},
   "outputs": [
    {
     "name": "stdout",
     "output_type": "stream",
     "text": [
      "0.611875050850071\n"
     ]
    }
   ],
   "source": [
    "# R^2 is a common statistic to measure how much of the variance from the mean can be accounted for by the model\n",
    "# The remaining error is considered the error (*remember that this may actually be another factor that is at play but is considered error in the framework of the GLM)\n",
    "\n",
    "# basic idea behind R^2:\n",
    "# 1 - u/v, where u is the variance of the data from the model, and v is the variance from the mean.\n",
    "# Instead of variance RSS can be used because u and v are based on the same number of observations\n",
    "# The max R^2 value is 1, which indicates that all variance has been accounted for\n",
    "# The acceptability of an R^2 value depends on how much real error there is, which depends on the field of study. In hard sciences, where there is less inherent error, R^2 threshhold is typicall > .60 (60%)\n",
    "\n",
    "def r_squared(x, y, beta0, beta1):\n",
    "    \n",
    "    x = np.asarray(x)\n",
    "    y = np.asarray(y)\n",
    "    \n",
    "    y_hat = x*beta1 + beta0\n",
    "    u = np.sum((y-y_hat)**2)\n",
    "    \n",
    "    y_mean = y.mean()\n",
    "    v = np.sum((y-y_mean)**2)\n",
    "    \n",
    "    r_sq = 1-u/v\n",
    "    \n",
    "    return r_sq\n",
    "\n",
    "print(r_squared(X_, Y_, b0_, b1_))"
   ]
  },
  {
   "cell_type": "code",
   "execution_count": 6,
   "metadata": {},
   "outputs": [
    {
     "data": {
      "image/png": "[encoded data removed]",
      "text/plain": [
       "<Figure size 432x288 with 1 Axes>"
      ]
     },
     "metadata": {
      "needs_background": "light"
     },
     "output_type": "display_data"
    }
   ],
   "source": [
    "def rss(x,y,b1,b0):\n",
    "    x = list(x)\n",
    "    y = list(y)\n",
    "    rss_ = 0\n",
    "    for x_, y_ in zip(x,y):\n",
    "        rss_ += (y_ - (b1*x_+ b0))**2\n",
    "    #print(rss_)\n",
    "    return rss_\n",
    "\n",
    "b0_range = np.linspace(b0_*0, b0_*2, num=100)\n",
    "b1_range = np.linspace(b1_*0, b1_*2, num=100)\n",
    "\n",
    "rss_matrix = np.zeros((100,100))\n",
    "\n",
    "for i,b0_val in enumerate(b0_range):\n",
    "    for j,b1_val in enumerate(b1_range):\n",
    "        rss_matrix[i,j] = rss(X, Y, b1_val, b0_val)\n",
    "\n",
    "        \n",
    "\n",
    "plt.imshow(rss_matrix, cmap = 'Blues', aspect = 'equal')\n",
    "plt.title('Relationship between Residual Sum of Squares and combinations Beta0 and Beta1 values')\n",
    "plt.xlabel('Beta1')\n",
    "plt.ylabel('Beta0')\n",
    "ax = plt.gca()\n",
    "x_labels = plt.xticks()[1]\n",
    "y_labels = plt.yticks()[1]\n",
    "\n",
    "ax.set_xticklabels([0,0]+[round(x*(b1_*2/100), 3) for x in [0, 20, 40, 60, 80]])\n",
    "ax.set_yticklabels([0.0]+[round(y*(b0_*2/100), 3) for y in [0, 20, 40, 60, 80]])\n",
    "plt.show()"
   ]
  },
  {
   "cell_type": "markdown",
   "metadata": {},
   "source": [
    "## Linear regression via sklearn\n",
    "\n",
    "### sklearn organization\n",
    "1. Estimators: the parent class that encompasses everything that learns from the data, including transformers that filter data from a dataset. *Note: this is different from the typical use of estimator in ML texts, which is as a parameter or density estimator*\n",
    "2. Regressors: deal with continuous data by generating predictions based on the independant variable (which is also often called a regressor\n",
    "3. Classifier: deal with discrete (categorical) data in much the same way\n",
    "4. All sklearn resources are divided into 3 major areas -- supervised learning, unsupervised learning, model selection and evaluation -- and five minor areas. These areas can be examined in detail in the [sklearn user guide](https://scikit-learn.org/stable/user_guide.html).\n",
    "\n",
    "### [sklearn LinearRegression](https://scikit-learn.org/stable/modules/generated/sklearn.linear_model.LinearRegression.html)\n",
    "* At its core, sklearn uses the scipy.linalg.lstsq\n",
    "* In addition, it centers the data and normalizes it\n",
    "* Can handle sparse data, which is common when categorical data is vectorized so that all data is represented in binary"
   ]
  },
  {
   "cell_type": "code",
   "execution_count": 7,
   "metadata": {},
   "outputs": [
    {
     "name": "stdout",
     "output_type": "stream",
     "text": [
      "Same as what has been calculated previously\n",
      "_______\n",
      "\n",
      "b0 7.032593549127693\n",
      "b1 0.047536640433019764\n"
     ]
    }
   ],
   "source": [
    "# The premade solution, which is commonly used in machine learning.\n",
    "\n",
    "# https://scikit-learn.org/stable/modules/generated/sklearn.linear_model.LinearRegression.html\n",
    "from sklearn.linear_model import LinearRegression\n",
    "\n",
    "# Reshape so matches [n_samples, n_features] format that sklearn requires\n",
    "X_ = X.reshape(-1, 1)\n",
    "Y_ = Y.reshape(-1, 1)\n",
    "\n",
    "reg = LinearRegression()\n",
    "reg.fit(X_, Y_)\n",
    "\n",
    "print('Same as what has been calculated previously\\n_______\\n')\n",
    "print('b0', reg.intercept_[0])\n",
    "print('b1', reg.coef_[0][0])"
   ]
  },
  {
   "cell_type": "code",
   "execution_count": 10,
   "metadata": {},
   "outputs": [
    {
     "name": "stdout",
     "output_type": "stream",
     "text": [
      "<class 'list'>\n",
      "<class 'list'>\n"
     ]
    }
   ],
   "source": []
  }
 ],
 "metadata": {
  "kernelspec": {
   "display_name": "Python 3.7.6 64-bit ('tf': conda)",
   "language": "python",
   "name": "python37664bittfcondaf0a0b333407b4c12bfca13c48d28a585"
  },
  "language_info": {
   "codemirror_mode": {
    "name": "ipython",
    "version": 3
   },
   "file_extension": ".py",
   "mimetype": "text/x-python",
   "name": "python",
   "nbconvert_exporter": "python",
   "pygments_lexer": "ipython3",
   "version": "3.7.6"
  }
 },
 "nbformat": 4,
 "nbformat_minor": 4
}
