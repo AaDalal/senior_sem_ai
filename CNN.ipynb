{
 "cells": [
  {
   "cell_type": "markdown",
   "metadata": {},
   "source": [
    "# Convolutional Neural Network\n",
    "\n",
    "### Image data\n",
    "* An image typically has 3 dimensions: width, height, and channels (ie the R, G, and B)\n",
    "\n",
    "### The convolutional operation\n",
    "* The convolutional operation has a window (typically of size 3x3 or 5x5) which scans across the image's surface\n",
    "* The resulting chunks of the image are of the shape (NxNxNum_channels). The chunks dotted with a kernel array and an activation function is applied. The output has shape (1x1xN) where n is the number of convolutional neurons.\n",
    "* The transformed patches are stitched back together to form an image-like 3D array, which is called the output feature map\n",
    "* The convolutional operation is effective because \n",
    "  1. it can learn \"spatial heirarchies\" -- the idea that each item has distinct visual features which can be further broken down (Chollet, 2018, p. 123)\n",
    "  2. it can recognize a pattern at any location because the same kernel is dotted with each patch of an image (Chollet, 2018, p. 123)\n",
    "\n",
    "### The pooling operation (max-pooling)\n",
    "* The pooling operation also uses windows (typically with a stride = to window size so that there is not overlap)\n",
    "* A reduction operation is done on each window (max, mean etc) reducing the width and height but typically leaving the number of channels the same.\n",
    "* The transformed windows are stitched back together to form an output map\n",
    "* The pooling operation is needed so that\n",
    "  1. Information from multiple areas is combined so that the next convolutional layer looks at a bigger area -- pooling layers effectively let us go up the spatial heirarchy (Chollet, 2018, p. 128)\n",
    "  2. The number of coefficients is reduced (Chollet, 2018, p. 128)\n",
    "\n"
   ]
  },
  {
   "cell_type": "markdown",
   "metadata": {},
   "source": [
    "<center>Resources</center>\n",
    "\n",
    "Chollet, F. (2018). Deep learning with Python. Manning Publications Co\n",
    "\n",
    "https://sci2s.ugr.es/keel/pdf/algorithm/articulo/1985-IEEE_TSMC-Keller.pdf"
   ]
  },
  {
   "cell_type": "code",
   "execution_count": 3,
   "metadata": {},
   "outputs": [],
   "source": [
    "import numpy as np\n",
    "\n",
    "def relu(x):\n",
    "    np.maximum(0, x)\n",
    "\n",
    "def naive_convolutional_operation(image, patch_size, kernel, activation = relu,padding = False, strides = 1):\n",
    "    #assert image.ndim == 3\n",
    "    \n",
    "    border_effect = patch_size // 2\n",
    "    if padding:\n",
    "        padded_shape = [image.shape[0] + 2*border_effect] + [image.shape[1] + 2*border_effect] + [image.shape[2]]     \n",
    "        feature_map = np.zeros(padded_shape)\n",
    "        feature_map[border_effect:border_effect+image.shape[0], border_effect:border_effect+image.shape[1],:] = image\n",
    "    else:\n",
    "        feature_map = np.array(image, copy = True)\n",
    "    \n",
    "    patches = []\n",
    "    for i in np.arange(start = border_effect, stop = feature_map.shape[0] - border_effect, step = strides):\n",
    "        for j in np.arange(start = border_effect, stop = feature_map.shape[1] - border_effect, step = strides):\n",
    "            patches.append(feature_map[i-border_effect:(i+border_effect+1), j-border_effect:(j+border_effect+1)])\n",
    "    \n",
    "    out_map = []\n",
    "    for patch in patches:\n",
    "        out_map.append(activation(np.dot(patch, kernel)))\n",
    "        \n",
    "    out_map = np.array(np.split(np.array(out_map), (feature_map.shape[0] - border_effect*2) // strides))\n",
    "    \n",
    "    print(out_map.shape)\n",
    "    \n",
    "    return out_map\n",
    "\n",
    "def max_pooling(patch):\n",
    "    return np.max(patch, axis = (0,1))\n",
    "    \n",
    "    \n",
    "def pooling(map_in, patch_size, stride, pooling_func):\n",
    "    border_effect = patch_size - 1\n",
    "    \n",
    "    patches = []\n",
    "    for i in np.arange(start = 0, stop = map_in.shape[0] - patch_size + 1, step = stride):\n",
    "        for j in np.arange(start = 0, stop = map_in.shape[1] - patch_size + 1, step = stride):\n",
    "            patches.append(map_in[i:i+patch_size,j:j+patch_size])\n",
    "    print(len(patches))\n",
    "    \n",
    "    out_map = []\n",
    "    for patch in patches:\n",
    "        out_map.append(pooling_func(patch))\n",
    "    \n",
    "    out_map = np.array(np.split(np.array(out_map), (map_in.shape[0]) // stride))\n",
    "    \n",
    "    return out_map"
   ]
  },
  {
   "cell_type": "code",
   "execution_count": 24,
   "metadata": {},
   "outputs": [],
   "source": [
    "import tensorflow.keras as keras\n",
    "from tensorflow.keras.datasets import mnist\n",
    "import pathlib\n",
    "\n",
    "datasets = pathlib.Path()\n",
    "\n",
    "(x_train, y_train), (x_test, y_test) = mnist.load_data(path = 'mnist')"
   ]
  },
  {
   "cell_type": "code",
   "execution_count": 7,
   "metadata": {},
   "outputs": [
    {
     "data": {
      "text/plain": [
       "Text(0.5,1,'Original Image')"
      ]
     },
     "execution_count": 7,
     "metadata": {},
     "output_type": "execute_result"
    },
    {
     "data": {
      "image/png": "[encoded data removed]",
      "text/plain": [
       "<Figure size 432x288 with 1 Axes>"
      ]
     },
     "metadata": {
      "needs_background": "light"
     },
     "output_type": "display_data"
    }
   ],
   "source": [
    "import matplotlib.pyplot as plt\n",
    "\n",
    "plt.imshow(x_train[1], cmap = 'Greys_r')\n",
    "plt.title('Original Image')"
   ]
  },
  {
   "cell_type": "code",
   "execution_count": 145,
   "metadata": {},
   "outputs": [
    {
     "name": "stdout",
     "output_type": "stream",
     "text": [
      "Image is (28, 28) grayscale of 0 to 255 values\n",
      "Output Shape: \n",
      "(26, 26, 3)\n"
     ]
    },
    {
     "data": {
      "text/plain": [
       "Text(0.5,1,'Image After Sample Convolutional Operation')"
      ]
     },
     "execution_count": 145,
     "metadata": {},
     "output_type": "execute_result"
    },
    {
     "data": {
      "image/png": "[encoded data removed]",
      "text/plain": [
       "<Figure size 432x288 with 1 Axes>"
      ]
     },
     "metadata": {
      "needs_background": "light"
     },
     "output_type": "display_data"
    }
   ],
   "source": [
    "import numpy as np\n",
    "\n",
    "print(f'Image is {x_train[1].shape} grayscale of {np.min(x_train[1])} to {np.max(x_train[1])} values')\n",
    "\n",
    "ex_kernel = np.array([1, 0, 0])\n",
    "print('Output Shape: ')\n",
    "out = naive_convolutional_operation(x_train[1], 3, ex_kernel)\n",
    "\n",
    "plt.imshow(out)\n",
    "plt.title('Image After Sample Convolutional Operation')"
   ]
  },
  {
   "cell_type": "code",
   "execution_count": 144,
   "metadata": {},
   "outputs": [
    {
     "name": "stdout",
     "output_type": "stream",
     "text": [
      "169\n"
     ]
    },
    {
     "data": {
      "text/plain": [
       "Text(0.5,1,'Image After Max Pooling')"
      ]
     },
     "execution_count": 144,
     "metadata": {},
     "output_type": "execute_result"
    },
    {
     "data": {
      "image/png": "[encoded data removed]",
      "text/plain": [
       "<Figure size 432x288 with 1 Axes>"
      ]
     },
     "metadata": {
      "needs_background": "light"
     },
     "output_type": "display_data"
    }
   ],
   "source": [
    "pooled = pooling(out, 2, 2, max_pooling)\n",
    "pooled.shape\n",
    "plt.imshow(pooled)\n",
    "\n",
    "plt.title('Image After Max Pooling')"
   ]
  },
  {
   "cell_type": "code",
   "execution_count": 25,
   "metadata": {},
   "outputs": [
    {
     "name": "stdout",
     "output_type": "stream",
     "text": [
      "(60000, 28, 28) (60000, 10)\n",
      "(10000, 28, 28) (10000, 10)\n",
      "Model: \"sequential_7\"\n",
      "_________________________________________________________________\n",
      "Layer (type)                 Output Shape              Param #   \n",
      "=================================================================\n",
      "conv2d_21 (Conv2D)           (None, 26, 26, 32)        320       \n",
      "_________________________________________________________________\n",
      "max_pooling2d_14 (MaxPooling (None, 13, 13, 32)        0         \n",
      "_________________________________________________________________\n",
      "conv2d_22 (Conv2D)           (None, 11, 11, 64)        18496     \n",
      "_________________________________________________________________\n",
      "max_pooling2d_15 (MaxPooling (None, 5, 5, 64)          0         \n",
      "_________________________________________________________________\n",
      "conv2d_23 (Conv2D)           (None, 3, 3, 64)          36928     \n",
      "_________________________________________________________________\n",
      "flatten_7 (Flatten)          (None, 576)               0         \n",
      "_________________________________________________________________\n",
      "dense_14 (Dense)             (None, 64)                36928     \n",
      "_________________________________________________________________\n",
      "dense_15 (Dense)             (None, 10)                650       \n",
      "=================================================================\n",
      "Total params: 93,322\n",
      "Trainable params: 93,322\n",
      "Non-trainable params: 0\n",
      "_________________________________________________________________\n"
     ]
    }
   ],
   "source": [
    "# Convnet\n",
    "from tensorflow.keras import layers\n",
    "from tensorflow.keras import models\n",
    "from tensorflow.keras.utils import to_categorical\n",
    "\n",
    "# Standardize data\n",
    "x_train = x_train / 255\n",
    "x_test = x_test / 255\n",
    "y_train = to_categorical(y_train)\n",
    "y_test = to_categorical(y_test)\n",
    "\n",
    "print(x_train.shape, y_train.shape)\n",
    "print(x_test.shape, y_test.shape)\n",
    "\n",
    "# Just like in a perceptron, each layer is made up of units. This time, each unit performs a convolutional operations. \n",
    "model = models.Sequential()\n",
    "model.add(layers.Conv2D(32, (3,3), activation = 'relu', input_shape = (28,28,1)))\n",
    "model.add(layers.MaxPooling2D((2,2))) # Strides default to pool size\n",
    "model.add(layers.Conv2D(64, (3,3)))\n",
    "model.add(layers.MaxPooling2D((2,2)))\n",
    "model.add(layers.Conv2D(64, (3,3)))\n",
    "# The output of the convnet, which has identified the features of the image is passed to a perceptron to classify.\n",
    "model.add(layers.Flatten())\n",
    "model.add(layers.Dense(64, activation = 'relu'))\n",
    "model.add(layers.Dense(10, activation = 'softmax'))\n",
    "model.compile(optimizer = 'rmsprop',\n",
    "              loss = 'categorical_crossentropy',\n",
    "              metrics = ['accuracy'])\n",
    "model.summary()"
   ]
  },
  {
   "cell_type": "code",
   "execution_count": 26,
   "metadata": {},
   "outputs": [
    {
     "name": "stdout",
     "output_type": "stream",
     "text": [
      "Epoch 1/5\n",
      "60000/60000 [==============================] - 75s 1ms/sample - loss: 0.1566 - acc: 0.9504\n",
      "Epoch 2/5\n",
      "60000/60000 [==============================] - 73s 1ms/sample - loss: 0.0509 - acc: 0.9846\n",
      "Epoch 3/5\n",
      "60000/60000 [==============================] - 71s 1ms/sample - loss: 0.0375 - acc: 0.9884\n",
      "Epoch 4/5\n",
      "60000/60000 [==============================] - 66s 1ms/sample - loss: 0.0305 - acc: 0.9908\n",
      "Epoch 5/5\n",
      "60000/60000 [==============================] - 65s 1ms/sample - loss: 0.0232 - acc: 0.9929\n"
     ]
    }
   ],
   "source": [
    "history = model.fit(x_train.reshape(*x_train.shape, 1), y_train, epochs = 5, batch_size = 64)"
   ]
  },
  {
   "cell_type": "code",
   "execution_count": 27,
   "metadata": {},
   "outputs": [
    {
     "name": "stdout",
     "output_type": "stream",
     "text": [
      "(10000, 28, 28) (10000, 10)\n",
      "10000/10000 [==============================] - 4s 433us/sample - loss: 0.0374 - acc: 0.9905\n"
     ]
    }
   ],
   "source": [
    "print(x_test.shape, y_test.shape)\n",
    "test_loss, test_acc = model.evaluate(x_test.reshape(*x_test.shape, 1), y_test)"
   ]
  },
  {
   "cell_type": "markdown",
   "metadata": {},
   "source": [
    "### 1. Type of Data\n",
    "* Visual\n",
    "\n",
    "### 2. Use Case\n",
    "* In any visual processing task\n",
    "\n",
    "### 3. Application\n",
    "* Categorical identification of data\n",
    "\n",
    "### 4. Basic Concept\n",
    "\n",
    "##### The convolutional operation\n",
    "* The convolutional operation has a window (typically of size 3x3 or 5x5) which scans across the image's surface\n",
    "* The resulting chunks of the image are of the shape (NxNxNum_channels). The chunks dotted with a kernel array and an activation function is applied. The output has shape (1x1xN) where n is the number of convolutional neurons.\n",
    "* The transformed patches are stitched back together to form an image-like 3D array, which is called the output feature map\n",
    "* The convolutional operation is effective because \n",
    "  1. it can learn \"spatial heirarchies\" -- the idea that each item has distinct visual features which can be further broken down (Chollet, 2018, p. 123)\n",
    "  2. it can recognize a pattern at any location because the same kernel is dotted with each patch of an image (Chollet, 2018, p. 123)\n",
    "\n",
    "##### The pooling operation (max-pooling)\n",
    "* The pooling operation also uses windows (typically with a stride = to window size so that there is not overlap)\n",
    "* A reduction operation is done on each window (max, mean etc) reducing the width and height but typically leaving the number of channels the same.\n",
    "* The transformed windows are stitched back together to form an output map\n",
    "* The pooling operation is needed so that\n",
    "  1. Information from multiple areas is combined so that the next convolutional layer looks at a bigger area -- pooling layers effectively let us go up the spatial heirarchy (Chollet, 2018, p. 128)\n",
    "  2. The number of coefficients is reduced (Chollet, 2018, p. 128)\n",
    "\n",
    "##### Categorization\n",
    "* A simple dense neural network terminating in softmax activation can then take the output of the convnet and categorize it.\n",
    "\n",
    "### 5. Assumptions\n",
    "* There are spatial heirarchies\n",
    "\n",
    "### 6. Existing solutions\n",
    "* Keras, as seen above\n",
    "\n",
    "### 7. Strengths and Weaknesses\n",
    "#### Strengths\n",
    "* Current benchmark for visual data\n",
    "\n",
    "#### Weaknesses\n",
    "* Opaque like most deep learning techniques\n",
    "* Requires large amount of data"
   ]
  }
 ],
 "metadata": {
  "kernelspec": {
   "display_name": "Python 3.7.1 64-bit ('tf2': conda)",
   "language": "python",
   "name": "tf2"
  },
  "language_info": {
   "codemirror_mode": {
    "name": "ipython",
    "version": 3
   },
   "file_extension": ".py",
   "mimetype": "text/x-python",
   "name": "python",
   "nbconvert_exporter": "python",
   "pygments_lexer": "ipython3",
   "version": "3.7.1"
  }
 },
 "nbformat": 4,
 "nbformat_minor": 2
}
